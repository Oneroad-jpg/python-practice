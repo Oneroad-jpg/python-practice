{
 "cells": [
  {
   "cell_type": "code",
   "execution_count": 4,
   "id": "39a09fca",
   "metadata": {},
   "outputs": [
    {
     "name": "stdout",
     "output_type": "stream",
     "text": [
      "[2, 4, 6, 8, 10]\n"
     ]
    }
   ],
   "source": [
    "\"\"\"課題:\n",
    "リスト `numbers = [1, 2, 3, 4, 5, 6, 7, 8, 9, 10]` \n",
    "偶数だけを取り出して、新しいリスト `even_numbers` \n",
    "最後に、完成した `even_numbers` \n",
    "リストを出力するプログラムを、`for` ループと `if` 文を使って作成\n",
    "期待される出力結果:\n",
    "[2, 4, 6, 8, 10]\"\"\"\n",
    "# リストを作成\n",
    "numbers = [1, 2, 3, 4, 5, 6, 7, 8, 9, 10]\n",
    "# 新しいリストを作成\n",
    "even_numbers = []\n",
    "# for in ループでnumbersの要素を取り出す\n",
    "for number in numbers:\n",
    "    # number の中から偶数を取り出して変数に格納\n",
    "    if number % 2 == 0:\n",
    "        #even_number = number\n",
    "        # 取り出した偶数を新しいリストに追加\n",
    "        #even_numbers.append(even_number)\n",
    "        # if節でnumberは偶数であることが確定している\n",
    "        even_numbers.append(number)# 変数をeven_number は不要\n",
    "\n",
    "\n",
    "# 新しいリストを表示\n",
    "print(even_numbers)"
   ]
  },
  {
   "cell_type": "code",
   "execution_count": 5,
   "id": "6069cac3",
   "metadata": {},
   "outputs": [
    {
     "name": "stdout",
     "output_type": "stream",
     "text": [
      "4.0\n"
     ]
    }
   ],
   "source": [
    "\"\"\"モジュールの使い方\n",
    "import math\n",
    "# 「math」という道具箱の中の、\n",
    "# 「sqrt」という道具を使って、16の平方根を計算する\n",
    "result = math.sqrt(16)\n",
    "print(result)\"\"\"\n",
    "\n",
    "# モジュールmath を組み込む\n",
    "import math\n",
    "\n",
    "# sqrt・・平方根\n",
    "result = math.sqrt(16)\n",
    "# 16 の平方根を表示\n",
    "print(result)"
   ]
  },
  {
   "cell_type": "code",
   "execution_count": null,
   "id": "b15c373e",
   "metadata": {},
   "outputs": [
    {
     "data": {
      "text/plain": [
       "'サブタスク1：代表的な組み込みモジュールに触れてみる\\n学習目標: Pythonに標準で付属している便利なモジュールがどのようなものかを知り、\\n実際に使ってみる。\\n内容:\\nmath モジュールを使って、円周率 pi を表示してみましょう。\\nrandom モジュールを使って、1から10までのランダムな整数を1つ生成してみましょう。（ヒント：random.randint(1, 10) という道具を使います）\\nos モジュールを使って、今作業しているディレクトリ（カレントディレクトリ）のパスを表示してみましょう。（ヒント：os.getcwd() という道具を使います）\\n開発環境: Jupyter Notebook'"
      ]
     },
     "execution_count": 6,
     "metadata": {},
     "output_type": "execute_result"
    }
   ],
   "source": [
    "\"\"\"サブタスク1：代表的な組み込みモジュールに触れてみる\n",
    "学習目標: Pythonに標準で付属している\n",
    "便利なモジュールがどのようなものかを知り、\n",
    "実際に使ってみる。\n",
    "内容:\n",
    "math モジュールを使って、円周率 pi を表示してみましょう。\n",
    "random モジュールを使って、\n",
    "1から10までのランダムな整数を1つ生成してみましょう。\n",
    "（ヒント：random.randint(1, 10) という道具を使います）\n",
    "os モジュールを使って、今作業しているディレクトリ\n",
    "（カレントディレクトリ）のパスを表示してみましょう。\n",
    "（ヒント：os.getcwd() という道具を使います）\n",
    "開発環境: Jupyter Notebook\"\"\""
   ]
  },
  {
   "cell_type": "code",
   "execution_count": 7,
   "id": "3001221e",
   "metadata": {},
   "outputs": [],
   "source": [
    "# モジュール用のセル\n",
    "import math\n",
    "import random\n",
    "import os"
   ]
  },
  {
   "cell_type": "code",
   "execution_count": 1,
   "id": "f5e19964",
   "metadata": {},
   "outputs": [
    {
     "ename": "NameError",
     "evalue": "name 'math' is not defined",
     "output_type": "error",
     "traceback": [
      "\u001b[31m---------------------------------------------------------------------------\u001b[39m",
      "\u001b[31mNameError\u001b[39m                                 Traceback (most recent call last)",
      "\u001b[36mCell\u001b[39m\u001b[36m \u001b[39m\u001b[32mIn[1]\u001b[39m\u001b[32m, line 2\u001b[39m\n\u001b[32m      1\u001b[39m \u001b[38;5;66;03m# mathモジュールを使い円周率を表示\u001b[39;00m\n\u001b[32m----> \u001b[39m\u001b[32m2\u001b[39m result_math = \u001b[43mmath\u001b[49m.pi\n\u001b[32m      3\u001b[39m \u001b[38;5;28mprint\u001b[39m(result_math)\n\u001b[32m      4\u001b[39m \u001b[38;5;66;03m# randomモジュールを使い１から10までのランダムな整数を１つ生成\u001b[39;00m\n",
      "\u001b[31mNameError\u001b[39m: name 'math' is not defined"
     ]
    }
   ],
   "source": [
    "# mathモジュールを使い円周率を表示\n",
    "result_math = math.pi\n",
    "print(result_math)\n",
    "# randomモジュールを使い１から10までのランダムな整数を１つ生成\n",
    "result_random = random.randint(1, 10)\n",
    "print(result_random)\n",
    "# os モジュールを使いカレントディレクトリのパスを表示\n",
    "# os.getcwd()を使う\n",
    "result_os = os.getcwd()\n",
    "print(result_os)"
   ]
  },
  {
   "cell_type": "code",
   "execution_count": 2,
   "id": "2b00cc2a",
   "metadata": {},
   "outputs": [
    {
     "name": "stdout",
     "output_type": "stream",
     "text": [
      "4.0\n"
     ]
    }
   ],
   "source": [
    "\"\"\"from math import sqrt\n",
    "result = sqrt(16) # math. と書かなくてよい\"\"\"\n",
    "\n",
    "from math import sqrt\n",
    "result_math = sqrt(16)\n",
    "print(result_math)"
   ]
  },
  {
   "cell_type": "code",
   "execution_count": 3,
   "id": "f6623858",
   "metadata": {},
   "outputs": [
    {
     "data": {
      "text/plain": [
       "'内容:\\nfrom math import pi, sqrt という形で、\\nmath モジュールから円周率 pi と平方根 sqrt を一度にインポート\\n\\npi を print で表示してください。\\n（math.pi と書かなくてよいことを確認）\\n\\nsqrt(25) の計算結果を print で表示\\n（math.sqrt と書かなくてよいことを確認）'"
      ]
     },
     "execution_count": 3,
     "metadata": {},
     "output_type": "execute_result"
    }
   ],
   "source": [
    "\"\"\"内容:\n",
    "from math import pi, sqrt という形で、\n",
    "math モジュールから円周率 pi と平方根 sqrt を一度にインポート\n",
    "\n",
    "pi を print で表示してください。\n",
    "（math.pi と書かなくてよいことを確認）\n",
    "\n",
    "sqrt(25) の計算結果を print で表示\n",
    "（math.sqrt と書かなくてよいことを確認）\"\"\""
   ]
  },
  {
   "cell_type": "code",
   "execution_count": null,
   "id": "6ae57300",
   "metadata": {},
   "outputs": [
    {
     "name": "stdout",
     "output_type": "stream",
     "text": [
      "3.141592653589793\n",
      "5.0\n"
     ]
    }
   ],
   "source": [
    "\"mathをimportせずに\"\n",
    "from math import pi, sqrt\n",
    "\"piを使う\"\n",
    "result_pi = pi\n",
    "print(result_pi)\n",
    "\n",
    "\"sqrtを使う\"\n",
    "result_sqrt = sqrt(25)\n",
    "print(result_sqrt)\n",
    "\n",
    "# 同じモジュールを使いまとめて作業する時は便利？"
   ]
  },
  {
   "cell_type": "code",
   "execution_count": 1,
   "id": "c982e401",
   "metadata": {},
   "outputs": [
    {
     "name": "stdout",
     "output_type": "stream",
     "text": [
      "/Users/oneroad/dokugaku-python\n"
     ]
    }
   ],
   "source": [
    "\"\"\"学習目標: import ... as ... の構文を理解し、\n",
    "別名を使ってモジュールを操作できるようになる。\n",
    "内容:\n",
    "os モジュールを、operating_system という\n",
    "「あだ名」でインポートしてください。\n",
    "そのあだ名を使って、getcwd() を実行し、\n",
    "結果を表示してください。\n",
    "\"\"\"\n",
    "# osモジュールをインポートして仮名をつける\n",
    "import os as operating_system\n",
    "# 仮名を使って関数を実行\n",
    "print(operating_system.getcwd())"
   ]
  },
  {
   "cell_type": "code",
   "execution_count": null,
   "id": "012cb8af",
   "metadata": {},
   "outputs": [],
   "source": []
  }
 ],
 "metadata": {
  "kernelspec": {
   "display_name": "Python (独学プログラマー用)",
   "language": "python",
   "name": "dokugaku-env"
  },
  "language_info": {
   "codemirror_mode": {
    "name": "ipython",
    "version": 3
   },
   "file_extension": ".py",
   "mimetype": "text/x-python",
   "name": "python",
   "nbconvert_exporter": "python",
   "pygments_lexer": "ipython3",
   "version": "3.12.4"
  }
 },
 "nbformat": 4,
 "nbformat_minor": 5
}
