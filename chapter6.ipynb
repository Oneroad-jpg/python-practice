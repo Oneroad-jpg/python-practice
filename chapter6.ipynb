{
 "cells": [
  {
   "cell_type": "code",
   "execution_count": null,
   "id": "2898efbb-184b-478d-93a6-b637aec81944",
   "metadata": {},
   "outputs": [
    {
     "name": "stdout",
     "output_type": "stream",
     "text": [
      "P\n",
      "h\n"
     ]
    }
   ],
   "source": [
    "# \"P\", \"y\", \"t\", \"h\", \"o\", \"n\"\n",
    "#  0    1    2    3    4    5\n",
    "my_string = \"Python\"\n",
    "\n",
    "# 0番目の文字を取り出す\n",
    "char_p = my_string[0]\n",
    "print(char_p)\n",
    "\n",
    "# 3番目の文字を取り出す\n",
    "char_h = my_string[3]\n",
    "print(char_h)\n",
    "\n",
    "P\n",
    "h"
   ]
  },
  {
   "cell_type": "code",
   "execution_count": null,
   "id": "248e0344",
   "metadata": {},
   "outputs": [
    {
     "ename": "TypeError",
     "evalue": "'str' object does not support item assignment",
     "output_type": "error",
     "traceback": [
      "\u001b[31m---------------------------------------------------------------------------\u001b[39m\n",
      "\u001b[31mTypeError\u001b[39m                                 Traceback (most recent call last)\n",
      "\u001b[36mCell\u001b[39m\u001b[36m \u001b[39m\u001b[32mIn[2]\u001b[39m\u001b[32m, line 5\u001b[39m\n",
      "\u001b[32m      2\u001b[39m my_string = \u001b[33m\"\u001b[39m\u001b[33mPython\u001b[39m\u001b[33m\"\u001b[39m\n",
      "\u001b[32m      4\u001b[39m \u001b[38;5;66;03m# 0番目の文字を’J'に変更できるか？\u001b[39;00m\n",
      "\u001b[32m----> \u001b[39m\u001b[32m5\u001b[39m \u001b[43mmy_string\u001b[49m\u001b[43m[\u001b[49m\u001b[32;43m0\u001b[39;49m\u001b[43m]\u001b[49m = \u001b[33m\"\u001b[39m\u001b[33mJ\u001b[39m\u001b[33m\"\u001b[39m\n",
      "\n",
      "\u001b[31mTypeError\u001b[39m: 'str' object does not support item assignment"
     ]
    }
   ],
   "source": [
    "# 文字列を作成\n",
    "my_string = \"Python\"\n",
    "\n",
    "# 0番目の文字を’J'に変更できるか？\n",
    "my_string[0] = \"J\"\n",
    "\n",
    "---------------------------------------------------------------------------\n",
    "TypeError                                 Traceback (most recent call last)\n",
    "Cell In[2], line 5\n",
    "      2 my_string = \"Python\"\n",
    "      4 # 0番目の文字を’J'に変更できるか？\n",
    "----> 5 my_string[0] = \"J\"\n",
    "\n",
    "TypeError: 'str' object does not support item assignment"
   ]
  },
  {
   "cell_type": "code",
   "execution_count": null,
   "id": "28ecb03f",
   "metadata": {},
   "outputs": [
    {
     "ename": "TypeError",
     "evalue": "'str' object does not support item assignment",
     "output_type": "error",
     "traceback": [
      "\u001b[31m---------------------------------------------------------------------------\u001b[39m\n",
      "\u001b[31mTypeError\u001b[39m                                 Traceback (most recent call last)\n",
      "\u001b[36mCell\u001b[39m\u001b[36m \u001b[39m\u001b[32mIn[2]\u001b[39m\u001b[32m, line 5\u001b[39m\n",
      "\u001b[32m      2\u001b[39m my_string = \u001b[33m\"\u001b[39m\u001b[33mPython\u001b[39m\u001b[33m\"\u001b[39m\n",
      "\u001b[32m      4\u001b[39m \u001b[38;5;66;03m# 0番目の文字を’J'に変更できるか？\u001b[39;00m\n",
      "\u001b[32m----> \u001b[39m\u001b[32m5\u001b[39m \u001b[43mmy_string\u001b[49m\u001b[43m[\u001b[49m\u001b[32;43m0\u001b[39;49m\u001b[43m]\u001b[49m = \u001b[33m\"\u001b[39m\u001b[33mJ\u001b[39m\u001b[33m\"\u001b[39m\n",
      "\n",
      "\u001b[31mTypeError\u001b[39m: 'str' object does not support item assignment"
     ]
    }
   ],
   "source": [
    "# 文字列を作成\n",
    "my_string = \"Python\"\n",
    "\n",
    "# 0番目の文字を’J'に変更できるか？\n",
    "my_string[0] = \"J\"\n",
    "\n",
    "---------------------------------------------------------------------------\n",
    "TypeError                                 Traceback (most recent call last)\n",
    "Cell In[2], line 5\n",
    "      2 my_string = \"Python\"\n",
    "      4 # 0番目の文字を’J'に変更できるか？\n",
    "----> 5 my_string[0] = \"J\"\n",
    "\n",
    "TypeError: 'str' object does not support item assignment"
   ]
  },
  {
   "cell_type": "code",
   "execution_count": null,
   "id": "2c5549b6",
   "metadata": {},
   "outputs": [
    {
     "ename": "TypeError",
     "evalue": "'str' object does not support item assignment",
     "output_type": "error",
     "traceback": [
      "\u001b[31m---------------------------------------------------------------------------\u001b[39m\n",
      "\u001b[31mTypeError\u001b[39m                                 Traceback (most recent call last)\n",
      "\u001b[36mCell\u001b[39m\u001b[36m \u001b[39m\u001b[32mIn[2]\u001b[39m\u001b[32m, line 5\u001b[39m\n",
      "\u001b[32m      2\u001b[39m my_string = \u001b[33m\"\u001b[39m\u001b[33mPython\u001b[39m\u001b[33m\"\u001b[39m\n",
      "\u001b[32m      4\u001b[39m \u001b[38;5;66;03m# 0番目の文字を’J'に変更できるか？\u001b[39;00m\n",
      "\u001b[32m----> \u001b[39m\u001b[32m5\u001b[39m \u001b[43mmy_string\u001b[49m\u001b[43m[\u001b[49m\u001b[32;43m0\u001b[39;49m\u001b[43m]\u001b[49m = \u001b[33m\"\u001b[39m\u001b[33mJ\u001b[39m\u001b[33m\"\u001b[39m\n",
      "\n",
      "\u001b[31mTypeError\u001b[39m: 'str' object does not support item assignment"
     ]
    }
   ],
   "source": [
    "# 文字列を作成\n",
    "my_string = \"Python\"\n",
    "\n",
    "# 0番目の文字を’J'に変更できるか？\n",
    "my_string[0] = \"J\"\n",
    "\n",
    "---------------------------------------------------------------------------\n",
    "TypeError                                 Traceback (most recent call last)\n",
    "Cell In[2], line 5\n",
    "      2 my_string = \"Python\"\n",
    "      4 # 0番目の文字を’J'に変更できるか？\n",
    "----> 5 my_string[0] = \"J\"\n",
    "\n",
    "TypeError: 'str' object does not support item assignment"
   ]
  },
  {
   "cell_type": "code",
   "execution_count": null,
   "id": "2a0ef960",
   "metadata": {},
   "outputs": [
    {
     "ename": "TypeError",
     "evalue": "'str' object does not support item assignment",
     "output_type": "error",
     "traceback": [
      "\u001b[31m---------------------------------------------------------------------------\u001b[39m\n",
      "\u001b[31mTypeError\u001b[39m                                 Traceback (most recent call last)\n",
      "\u001b[36mCell\u001b[39m\u001b[36m \u001b[39m\u001b[32mIn[2]\u001b[39m\u001b[32m, line 5\u001b[39m\n",
      "\u001b[32m      2\u001b[39m my_string = \u001b[33m\"\u001b[39m\u001b[33mPython\u001b[39m\u001b[33m\"\u001b[39m\n",
      "\u001b[32m      4\u001b[39m \u001b[38;5;66;03m# 0番目の文字を’J'に変更できるか？\u001b[39;00m\n",
      "\u001b[32m----> \u001b[39m\u001b[32m5\u001b[39m \u001b[43mmy_string\u001b[49m\u001b[43m[\u001b[49m\u001b[32;43m0\u001b[39;49m\u001b[43m]\u001b[49m = \u001b[33m\"\u001b[39m\u001b[33mJ\u001b[39m\u001b[33m\"\u001b[39m\n",
      "\n",
      "\u001b[31mTypeError\u001b[39m: 'str' object does not support item assignment"
     ]
    }
   ],
   "source": [
    "# 文字列を作成\n",
    "my_string = \"Python\"\n",
    "\n",
    "# 0番目の文字を’J'に変更できるか？\n",
    "my_string[0] = \"J\"\n",
    "\n",
    "---------------------------------------------------------------------------\n",
    "TypeError                                 Traceback (most recent call last)\n",
    "Cell In[2], line 5\n",
    "      2 my_string = \"Python\"\n",
    "      4 # 0番目の文字を’J'に変更できるか？\n",
    "----> 5 my_string[0] = \"J\"\n",
    "\n",
    "TypeError: 'str' object does not support item assignment"
   ]
  },
  {
   "cell_type": "code",
   "execution_count": null,
   "id": "14b08b2c",
   "metadata": {},
   "outputs": [
    {
     "ename": "TypeError",
     "evalue": "'str' object does not support item assignment",
     "output_type": "error",
     "traceback": [
      "\u001b[31m---------------------------------------------------------------------------\u001b[39m\n",
      "\u001b[31mTypeError\u001b[39m                                 Traceback (most recent call last)\n",
      "\u001b[36mCell\u001b[39m\u001b[36m \u001b[39m\u001b[32mIn[2]\u001b[39m\u001b[32m, line 5\u001b[39m\n",
      "\u001b[32m      2\u001b[39m my_string = \u001b[33m\"\u001b[39m\u001b[33mPython\u001b[39m\u001b[33m\"\u001b[39m\n",
      "\u001b[32m      4\u001b[39m \u001b[38;5;66;03m# 0番目の文字を’J'に変更できるか？\u001b[39;00m\n",
      "\u001b[32m----> \u001b[39m\u001b[32m5\u001b[39m \u001b[43mmy_string\u001b[49m\u001b[43m[\u001b[49m\u001b[32;43m0\u001b[39;49m\u001b[43m]\u001b[49m = \u001b[33m\"\u001b[39m\u001b[33mJ\u001b[39m\u001b[33m\"\u001b[39m\n",
      "\n",
      "\u001b[31mTypeError\u001b[39m: 'str' object does not support item assignment"
     ]
    }
   ],
   "source": [
    "# 文字列を作成\n",
    "my_string = \"Python\"\n",
    "\n",
    "# 0番目の文字を’J'に変更できるか？\n",
    "my_string[0] = \"J\"\n",
    "\n",
    "---------------------------------------------------------------------------\n",
    "TypeError                                 Traceback (most recent call last)\n",
    "Cell In[2], line 5\n",
    "      2 my_string = \"Python\"\n",
    "      4 # 0番目の文字を’J'に変更できるか？\n",
    "----> 5 my_string[0] = \"J\"\n",
    "\n",
    "TypeError: 'str' object does not support item assignment"
   ]
  },
  {
   "cell_type": "code",
   "execution_count": null,
   "id": "b05b46f9",
   "metadata": {},
   "outputs": [
    {
     "ename": "TypeError",
     "evalue": "'str' object does not support item assignment",
     "output_type": "error",
     "traceback": [
      "\u001b[31m---------------------------------------------------------------------------\u001b[39m\n",
      "\u001b[31mTypeError\u001b[39m                                 Traceback (most recent call last)\n",
      "\u001b[36mCell\u001b[39m\u001b[36m \u001b[39m\u001b[32mIn[2]\u001b[39m\u001b[32m, line 5\u001b[39m\n",
      "\u001b[32m      2\u001b[39m my_string = \u001b[33m\"\u001b[39m\u001b[33mPython\u001b[39m\u001b[33m\"\u001b[39m\n",
      "\u001b[32m      4\u001b[39m \u001b[38;5;66;03m# 0番目の文字を’J'に変更できるか？\u001b[39;00m\n",
      "\u001b[32m----> \u001b[39m\u001b[32m5\u001b[39m \u001b[43mmy_string\u001b[49m\u001b[43m[\u001b[49m\u001b[32;43m0\u001b[39;49m\u001b[43m]\u001b[49m = \u001b[33m\"\u001b[39m\u001b[33mJ\u001b[39m\u001b[33m\"\u001b[39m\n",
      "\n",
      "\u001b[31mTypeError\u001b[39m: 'str' object does not support item assignment"
     ]
    }
   ],
   "source": [
    "# 文字列を作成\n",
    "my_string = \"Python\"\n",
    "\n",
    "# 0番目の文字を’J'に変更できるか？\n",
    "my_string[0] = \"J\"\n",
    "\n",
    "---------------------------------------------------------------------------\n",
    "TypeError                                 Traceback (most recent call last)\n",
    "Cell In[2], line 5\n",
    "      2 my_string = \"Python\"\n",
    "      4 # 0番目の文字を’J'に変更できるか？\n",
    "----> 5 my_string[0] = \"J\"\n",
    "\n",
    "TypeError: 'str' object does not support item assignment"
   ]
  },
  {
   "cell_type": "code",
   "execution_count": null,
   "id": "21468ab0",
   "metadata": {},
   "outputs": [
    {
     "ename": "TypeError",
     "evalue": "'str' object does not support item assignment",
     "output_type": "error",
     "traceback": [
      "\u001b[31m---------------------------------------------------------------------------\u001b[39m\n",
      "\u001b[31mTypeError\u001b[39m                                 Traceback (most recent call last)\n",
      "\u001b[36mCell\u001b[39m\u001b[36m \u001b[39m\u001b[32mIn[2]\u001b[39m\u001b[32m, line 5\u001b[39m\n",
      "\u001b[32m      2\u001b[39m my_string = \u001b[33m\"\u001b[39m\u001b[33mPython\u001b[39m\u001b[33m\"\u001b[39m\n",
      "\u001b[32m      4\u001b[39m \u001b[38;5;66;03m# 0番目の文字を’J'に変更できるか？\u001b[39;00m\n",
      "\u001b[32m----> \u001b[39m\u001b[32m5\u001b[39m \u001b[43mmy_string\u001b[49m\u001b[43m[\u001b[49m\u001b[32;43m0\u001b[39;49m\u001b[43m]\u001b[49m = \u001b[33m\"\u001b[39m\u001b[33mJ\u001b[39m\u001b[33m\"\u001b[39m\n",
      "\n",
      "\u001b[31mTypeError\u001b[39m: 'str' object does not support item assignment"
     ]
    }
   ],
   "source": [
    "# 文字列を作成\n",
    "my_string = \"Python\"\n",
    "\n",
    "# 0番目の文字を’J'に変更できるか？\n",
    "my_string[0] = \"J\"\n",
    "\n",
    "---------------------------------------------------------------------------\n",
    "TypeError                                 Traceback (most recent call last)\n",
    "Cell In[2], line 5\n",
    "      2 my_string = \"Python\"\n",
    "      4 # 0番目の文字を’J'に変更できるか？\n",
    "----> 5 my_string[0] = \"J\"\n",
    "\n",
    "TypeError: 'str' object does not support item assignment"
   ]
  },
  {
   "cell_type": "code",
   "execution_count": null,
   "id": "927622a2",
   "metadata": {},
   "outputs": [
    {
     "ename": "TypeError",
     "evalue": "'str' object does not support item assignment",
     "output_type": "error",
     "traceback": [
      "\u001b[31m---------------------------------------------------------------------------\u001b[39m\n",
      "\u001b[31mTypeError\u001b[39m                                 Traceback (most recent call last)\n",
      "\u001b[36mCell\u001b[39m\u001b[36m \u001b[39m\u001b[32mIn[2]\u001b[39m\u001b[32m, line 5\u001b[39m\n",
      "\u001b[32m      2\u001b[39m my_string = \u001b[33m\"\u001b[39m\u001b[33mPython\u001b[39m\u001b[33m\"\u001b[39m\n",
      "\u001b[32m      4\u001b[39m \u001b[38;5;66;03m# 0番目の文字を’J'に変更できるか？\u001b[39;00m\n",
      "\u001b[32m----> \u001b[39m\u001b[32m5\u001b[39m \u001b[43mmy_string\u001b[49m\u001b[43m[\u001b[49m\u001b[32;43m0\u001b[39;49m\u001b[43m]\u001b[49m = \u001b[33m\"\u001b[39m\u001b[33mJ\u001b[39m\u001b[33m\"\u001b[39m\n",
      "\n",
      "\u001b[31mTypeError\u001b[39m: 'str' object does not support item assignment"
     ]
    }
   ],
   "source": [
    "# 文字列を作成\n",
    "my_string = \"Python\"\n",
    "\n",
    "# 0番目の文字を’J'に変更できるか？\n",
    "my_string[0] = \"J\"\n",
    "\n",
    "---------------------------------------------------------------------------\n",
    "TypeError                                 Traceback (most recent call last)\n",
    "Cell In[2], line 5\n",
    "      2 my_string = \"Python\"\n",
    "      4 # 0番目の文字を’J'に変更できるか？\n",
    "----> 5 my_string[0] = \"J\"\n",
    "\n",
    "TypeError: 'str' object does not support item assignment"
   ]
  },
  {
   "cell_type": "code",
   "execution_count": null,
   "id": "4ca96bb0",
   "metadata": {},
   "outputs": [
    {
     "ename": "TypeError",
     "evalue": "'str' object does not support item assignment",
     "output_type": "error",
     "traceback": [
      "\u001b[31m---------------------------------------------------------------------------\u001b[39m",
      "\u001b[31mTypeError\u001b[39m                                 Traceback (most recent call last)",
      "\u001b[36mCell\u001b[39m\u001b[36m \u001b[39m\u001b[32mIn[2]\u001b[39m\u001b[32m, line 5\u001b[39m\n\u001b[32m      2\u001b[39m my_string = \u001b[33m\"\u001b[39m\u001b[33mPython\u001b[39m\u001b[33m\"\u001b[39m\n\u001b[32m      4\u001b[39m \u001b[38;5;66;03m# 0番目の文字を’J'に変更できるか？\u001b[39;00m\n\u001b[32m----> \u001b[39m\u001b[32m5\u001b[39m \u001b[43mmy_string\u001b[49m\u001b[43m[\u001b[49m\u001b[32;43m0\u001b[39;49m\u001b[43m]\u001b[49m = \u001b[33m\"\u001b[39m\u001b[33mJ\u001b[39m\u001b[33m\"\u001b[39m\n",
      "\u001b[31mTypeError\u001b[39m: 'str' object does not support item assignment"
     ]
    }
   ],
   "source": [
    "# 文字列を作成\n",
    "my_string = \"Python\"\n",
    "\n",
    "# 0番目の文字を’J'に変更できるか？\n",
    "my_string[0] = \"J\"\n",
    "\n",
    "---------------------------------------------------------------------------\n",
    "TypeError                                 Traceback (most recent call last)\n",
    "Cell In[2], line 5\n",
    "      2 my_string = \"Python\"\n",
    "      4 # 0番目の文字を’J'に変更できるか？\n",
    "----> 5 my_string[0] = \"J\"\n",
    "\n",
    "TypeError: 'str' object does not support item assignment"
   ]
  },
  {
   "cell_type": "code",
   "execution_count": null,
   "id": "666fab21",
   "metadata": {},
   "outputs": [
    {
     "name": "stdout",
     "output_type": "stream",
     "text": [
      "Py\n",
      "Py\n",
      "hon\n",
      "hon\n",
      "yth\n"
     ]
    }
   ],
   "source": [
    "# \"P\", \"y\", \"t\", \"h\", \"o\", \"n\"\n",
    "#  0    1    2    3    4    5\n",
    "# 文字列を作成\n",
    "my_string = \"Python\"\n",
    "\n",
    "# ０番目から２番目の手前までを取り出す\n",
    "first_part = my_string[0:2]\n",
    "# 取り出したものを表示\n",
    "print(first_part)\n",
    "\n",
    "# ０番目から２番目の手前までを取り出す\n",
    "first_part = my_string[:2]\n",
    "# 取り出したものを表示\n",
    "print(first_part)\n",
    "\n",
    "# 3番目から最後までを取り出す\n",
    "second_part = my_string[3:6]\n",
    "# 取り出したものを表示\n",
    "print(second_part)\n",
    "\n",
    "# ３番目から最後までを取り出す\n",
    "second_part = my_string[3:]\n",
    "# 取り出したものを表示\n",
    "print(second_part)\n",
    "\n",
    "# 課題ythをmy_stringから取り出す\n",
    "third_part = my_string[1:4]\n",
    "# 取り出したものを表示\n",
    "print(third_part)\n",
    "\n",
    "# 添字は０から始まる\n",
    "\n",
    "Py\n",
    "Py\n",
    "hon\n",
    "hon\n",
    "yth\n"
   ]
  },
  {
   "cell_type": "code",
   "execution_count": null,
   "id": "ee393216",
   "metadata": {},
   "outputs": [
    {
     "name": "stdout",
     "output_type": "stream",
     "text": [
      "Python\n",
      "PYTHON\n"
     ]
    }
   ],
   "source": [
    "# メソッドを使う\n",
    "# 文字列を作成し変数に入れる\n",
    "mixed_case = \"Python\"\n",
    "# 大文字に変えるメソッド\n",
    "upper_case = mixed_case.upper()\n",
    "# 文字列を表示\n",
    "print(mixed_case)\n",
    "print(upper_case)\n",
    "\n",
    "Python\n",
    "PYTHON"
   ]
  },
  {
   "cell_type": "code",
   "execution_count": null,
   "id": "b143f03c",
   "metadata": {},
   "outputs": [
    {
     "name": "stdout",
     "output_type": "stream",
     "text": [
      "I like Python\n",
      "I like Java\n"
     ]
    }
   ],
   "source": [
    "# 文章を作成\n",
    "sentence = \"I like Python\"\n",
    "# 置き換えのメソッド\n",
    "replaced_sentence = sentence.replace(\"Python\",\"Java\")\n",
    "\n",
    "# 文章を表示して確認\n",
    "print(sentence)\n",
    "print(replaced_sentence)\n",
    "\n",
    "I like Python\n",
    "I like Java"
   ]
  },
  {
   "cell_type": "code",
   "execution_count": null,
   "id": "66752748",
   "metadata": {},
   "outputs": [
    {
     "name": "stdout",
     "output_type": "stream",
     "text": [
      "大文字にした新しい文字列 PYTHON\n",
      "メソッド使用後の文字列 Python\n"
     ]
    }
   ],
   "source": [
    "# メソッドを使うと元の文字列は変わらない\n",
    "# 文字列を作成\n",
    "original_string = \"Python\"\n",
    "upper_string = original_string.upper()\n",
    "# 文字列を表示して確認\n",
    "print(\"大文字にした新しい文字列\",upper_string)\n",
    "print(\"メソッド使用後の文字列\",original_string)\n",
    "\n",
    "大文字にした新しい文字列 PYTHON\n",
    "メソッド使用後の文字列 Python"
   ]
  },
  {
   "cell_type": "code",
   "execution_count": null,
   "id": "e051b2cf",
   "metadata": {},
   "outputs": [
    {
     "name": "stdout",
     "output_type": "stream",
     "text": [
      "山田　太郎\n"
     ]
    }
   ],
   "source": [
    "# 姓の文字列\n",
    "last_name = \"山田\"\n",
    "# 名の文字列\n",
    "first_name = \"太郎\"\n",
    "\n",
    "\"\"\"+を使って文字列を結合\n",
    "　　姓と名の間にスペースを入れるために\n",
    "　　””も結合\"\"\"\n",
    "full_name = last_name + \"　\" + first_name\n",
    "\n",
    "# 結合した文字列を表示\n",
    "print(full_name)\n",
    "\n",
    "山田　太郎"
   ]
  },
  {
   "cell_type": "code",
   "execution_count": null,
   "id": "e68e3f32",
   "metadata": {},
   "outputs": [
    {
     "name": "stdout",
     "output_type": "stream",
     "text": [
      "-=-=-=-=-=-=-=-=-=-=\n"
     ]
    }
   ],
   "source": [
    "# 繰り返したい文字列を作成\n",
    "separator = \"-=\"\n",
    "# 文字列を繰り返し変数に入れる\n",
    "line = separator * 10\n",
    "# 作成した文字列を表示\n",
    "print(line)\n",
    "\n",
    "-=-=-=-=-=-=-=-=-=-="
   ]
  },
  {
   "cell_type": "code",
   "execution_count": null,
   "id": "8dd986a3",
   "metadata": {},
   "outputs": [
    {
     "ename": "TypeError",
     "evalue": "can only concatenate str (not \"int\") to str",
     "output_type": "error",
     "traceback": [
      "\u001b[31m---------------------------------------------------------------------------\u001b[39m",
      "\u001b[31mTypeError\u001b[39m                                 Traceback (most recent call last)",
      "\u001b[36mCell\u001b[39m\u001b[36m \u001b[39m\u001b[32mIn[16]\u001b[39m\u001b[32m, line 2\u001b[39m\n\u001b[32m      1\u001b[39m \u001b[33;03m\"\"\"これはエラーになります\"\"\"\u001b[39;00m\n\u001b[32m----> \u001b[39m\u001b[32m2\u001b[39m message = \u001b[33;43m\"\u001b[39;49m\u001b[33;43mあなたのスコアは\u001b[39;49m\u001b[33;43m\"\u001b[39;49m\u001b[43m \u001b[49m\u001b[43m+\u001b[49m\u001b[43m \u001b[49m\u001b[32;43m100\u001b[39;49m\n",
      "\u001b[31mTypeError\u001b[39m: can only concatenate str (not \"int\") to str"
     ]
    }
   ],
   "source": [
    "\"\"\"これはエラーになります\"\"\"\n",
    "message = \"あなたのスコアは\" + 100\n",
    "\n",
    "---------------------------------------------------------------------------\n",
    "TypeError                                 Traceback (most recent call last)\n",
    "Cell In[16], line 2\n",
    "      1 \"\"\"これはエラーになります\"\"\"\n",
    "----> 2 message = \"あなたのスコアは\" + 100\n",
    "\n",
    "TypeError: can only concatenate str (not \"int\") to str"
   ]
  },
  {
   "cell_type": "code",
   "execution_count": null,
   "id": "bbfafd1a",
   "metadata": {},
   "outputs": [
    {
     "name": "stdout",
     "output_type": "stream",
     "text": [
      "あなたのスコアは100点です。\n"
     ]
    }
   ],
   "source": [
    "# 数字を変数に入れる\n",
    "score = 100\n",
    "# 数字を文字列に変換して他の文字列と結合し変数に入力\n",
    "message = \"あなたのスコアは\" + str(score) + \"点です。\"\n",
    "# 作成した文字列を表示\n",
    "print(message)\n",
    "\n",
    "あなたのスコアは100点です。"
   ]
  },
  {
   "cell_type": "code",
   "execution_count": null,
   "id": "6184ab42",
   "metadata": {},
   "outputs": [
    {
     "name": "stdout",
     "output_type": "stream",
     "text": [
      "========\n"
     ]
    }
   ],
   "source": [
    "\"\"\"もしよろしければ、* を使って、\n",
    "画面に========（イコール記号8個）を表示する\n",
    "コードを書いてみていただけますか？\"\"\"\n",
    "# 変数を作成 = は数字と同じ扱いのはず？\n",
    "line = \"=\" * 8\n",
    "print(line)\n",
    "# ではなかった・・SyntaxError\n",
    "# 演算子は文字列の扱い\n",
    "\n",
    "========"
   ]
  },
  {
   "cell_type": "code",
   "execution_count": null,
   "id": "20eccb30",
   "metadata": {},
   "outputs": [
    {
     "name": "stdout",
     "output_type": "stream",
     "text": [
      "['I', 'am', 'a', 'doctor.']\n"
     ]
    }
   ],
   "source": [
    "# 文章を作成し変数に格納\n",
    "sentence = \"I am a doctor.\"\n",
    "# ()の中がからの場合、スペースや改行などで分割\n",
    "world_list = sentence.split()\n",
    "# リストを表示\n",
    "print(world_list)\n",
    "\n",
    "['I', 'am', 'a', 'doctor.']\n"
   ]
  },
  {
   "cell_type": "code",
   "execution_count": null,
   "id": "bbf97dcb",
   "metadata": {},
   "outputs": [
    {
     "name": "stdout",
     "output_type": "stream",
     "text": [
      "I am a doctor.\n"
     ]
    }
   ],
   "source": [
    "# リストを作成\n",
    "word_list = ['I', 'am', 'a', 'doctor.']\n",
    "# \"\"（半角スペース）を接着剤として、リストの要素を結合\n",
    "new_sentence = \" \".join(word_list)\n",
    "# 新しい文字列を表示\n",
    "print(new_sentence)\n",
    "\n",
    "I am a doctor."
   ]
  },
  {
   "cell_type": "code",
   "execution_count": null,
   "id": "077531e4",
   "metadata": {},
   "outputs": [
    {
     "name": "stdout",
     "output_type": "stream",
     "text": [
      "['I', 'am', 'a', 'doctor.']\n"
     ]
    }
   ],
   "source": [
    "# 文章を変数に格納\n",
    "sentence = \"I am a doctor.\"\n",
    "# ()の中がからの場合、スペースや改行などで分割\n",
    "word_list = sentence.split()\n",
    "# .joinとは逆の構図\n",
    "print(word_list)\n",
    "\n",
    "['I', 'am', 'a', 'doctor.']"
   ]
  },
  {
   "cell_type": "code",
   "execution_count": null,
   "id": "85f80bc7",
   "metadata": {},
   "outputs": [
    {
     "name": "stdout",
     "output_type": "stream",
     "text": [
      "['Taro', ' Yamada', ' 30', ' Tokyo']\n"
     ]
    }
   ],
   "source": [
    "# csvデータを変数に格納\n",
    "csv_data = \"Taro, Yamada, 30, Tokyo\"\n",
    "# ,毎にデータとしてリストに格納\n",
    "data_list = csv_data.split(\",\")\n",
    "# リストを表示\n",
    "print(data_list)\n",
    "\n",
    "['Taro', ' Yamada', ' 30', ' Tokyo']"
   ]
  },
  {
   "cell_type": "code",
   "execution_count": null,
   "id": "0d158628",
   "metadata": {},
   "outputs": [
    {
     "name": "stdout",
     "output_type": "stream",
     "text": [
      "Python is fun\n"
     ]
    }
   ],
   "source": [
    "\"\"\"もしよろしければ、\"Python-is-fun\"という文字列を、\n",
    "まず-で分割してリストにし、次にそのリストを \n",
    "    （半角スペース）で結合して\"Python is fun\"という文字列を\n",
    "生成するコードを書いてみていただけますか？\"\"\"\n",
    "# リストを作成\n",
    "first_sentence = \"Python-is-fun\"\n",
    "# リストの単語を-で分割\n",
    "word_list = first_sentence.split(\"-\")\n",
    "# リストを\" \"で結合\n",
    "last_sentence = \" \".join(word_list)\n",
    "print(last_sentence)\n",
    "\n",
    "Python is fun"
   ]
  },
  {
   "cell_type": "code",
   "execution_count": null,
   "id": "9ffb3172",
   "metadata": {},
   "outputs": [],
   "source": [
    "# f-stringと変数を結合した場合の違い\n",
    "# 変数を作成\n",
    "name = \"ロード\"\n",
    "score = \"100\"\n",
    "\n",
    "# 変数を結合して文章を作成\n",
    "message_old = \"こんにちは、\" + name + \"さん。あなたのスコアは\" + str(score) + \"点です。\"\n",
    "print(message_old)\n",
    "\n",
    "# f-stringを使った書き方\n",
    "message_new = f\"こんにちは、{name}さん。あなたのスコアは{score}点です。\"\n",
    "print(message_new)\n",
    "# 相変わらずスペルミスが多い。nameとscoreはグローバル変数かな？"
   ]
  },
  {
   "cell_type": "code",
   "execution_count": null,
   "id": "04df7ee7",
   "metadata": {},
   "outputs": [],
   "source": [
    "\"\"\"３重クォート文字列\"\"\"\n",
    "# 複数行書きたい場合使用\n",
    "\"\"\" line one\n",
    "    line two\n",
    "    line three\"\"\""
   ]
  },
  {
   "cell_type": "code",
   "execution_count": 37,
   "id": "01165217",
   "metadata": {},
   "outputs": [
    {
     "name": "stdout",
     "output_type": "stream",
     "text": [
      "K\n",
      "a\n",
      "f\n",
      "k\n",
      "a\n"
     ]
    }
   ],
   "source": [
    "\"\"\"インデックス\"\"\"\n",
    "# 文字列を変数に格納\n",
    "author = \"Kafka\"\n",
    "# 文字列から文字を１つずつ取り出す\n",
    "print(author[0])\n",
    "print(author[1])\n",
    "print(author[2])\n",
    "print(author[3])\n",
    "print(author[4])"
   ]
  },
  {
   "cell_type": "code",
   "execution_count": null,
   "id": "527a50ea",
   "metadata": {},
   "outputs": [
    {
     "ename": "IndexError",
     "evalue": "string index out of range",
     "output_type": "error",
     "traceback": [
      "\u001b[31m---------------------------------------------------------------------------\u001b[39m",
      "\u001b[31mIndexError\u001b[39m                                Traceback (most recent call last)",
      "\u001b[36mCell\u001b[39m\u001b[36m \u001b[39m\u001b[32mIn[38]\u001b[39m\u001b[32m, line 4\u001b[39m\n\u001b[32m      1\u001b[39m \u001b[38;5;66;03m# エラーの確認・・大きすぎるインデックスを使うとどうなるか？\u001b[39;00m\n\u001b[32m      2\u001b[39m \u001b[38;5;66;03m# 変数に文字列を格納\u001b[39;00m\n\u001b[32m      3\u001b[39m author = \u001b[33m\"\u001b[39m\u001b[33mKafka\u001b[39m\u001b[33m\"\u001b[39m\n\u001b[32m----> \u001b[39m\u001b[32m4\u001b[39m \u001b[38;5;28mprint\u001b[39m(\u001b[43mauthor\u001b[49m\u001b[43m[\u001b[49m\u001b[32;43m5\u001b[39;49m\u001b[43m]\u001b[49m)\n",
      "\u001b[31mIndexError\u001b[39m: string index out of range"
     ]
    }
   ],
   "source": [
    "# エラーの確認・・大きすぎるインデックスを使うとどうなるか？\n",
    "# 変数に文字列を格納\n",
    "author = \"Kafka\"\n",
    "# 範囲外のインデックスを使ってみる\n",
    "print(author[5])"
   ]
  },
  {
   "cell_type": "code",
   "execution_count": 39,
   "id": "c0b55841",
   "metadata": {},
   "outputs": [
    {
     "name": "stdout",
     "output_type": "stream",
     "text": [
      "a\n"
     ]
    }
   ],
   "source": [
    "\"\"\"マイナスインデックス\"\"\"\n",
    "# 文字列を変数に格納\n",
    "author = \"Kafka\"\n",
    "# マイナスの数字をインデックスにするとどうなるか？\n",
    "print(author[-1])"
   ]
  },
  {
   "cell_type": "code",
   "execution_count": 40,
   "id": "5fad0eee",
   "metadata": {},
   "outputs": [
    {
     "name": "stdout",
     "output_type": "stream",
     "text": [
      "k\n",
      "f\n"
     ]
    }
   ],
   "source": [
    "\"\"\"マイナスインデックスの続き\"\"\"\n",
    "# 文字列を変数に格納\n",
    "author = \"Kafka\"\n",
    "# 末尾（右）から要素を取り出せるか？\n",
    "print(author[-2])\n",
    "print(author[-3])"
   ]
  },
  {
   "cell_type": "code",
   "execution_count": null,
   "id": "f40eaa41",
   "metadata": {},
   "outputs": [
    {
     "data": {
      "text/plain": [
       "'F.Scott Fitzgerald'"
      ]
     },
     "execution_count": 2,
     "metadata": {},
     "output_type": "execute_result"
    }
   ],
   "source": [
    "\"\"\"文字列はイミュータブル\"\"\"\n",
    "# 変数に文字列を格納\n",
    "ff = \"F.Fitzgerald\"\n",
    "# 同じ変数に違う文字列を格納すると？\n",
    "ff = \"F.Scott Fitzgerald\"\n",
    "# 変数には何が入っているか？\n",
    "print(ff)\n",
    "# 変数は上書きされる→ffという名札の張り替えがimmutable"
   ]
  },
  {
   "cell_type": "code",
   "execution_count": 1,
   "id": "45c403b4",
   "metadata": {},
   "outputs": [
    {
     "data": {
      "text/plain": [
       "'catinhat'"
      ]
     },
     "execution_count": 1,
     "metadata": {},
     "output_type": "execute_result"
    }
   ],
   "source": [
    "\"\"\"文字列の足し算\"\"\"\n",
    "# 連結\n",
    "\"cat\" + \"in\" + \"hat\""
   ]
  },
  {
   "cell_type": "code",
   "execution_count": 4,
   "id": "dc16be5d",
   "metadata": {},
   "outputs": [
    {
     "name": "stdout",
     "output_type": "stream",
     "text": [
      "cat in the hat\n"
     ]
    }
   ],
   "source": [
    "\"\"\"連結の続き\"\"\"\n",
    "# 半角スペースを入れるには？\n",
    "print(\"cat\" + \" in\" + \" the\" + \" hat\")"
   ]
  },
  {
   "cell_type": "code",
   "execution_count": 5,
   "id": "075c99e6",
   "metadata": {},
   "outputs": [
    {
     "name": "stdout",
     "output_type": "stream",
     "text": [
      "SawyerSawyerSawyer\n"
     ]
    }
   ],
   "source": [
    "\"\"\"文字列の掛け算\"\"\"\n",
    "# 演算子*\n",
    "print(\"Sawyer\" * 3) "
   ]
  },
  {
   "cell_type": "code",
   "execution_count": 6,
   "id": "96081141",
   "metadata": {},
   "outputs": [
    {
     "name": "stdout",
     "output_type": "stream",
     "text": [
      "WE HOLD THESE TRUTHS...\n"
     ]
    }
   ],
   "source": [
    "\"\"\"大文字小文字の変換\"\"\"\n",
    "# .upperメソッドを使う\n",
    "print(\"We hold these truths...\".upper())"
   ]
  },
  {
   "cell_type": "code",
   "execution_count": 7,
   "id": "2d42da0c",
   "metadata": {},
   "outputs": [
    {
     "name": "stdout",
     "output_type": "stream",
     "text": [
      "so it goes.\n"
     ]
    }
   ],
   "source": [
    "\"\"\"大文字小文字の変換\"\"\"\n",
    "# .lowerメソッドを使う\n",
    "print(\"SO IT GOES.\".lower())"
   ]
  },
  {
   "cell_type": "code",
   "execution_count": 8,
   "id": "c9d980b2",
   "metadata": {},
   "outputs": [
    {
     "name": "stdout",
     "output_type": "stream",
     "text": [
      "Four score and...\n"
     ]
    }
   ],
   "source": [
    "\"\"\"大文字小文字の変換\"\"\"\n",
    "# .capitalizeメソッドを使う\n",
    "print(\"four score and...\".capitalize())"
   ]
  },
  {
   "cell_type": "code",
   "execution_count": 9,
   "id": "5afdde45",
   "metadata": {},
   "outputs": [
    {
     "name": "stdout",
     "output_type": "stream",
     "text": [
      "こんにちは、ウィリアム・フォークナー\n"
     ]
    }
   ],
   "source": [
    "\"\"\"書式化\"\"\"\n",
    "# .formatメソッドを使う\n",
    "print(\"こんにちは、{}\".format(\"ウィリアム・フォークナー\"))"
   ]
  },
  {
   "cell_type": "code",
   "execution_count": null,
   "id": "50970dbd",
   "metadata": {},
   "outputs": [
    {
     "name": "stdout",
     "output_type": "stream",
     "text": [
      "こんにちは、ウィリアム・フォークナー\n"
     ]
    }
   ],
   "source": [
    "\"\"\"書式化\"\"\"\n",
    "# .formatメソッドを使う()に変数を入れる\n",
    "# 変数に文字列を格納\n",
    "name = \"ウィリアム・フォークナー\"\n",
    "# .format()に変数を使う\n",
    "print(\"こんにちは、{}\".format(name))\n",
    "\n",
    "# 剥がせるシール"
   ]
  },
  {
   "cell_type": "code",
   "execution_count": 13,
   "id": "a3db5e64",
   "metadata": {},
   "outputs": [
    {
     "name": "stdout",
     "output_type": "stream",
     "text": [
      "雪は 冬に 山で 積もる。\n"
     ]
    }
   ],
   "source": [
    "\"\"\"書式化\"\"\"\n",
    "# .formatメソッドを使う\n",
    "# ユーザーが入力した文字を使って文字列を組み立てる\n",
    "# ユーザが入力した文字を変数に格納\n",
    "what = input(\"何が：\")\n",
    "when = input(\"いつ：\")\n",
    "where = input(\"どこで：\")\n",
    "do = input(\"どうした：\")\n",
    "# 組み立てた文字列を変数に格納\n",
    "r = \"{}は {}に {}で {}。\".format(what, when, where, do)\n",
    "# 文字列を表示\n",
    "print(r)\n",
    "# .formatを忘れた"
   ]
  },
  {
   "cell_type": "code",
   "execution_count": 15,
   "id": "38d9e99b",
   "metadata": {},
   "outputs": [
    {
     "name": "stdout",
     "output_type": "stream",
     "text": [
      "['水溜りを飛び越えたんだ', '３メートルもあったんだぜ！']\n"
     ]
    }
   ],
   "source": [
    "\"\"\"分割\"\"\"\n",
    "# .splitメソッドを使う\n",
    "print(\"水溜りを飛び越えたんだ。３メートルもあったんだぜ！\".split(\"。\"))\n",
    "\n",
    "# .split()の中の\"\"を忘れてSyntaxError                                    "
   ]
  },
  {
   "cell_type": "code",
   "execution_count": 17,
   "id": "5a5149c9",
   "metadata": {},
   "outputs": [
    {
     "name": "stdout",
     "output_type": "stream",
     "text": [
      "a+b+c\n"
     ]
    }
   ],
   "source": [
    "\"\"\"結合\"\"\"\n",
    "# 文字列を変数に格納\n",
    "first_three = \"abc\"\n",
    "# 文字列に \"+\" を加える.joinメソッド\n",
    "result = \"+\".join(first_three)\n",
    "# 結果を表示\n",
    "print(result)"
   ]
  },
  {
   "cell_type": "code",
   "execution_count": 18,
   "id": "e2dfdc51",
   "metadata": {},
   "outputs": [
    {
     "name": "stdout",
     "output_type": "stream",
     "text": [
      "Thefoxjumpedovertheriver.\n"
     ]
    }
   ],
   "source": [
    "\"\"\"結合\"\"\"\n",
    "# リストを作成\n",
    "words = [\"The\", \"fox\", \"jumped\", \"over\", \"the\", \"river\", \".\"]\n",
    "#　要素を結合し、変数に格納\n",
    "one = \"\".join(words)\n",
    "# 変数を表示\n",
    "print(one)"
   ]
  },
  {
   "cell_type": "code",
   "execution_count": 19,
   "id": "3e2efd7d",
   "metadata": {},
   "outputs": [
    {
     "name": "stdout",
     "output_type": "stream",
     "text": [
      "The fox jumped over the river .\n"
     ]
    }
   ],
   "source": [
    "\"\"\"結合\"\"\"\n",
    "# リストを作成\n",
    "words = [\"The\", \"fox\", \"jumped\", \"over\", \"the\", \"river\", \".\"]\n",
    "# もっと読みやすくするため・・要素を結合し、変数に格納\n",
    "one = \" \".join(words)\n",
    "# 変数を表示\n",
    "print(one)"
   ]
  },
  {
   "cell_type": "code",
   "execution_count": null,
   "id": "8a2668c4",
   "metadata": {},
   "outputs": [
    {
     "name": "stdout",
     "output_type": "stream",
     "text": [
      "The\n"
     ]
    }
   ],
   "source": [
    "\"\"\"空白除去\"\"\"\n",
    "# .stripメソッド\n",
    "s = \"   The   \"\n",
    "s = s.strip()\n",
    "print(s)"
   ]
  },
  {
   "cell_type": "code",
   "execution_count": 4,
   "id": "1544e334",
   "metadata": {},
   "outputs": [
    {
     "name": "stdout",
     "output_type": "stream",
     "text": [
      "All @nim@ls @re equ@l.\n"
     ]
    }
   ],
   "source": [
    "\"\"\"置換\"\"\"\n",
    "# replaceメソッド\n",
    "equ = \"All animals are equal.\"\n",
    "equ = equ.replace(\"a\", \"@\")\n",
    "print(equ)"
   ]
  },
  {
   "cell_type": "code",
   "execution_count": 5,
   "id": "42875616",
   "metadata": {},
   "outputs": [
    {
     "data": {
      "text/plain": [
       "3"
      ]
     },
     "execution_count": 5,
     "metadata": {},
     "output_type": "execute_result"
    }
   ],
   "source": [
    "\"\"\"文字を探す\"\"\"\n",
    "# .indexメソッドを使う\n",
    "\"animals\".index(\"m\")"
   ]
  },
  {
   "cell_type": "code",
   "execution_count": null,
   "id": "7822f88a",
   "metadata": {},
   "outputs": [
    {
     "ename": "ValueError",
     "evalue": "substring not found",
     "output_type": "error",
     "traceback": [
      "\u001b[31m---------------------------------------------------------------------------\u001b[39m",
      "\u001b[31mValueError\u001b[39m                                Traceback (most recent call last)",
      "\u001b[36mCell\u001b[39m\u001b[36m \u001b[39m\u001b[32mIn[7]\u001b[39m\u001b[32m, line 3\u001b[39m\n\u001b[32m      1\u001b[39m \u001b[33;03m\"\"\"存在しない文字を探す\"\"\"\u001b[39;00m\n\u001b[32m      2\u001b[39m \u001b[38;5;66;03m# .indexメソッドを使う\u001b[39;00m\n\u001b[32m----> \u001b[39m\u001b[32m3\u001b[39m \u001b[33;43m\"\u001b[39;49m\u001b[33;43manimals\u001b[39;49m\u001b[33;43m\"\u001b[39;49m\u001b[43m.\u001b[49m\u001b[43mindex\u001b[49m\u001b[43m(\u001b[49m\u001b[33;43m\"\u001b[39;49m\u001b[33;43mz\u001b[39;49m\u001b[33;43m\"\u001b[39;49m\u001b[43m)\u001b[49m\n\u001b[32m      4\u001b[39m \u001b[38;5;66;03m# NameError が出る\u001b[39;00m\n",
      "\u001b[31mValueError\u001b[39m: substring not found"
     ]
    }
   ],
   "source": [
    "\"\"\"存在しない文字を探す\"\"\"\n",
    "# .indexメソッドを使う\n",
    "\"animals\".index(\"z\")\n",
    "# NameError が出る・・・z\n",
    "# ValueErrorが出る・・・\"z\""
   ]
  },
  {
   "cell_type": "code",
   "execution_count": 8,
   "id": "35c81210",
   "metadata": {},
   "outputs": [
    {
     "name": "stdout",
     "output_type": "stream",
     "text": [
      "Not found\n"
     ]
    }
   ],
   "source": [
    "\"\"\"例外処理\"\"\"\n",
    "# 例外が出る前提でコードを書く\n",
    "try:\n",
    "    \"animal\".index(\"z\")\n",
    "except:\n",
    "    print(\"Not found\")"
   ]
  },
  {
   "cell_type": "code",
   "execution_count": null,
   "id": "f85b54a3",
   "metadata": {},
   "outputs": [
    {
     "name": "stdout",
     "output_type": "stream",
     "text": [
      "True\n",
      "False\n",
      "True\n"
     ]
    }
   ],
   "source": [
    "\"\"\"包含\"\"\"\n",
    "# in 演算子を使う。指定した文字列を含む\n",
    "# True Falseで返す。\n",
    "print(\"Cat\" in \"Cat in the hat.\")\n",
    "# Trueを返す。\n",
    "\n",
    "print(\"Bat\" in \"Cat in the hat\")\n",
    "# Falseを返す。\n",
    "\n",
    "\"\"\"not in演算子\"\"\"\n",
    "# 包含していないことを確認\n",
    "print(\"Potter\" not in \"Harry\")\n",
    "# Trueを返す。"
   ]
  },
  {
   "cell_type": "code",
   "execution_count": 15,
   "id": "dccbcdcb",
   "metadata": {},
   "outputs": [
    {
     "name": "stdout",
     "output_type": "stream",
     "text": [
      "彼女は'そうだね'と言った\n"
     ]
    }
   ],
   "source": [
    "\"\"\"エスケープ文字\"\"\"\n",
    "# エラーを出す\n",
    "# print(\"彼女は\"そうだね\"と言った\")\n",
    "\n",
    "# SyntaxError\n",
    "# このエラーを出さない\n",
    "print('彼女は\\'そうだね\\'と言った')\n",
    "# エラーが出るところで止まる。"
   ]
  },
  {
   "cell_type": "code",
   "execution_count": 17,
   "id": "32c902c8",
   "metadata": {},
   "outputs": [
    {
     "name": "stdout",
     "output_type": "stream",
     "text": [
      "彼女は'そうだね'と言った\n",
      "彼女は\"そうだね\"と言った\n"
     ]
    }
   ],
   "source": [
    "# \"\"の中の''はどうなるか\n",
    "print(\"彼女は'そうだね'と言った\")\n",
    "# ''の中の\"\"はどうなるか\n",
    "print('彼女は\"そうだね\"と言った')"
   ]
  },
  {
   "cell_type": "code",
   "execution_count": 18,
   "id": "1bde50b8",
   "metadata": {},
   "outputs": [
    {
     "name": "stdout",
     "output_type": "stream",
     "text": [
      "line1 \n",
      "line2 \n",
      "line3\n"
     ]
    }
   ],
   "source": [
    "\"\"\"改行\"\"\"\n",
    "# \\nが文字列に含まれるとき\n",
    "print(\"line1 \\nline2 \\nline3\")"
   ]
  },
  {
   "cell_type": "code",
   "execution_count": 21,
   "id": "5b0e5f7f",
   "metadata": {},
   "outputs": [
    {
     "name": "stdout",
     "output_type": "stream",
     "text": [
      "['トルストイ', 'カミュ', 'オーウェル']\n"
     ]
    }
   ],
   "source": [
    "\"\"\"スライス\"\"\"\n",
    "# [イテラブル][[開始インデックス]:[終了インデックス]]\n",
    "# 開始インデックス・・・開始位置を表す　終了インデックス・・・そこに到達したら取り出しを終了\n",
    "fict = [\"トルストイ\", \"カミュ\", \"オーウェル\"]\n",
    "print(fict[0:3])\n",
    "# スライスにprintはいらないわけではない\n",
    "# 終了は終了インデックスの一つ手前まで"
   ]
  },
  {
   "cell_type": "code",
   "execution_count": null,
   "id": "f209b940",
   "metadata": {},
   "outputs": [
    {
     "name": "stdout",
     "output_type": "stream",
     "text": [
      "死の代わりに\n",
      "ひとつの光があった。\n",
      "死の代わりに\n",
      "ひとつの光があった。\n",
      "があった。\n",
      "つの\n"
     ]
    }
   ],
   "source": [
    "\"\"\"スライスの続き\"\"\"\n",
    "ivan = \"死の代わりにひとつの光があった。\"\n",
    "print(ivan[0:6])\n",
    "print(ivan[6:16])\n",
    "# ０から始める時は省略できる\n",
    "print(ivan[:6])\n",
    "# 最後までなら省略できる\n",
    "print(ivan[6:])\n",
    "# マイナスの数字ならどうなるか？\n",
    "print(ivan[-5:])# 右から５番目から最後まで\n",
    "# 正解\n",
    "# 負の数から負の数までのindexは？\n",
    "print(ivan[-8:-6])# 正の数と同じなら右から８番目から５番目までだが「つの」\n",
    "# 正解"
   ]
  },
  {
   "cell_type": "code",
   "execution_count": null,
   "id": "6818c378",
   "metadata": {},
   "outputs": [
    {
     "name": "stdout",
     "output_type": "stream",
     "text": [
      "死代りひつ光あた\n",
      "。たっあが光のつとひにりわ代の死\n"
     ]
    }
   ],
   "source": [
    "\"\"\"スライスの続き\"\"\"\n",
    "ivan = \"死の代わりにひとつの光があった。\"\n",
    "# ::は[]がエラーにならなかった\n",
    "# →何個かおきに要素を取り出す\n",
    "print(ivan[::2])# これらは命令語？\n",
    "# 構文だった\n",
    "# 今度は負の数で？\n",
    "print(ivan[::-1])#  何個かおきに増やす？\n",
    "# 全く違った予想外・・::1ならばと考えれば逆転するとわかったのに"
   ]
  },
  {
   "cell_type": "code",
   "execution_count": null,
   "id": "7f6c0eba",
   "metadata": {},
   "outputs": [
    {
     "name": "stdout",
     "output_type": "stream",
     "text": [
      "['オーウェル', 'カミュ', 'トルストイ']\n"
     ]
    }
   ],
   "source": [
    "\"\"\"[::-1]をリストに使うと・・\"\"\"\n",
    "fict = [\"トルストイ\", \"カミュ\", \"オーウェル\"]\n",
    "print(fict[::-1])# 要素が逆順に出力？\n",
    "# 予想通り"
   ]
  },
  {
   "cell_type": "code",
   "execution_count": 30,
   "id": "ed9061ce",
   "metadata": {},
   "outputs": [
    {
     "name": "stdout",
     "output_type": "stream",
     "text": [
      "カ\n",
      "ミ\n",
      "ュ\n",
      "カ\n",
      "ミ\n",
      "ュ\n"
     ]
    }
   ],
   "source": [
    "\"\"\"1. 文字列”カミュ”に含まれている全ての文字を１文字ずつ出力\"\"\"\n",
    "# 文字列を変数に代入\n",
    "name_author = \"カミュ\"\n",
    "# 変数のindex[0]を表示\n",
    "print(name_author[0])\n",
    "# 変数のindex[1]を表示\n",
    "print(name_author[1])\n",
    "# 変数のindex[2]を表示\n",
    "print(name_author[2])\n",
    "\n",
    "# 別解　繰り返し構文\n",
    "for charcter in name_author:\n",
    "    print(charcter)"
   ]
  },
  {
   "cell_type": "code",
   "execution_count": null,
   "id": "60d78f0f",
   "metadata": {},
   "outputs": [
    {
     "name": "stdout",
     "output_type": "stream",
     "text": [
      "今日の板橋のお天気は、はれです。\n"
     ]
    }
   ],
   "source": [
    "\"\"\"2. ２つの文字列を入力させるプログラム  \n",
    "\tその文字列をそれぞれ別の文字列の２つの箇所に\n",
    "    穴埋めした新しい文字列を作成\"\"\"\n",
    "# ユーザのいる場所を変数に入力\n",
    "your_locate = input(\"あなたのいる場所は？\")\n",
    "# 今日の天気を変数に入力\n",
    "today_weather = input(\"今日のお天気は？\")\n",
    "# ユーザのいる場所の今日の天気をf-stringを使い表示→調べる\n",
    "#print(f\"今日の{your_locate}のお天気は、{today_weather}です。\")# ,はいらない。すっかり忘れている。\n",
    "# .formatメソッドも忘れている？\n",
    "message_locate_weather = \"今日の{}のお天気は、{}です。\".format(your_locate, today_weather)\n",
    "print(message_locate_weather)\n",
    "# formatメソッドもだが、変数がしっかりしていない感じ"
   ]
  },
  {
   "cell_type": "code",
   "execution_count": null,
   "id": "d6eefd02",
   "metadata": {},
   "outputs": [
    {
     "name": "stdout",
     "output_type": "stream",
     "text": [
      "Aldous huxley was born in1894\n"
     ]
    }
   ],
   "source": [
    "\"\"\"3. 文法的には正しい文章を書いた文字列\n",
    "”aldous Huxley was born in1894”\n",
    "の先頭をメソッドを使って大文字に\"\"\"\n",
    "# メソッドは抜け落ちている。→.capitalize\n",
    "print(\"aldous Huxley was born in1894\".capitalize())# .capitalizeでeを忘れるスペルミス"
   ]
  },
  {
   "cell_type": "code",
   "execution_count": null,
   "id": "7fc4df09",
   "metadata": {},
   "outputs": [
    {
     "name": "stdout",
     "output_type": "stream",
     "text": [
      "['どこで？', '誰が？', 'いつ？']\n"
     ]
    }
   ],
   "source": [
    "\"\"\"4. 文字列”どこで？　誰が？　いつ？”\n",
    "    をメソッドで分割  \n",
    "\t[“どこで？”, “誰が？”, “いつ？”]のリストに\"\"\"\n",
    "# splitメソッドを利用し、リストに格納\n",
    "w3_list = \"どこで？　誰が？　いつ？\".split(\"　\")\n",
    "# 格納したリストを表示\n",
    "print(w3_list)\n"
   ]
  },
  {
   "cell_type": "code",
   "execution_count": null,
   "id": "ea232590",
   "metadata": {},
   "outputs": [
    {
     "name": "stdout",
     "output_type": "stream",
     "text": [
      "The fox over the fence.\n"
     ]
    }
   ],
   "source": [
    "\"\"\"5. リスト[“The”, “fox”, “over”, “the”, “fence”,”.”]の文字列を正しい英文になるよう連結  \n",
    "\t単語と単語の間に空白が必要だがピリオドの前にだけは不要  \n",
    "\t文字列を要素にもつリストを１つに連結するメソッドがある\"\"\"\n",
    "# .joinメソッドを利用して連結し、.の前の空白をどうにかする\n",
    "# 変数にリストを格納\n",
    "fox_list = [\"The\", \"fox\", \"over\", \"the\", \"fence\", \".\"]\n",
    "# リストの\".\"以外を、.joinで連結し＋で\".\"を連結\n",
    "fox_message = \" \".join(fox_list[:5]) + fox_list[5]\n",
    "print(fox_message)\n",
    "# 成功\n"
   ]
  },
  {
   "cell_type": "code",
   "execution_count": 8,
   "id": "3efd9328",
   "metadata": {},
   "outputs": [
    {
     "name": "stdout",
     "output_type": "stream",
     "text": [
      "A $creaming come$ acro$$ the $ky.\n"
     ]
    }
   ],
   "source": [
    "\"\"\"6. 文字列”A screaming comes across the sky.”\n",
    "に含まれる全ての”s”を＄に置き換えた文字列を作る\"\"\"\n",
    "# .replaceメソッドを使って置き換える\n",
    "# 文字列を変数に格納\n",
    "message_first = \"A screaming comes across the sky.\"\n",
    "# 置き換えた文字列を次の変数に格納\n",
    "message_second = message_first.replace(\"s\", \"$\")\n",
    "# 置き換えた文字列を表示\n",
    "print(message_second)"
   ]
  },
  {
   "cell_type": "code",
   "execution_count": null,
   "id": "9b87a834",
   "metadata": {},
   "outputs": [
    {
     "name": "stdout",
     "output_type": "stream",
     "text": [
      "2\n"
     ]
    }
   ],
   "source": [
    "\"\"\"7. メソッドを使って、”Hemingway”の中で\n",
    "最初に”m”が出現するインデックスを調べる\"\"\"\n",
    "# .indexメソッドの復習\n",
    "# 文字列を変数に格納\n",
    "author_name = \"Hemingway\"\n",
    "# .indexを使用\n",
    "#print(\"m\".index(author_name))・・.indexの使い方を忘れている\n",
    "print(author_name.index(\"m\"))#  変数と探す文字の配置が逆"
   ]
  },
  {
   "cell_type": "code",
   "execution_count": 6,
   "id": "62d7e185",
   "metadata": {},
   "outputs": [
    {
     "name": "stdout",
     "output_type": "stream",
     "text": [
      "and he began to teach them \n",
      "'Blessed are the poorin spirit, \n",
      "for theirs is the kingdom of heaven.'\n"
     ]
    }
   ],
   "source": [
    "\"\"\"8. 好きな本のセリフを探して、Pythonの文字列にしよう。\n",
    "ただし、クォート文字が含まれているセリフを選ぶこと\"\"\"\n",
    "# 変数に文字列を格納\n",
    "sermon_first = \"and he began to teach them \\n'Blessed are the poorin spirit, \\nfor theirs is the kingdom of heaven.'\"\n",
    "print(sermon_first)"
   ]
  },
  {
   "cell_type": "code",
   "execution_count": 9,
   "id": "9e26e3c5",
   "metadata": {},
   "outputs": [
    {
     "name": "stdout",
     "output_type": "stream",
     "text": [
      "three three three \n",
      "three three three \n"
     ]
    }
   ],
   "source": [
    "\"\"\"9. 文字列を”+”で結合して\n",
    "”three three three”という文字列を作ろう。\n",
    "また”*”を使って同じ文字列を作る*\"\"\"\n",
    "# threeを変数に格納\n",
    "num_three = \"three \"# スペースを忘れる\n",
    "num_three_3 = num_three + num_three + num_three\n",
    "print(num_three_3)\n",
    "num_three_three = num_three * 3\n",
    "print(num_three_three)"
   ]
  },
  {
   "cell_type": "code",
   "execution_count": 15,
   "id": "55b618d1",
   "metadata": {},
   "outputs": [
    {
     "name": "stdout",
     "output_type": "stream",
     "text": [
      "四月も晴れた寒い日で、\n",
      "四月も晴れた寒い日で\n"
     ]
    }
   ],
   "source": [
    "\"\"\"10. 文字列”四月の晴れた寒い日で、\n",
    "時計がどれも十三時を打っていた。”をスライスして、\n",
    "「、」の前までの部分文字列を作ろう\"\"\"\n",
    "# 変数を文字列に格納\n",
    "april_first = \"四月も晴れた寒い日で、時計がどれも十三時を打っていた。\"\n",
    "# .indexで”、”の位置を確認\n",
    "#print(april_first.index(\"、\"))\n",
    "# 最初から”、”の位置の１つ先１１を指定してスライス[:11]\n",
    "april_second = april_first[:11]\n",
    "# スライスした文字列を表示\n",
    "print(april_second)\n",
    "# もっとスマートに・・”、”のindexを変数に格納\n",
    "comma_position = april_first.index(\"、\")# .indexを忘れる。さらに（）ではなく[:]を書く。スライスと混乱？\n",
    "april_third = april_first[:comma_position]\n",
    "print(april_third)"
   ]
  },
  {
   "cell_type": "code",
   "execution_count": null,
   "id": "8c7cce92",
   "metadata": {},
   "outputs": [],
   "source": [
    "\n"
   ]
  }
 ],
 "metadata": {
  "kernelspec": {
   "display_name": "Python (独学プログラマー用)",
   "language": "python",
   "name": "dokugaku-env"
  },
  "language_info": {
   "codemirror_mode": {
    "name": "ipython",
    "version": 3
   },
   "file_extension": ".py",
   "mimetype": "text/x-python",
   "name": "python",
   "nbconvert_exporter": "python",
   "pygments_lexer": "ipython3",
   "version": "3.12.4"
  }
 },
 "nbformat": 4,
 "nbformat_minor": 5
}
