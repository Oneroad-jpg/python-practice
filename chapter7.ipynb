{
 "cells": [
  {
   "cell_type": "code",
   "execution_count": null,
   "id": "d1bb5c8a",
   "metadata": {},
   "outputs": [
    {
     "name": "stdout",
     "output_type": "stream",
     "text": [
      "r\n",
      "o\n",
      "a\n",
      "d\n"
     ]
    }
   ],
   "source": [
    "\"\"\"手作業でリストの要素を一つずつ表示するコード\"\"\"\n",
    "# 変数に要素を格納\n",
    "name = \"road\"\n",
    "# 一つ一つ指定して表示\n",
    "print(name[0])\n",
    "print(name[1])\n",
    "print(name[2])\n",
    "print(name[3])\n"
   ]
  },
  {
   "cell_type": "code",
   "execution_count": null,
   "id": "ba046f5c",
   "metadata": {},
   "outputs": [
    {
     "name": "stdout",
     "output_type": "stream",
     "text": [
      "独\n",
      "学\n",
      "プ\n",
      "ロ\n",
      "グ\n",
      "ラ\n",
      "マ\n",
      "ー\n"
     ]
    }
   ],
   "source": [
    "\"\"\"自動化の魔法：forループ\"\"\"\n",
    "# 変数にデータを格納\n",
    "title = \"独学プログラマー\"\n",
    "# for 要素を格納する変数 in データを格納した変数\n",
    "for character in title:\n",
    "    # 繰り返しで要素を取り出す\n",
    "    print(character)"
   ]
  },
  {
   "cell_type": "code",
   "execution_count": 4,
   "id": "7d58c98c",
   "metadata": {},
   "outputs": [
    {
     "name": "stdout",
     "output_type": "stream",
     "text": [
      "りんご\n",
      "みかん\n",
      "バナナ\n"
     ]
    }
   ],
   "source": [
    "# 果物のリスト\n",
    "fruits = ['りんご', 'みかん', 'バナナ']\n",
    "\n",
    "\"\"\"\n",
    "ドクの解説:\n",
    "このfruitsリストの中身を、forループを使って\n",
    "一つずつprint()で表示してみてください。\n",
    "文字列の時と同じように考えれば大丈夫ですよ。\n",
    "\"\"\"\n",
    "# for リストの要素 in リスト\n",
    "for fruit in fruits:\n",
    "    print(fruit)\n"
   ]
  },
  {
   "cell_type": "code",
   "execution_count": 6,
   "id": "695cec9a",
   "metadata": {},
   "outputs": [
    {
     "name": "stdout",
     "output_type": "stream",
     "text": [
      "Hello!\n",
      "Hello!\n",
      "Hello!\n",
      "おはよう\n",
      "おはよう\n",
      "おはよう\n",
      "おはよう\n",
      "おはよう\n"
     ]
    }
   ],
   "source": [
    "\"\"\"\n",
    "ドクの解説:\n",
    "例えば、「Hello!」と3回表示したい場合はこう書きます。\n",
    "range(3) は 0, 1, 2 という3つの数字を用意してくれます。\n",
    "ループ内の処理ではその数字（i）は使いませんが、\n",
    "ループを3回まわす、という目的のために利用しています。\n",
    "\"\"\"\n",
    "for i in range(3):\n",
    "    print('Hello!')\n",
    "\n",
    "# --- 実行結果 ---\n",
    "# Hello!\n",
    "# Hello!\n",
    "# Hello!\n",
    "\"\"\"では、このrange()を使って、\n",
    "「おはよう」という文字列を\n",
    "5回表示するコードを書いてみてください。\"\"\"\n",
    "for i in range(5):\n",
    "    print(\"おはよう\")"
   ]
  },
  {
   "cell_type": "code",
   "execution_count": null,
   "id": "d91e0183",
   "metadata": {},
   "outputs": [],
   "source": []
  }
 ],
 "metadata": {
  "kernelspec": {
   "display_name": "Python (独学プログラマー用)",
   "language": "python",
   "name": "dokugaku-env"
  },
  "language_info": {
   "codemirror_mode": {
    "name": "ipython",
    "version": 3
   },
   "file_extension": ".py",
   "mimetype": "text/x-python",
   "name": "python",
   "nbconvert_exporter": "python",
   "pygments_lexer": "ipython3",
   "version": "3.12.4"
  }
 },
 "nbformat": 4,
 "nbformat_minor": 5
}
