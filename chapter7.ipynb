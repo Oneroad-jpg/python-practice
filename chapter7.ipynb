{
 "cells": [
  {
   "cell_type": "code",
   "execution_count": null,
   "id": "d1bb5c8a",
   "metadata": {},
   "outputs": [
    {
     "name": "stdout",
     "output_type": "stream",
     "text": [
      "r\n",
      "o\n",
      "a\n",
      "d\n"
     ]
    }
   ],
   "source": [
    "\"\"\"手作業でリストの要素を一つずつ表示するコード\"\"\"\n",
    "# 変数に要素を格納\n",
    "name = \"road\"\n",
    "# 一つ一つ指定して表示\n",
    "print(name[0])\n",
    "print(name[1])\n",
    "print(name[2])\n",
    "print(name[3])\n"
   ]
  },
  {
   "cell_type": "code",
   "execution_count": null,
   "id": "ba046f5c",
   "metadata": {},
   "outputs": [
    {
     "name": "stdout",
     "output_type": "stream",
     "text": [
      "独\n",
      "学\n",
      "プ\n",
      "ロ\n",
      "グ\n",
      "ラ\n",
      "マ\n",
      "ー\n"
     ]
    }
   ],
   "source": [
    "\"\"\"自動化の魔法：forループ\"\"\"\n",
    "# 変数にデータを格納\n",
    "title = \"独学プログラマー\"\n",
    "# for 要素を格納する変数 in データを格納した変数\n",
    "for character in title:\n",
    "    # 繰り返しで要素を取り出す\n",
    "    print(character)"
   ]
  },
  {
   "cell_type": "code",
   "execution_count": 4,
   "id": "7d58c98c",
   "metadata": {},
   "outputs": [
    {
     "name": "stdout",
     "output_type": "stream",
     "text": [
      "りんご\n",
      "みかん\n",
      "バナナ\n"
     ]
    }
   ],
   "source": [
    "# 果物のリスト\n",
    "fruits = ['りんご', 'みかん', 'バナナ']\n",
    "\n",
    "\"\"\"\n",
    "ドクの解説:\n",
    "このfruitsリストの中身を、forループを使って\n",
    "一つずつprint()で表示してみてください。\n",
    "文字列の時と同じように考えれば大丈夫ですよ。\n",
    "\"\"\"\n",
    "# for リストの要素 in リスト\n",
    "for fruit in fruits:\n",
    "    print(fruit)\n"
   ]
  },
  {
   "cell_type": "code",
   "execution_count": 6,
   "id": "695cec9a",
   "metadata": {},
   "outputs": [
    {
     "name": "stdout",
     "output_type": "stream",
     "text": [
      "Hello!\n",
      "Hello!\n",
      "Hello!\n",
      "おはよう\n",
      "おはよう\n",
      "おはよう\n",
      "おはよう\n",
      "おはよう\n"
     ]
    }
   ],
   "source": [
    "\"\"\"\n",
    "ドクの解説:\n",
    "例えば、「Hello!」と3回表示したい場合はこう書きます。\n",
    "range(3) は 0, 1, 2 という3つの数字を用意してくれます。\n",
    "ループ内の処理ではその数字（i）は使いませんが、\n",
    "ループを3回まわす、という目的のために利用しています。\n",
    "\"\"\"\n",
    "for i in range(3):\n",
    "    print('Hello!')\n",
    "\n",
    "# --- 実行結果 ---\n",
    "# Hello!\n",
    "# Hello!\n",
    "# Hello!\n",
    "\"\"\"では、このrange()を使って、\n",
    "「おはよう」という文字列を\n",
    "5回表示するコードを書いてみてください。\"\"\"\n",
    "for i in range(5):\n",
    "    print(\"おはよう\")"
   ]
  },
  {
   "cell_type": "code",
   "execution_count": 7,
   "id": "d91e0183",
   "metadata": {},
   "outputs": [
    {
     "name": "stdout",
     "output_type": "stream",
     "text": [
      "シー:\n",
      "エフ:\n",
      "ジー:\n",
      "\n",
      "シー:\n",
      "エフ:\n",
      "ジー:\n",
      "\n"
     ]
    }
   ],
   "source": [
    "\"\"\"'F' を 'エフ' に置換する\n",
    "'G' を 'ジー' に置換する\n",
    "\"\"\"\n",
    "# 置換対象の文章\n",
    "sentence = \"C:\\nF:\\nG:\\n\"\n",
    "\n",
    "\"\"\"\n",
    "お題\n",
    "以下の文章に含まれる指定の文字を、replace()メソッドを複数回使って置換し、最終的な結果を出力してください。\n",
    "'C' を 'シー' に置換する\n",
    "'F' を 'エフ' に置換する\n",
    "'G' を 'ジー' に置換する\n",
    "\"\"\"\n",
    "\n",
    "# 置換なので.replaceメソッド\n",
    "# 'C'を'シー'に置換\n",
    "sentence_first = sentence.replace(\"C\", \"シー\")\n",
    "# 置換した文字列を表示\n",
    "# print(sentence_first)\n",
    "# 'F'を'エフ'に置換\n",
    "sentence_second = sentence_first.replace(\"F\", \"エフ\")\n",
    "# 置換した文字列を表示\n",
    "#print(sentence_second)\n",
    "# 'G'を'ジー'に置換\n",
    "sentence_third = sentence_second.replace(\"G\", \"ジー\")\n",
    "# 置換した文字列を表示\n",
    "print(sentence_third)\n",
    "\n",
    "# 別解・・チェーンのようにつなげる\n",
    "result = sentence.replace(\"C\", \"シー\").replace(\"F\", \"エフ\").replace(\"G\", \"ジー\")\n",
    "print(result)"
   ]
  },
  {
   "cell_type": "code",
   "execution_count": 8,
   "id": "e950310f",
   "metadata": {},
   "outputs": [
    {
     "name": "stdout",
     "output_type": "stream",
     "text": [
      "1\n",
      "2\n",
      "3\n",
      "4\n",
      "5\n"
     ]
    }
   ],
   "source": [
    "\n",
    "\"\"\"\n",
    "ドクの解説:\n",
    "whileループの基本構造です。\n",
    "\n",
    "1. まず、カウンターとなる変数を用意します (x = 1)\n",
    "2. whileの後ろに、続けるための「条件」を書きます (x <= 5)\n",
    "   「xが5以下の間は、処理を続けてください」という意味です。\n",
    "3. 繰り返したい処理を書きます (print(x))\n",
    "4. ★重要★ ループの最後に、いつかループを終わらせるための処理を書きます (x = x + 1)\n",
    "   xの値を1ずつ増やすことで、いつかxが5より大きくなり、ループが終了します。\n",
    "   これを忘れると、無限ループになってしまいます。\n",
    "\"\"\"\n",
    "x = 1\n",
    "while x <= 5:\n",
    "    print(x)\n",
    "    x = x + 1"
   ]
  },
  {
   "cell_type": "code",
   "execution_count": 9,
   "id": "335c7423",
   "metadata": {},
   "outputs": [
    {
     "name": "stdout",
     "output_type": "stream",
     "text": [
      "1\n",
      "2\n",
      "3\n",
      "4\n",
      "5\n"
     ]
    }
   ],
   "source": [
    "\"\"\"お題\n",
    "では、この例を参考にして、**「1から5までの数字」**\n",
    "を順番に表示するプログラムを、ご自身で書いてみてください。\n",
    "\"\"\"\n",
    "# グローバル変数を設定\n",
    "x = 1\n",
    "# while節で条件を設定・・xが５以下がTrueの間は繰り返す\n",
    "while x <= 5:\n",
    "    # xを表示\n",
    "    print(x)\n",
    "    # 次のxを設定\n",
    "    x = x + 1"
   ]
  },
  {
   "cell_type": "code",
   "execution_count": 1,
   "id": "1c24386f",
   "metadata": {},
   "outputs": [
    {
     "name": "stdout",
     "output_type": "stream",
     "text": [
      "ベートーベン\n",
      "ブラームス\n",
      "バッハ\n"
     ]
    }
   ],
   "source": [
    "\"\"\"好きなミュージシャンのリストを作成し、print()で出力する。\"\"\"\n",
    "# リストを作成\n",
    "musician_list = [\"ベートーベン\", \"ブラームス\", \"バッハ\"]\n",
    "# リストを表示\n",
    "for musician in musician_list:\n",
    "    print(musician)"
   ]
  },
  {
   "cell_type": "code",
   "execution_count": 2,
   "id": "cd3741ae",
   "metadata": {},
   "outputs": [
    {
     "name": "stdout",
     "output_type": "stream",
     "text": [
      "10\n",
      "9\n",
      "8\n",
      "7\n",
      "6\n",
      "5\n",
      "4\n",
      "3\n",
      "2\n",
      "1\n"
     ]
    }
   ],
   "source": [
    "\"\"\"「1から5まで数を増やす」whileループを改造して、\n",
    "**「10から1まで数を減らしながら表示」**\n",
    "するプログラムを作成してください。\"\"\"\n",
    "# 変数iに初期値を格納\n",
    "i = 10\n",
    "# whileループで条件式を設定\n",
    "while i > 0:\n",
    "    # iを表示\n",
    "    print(i)\n",
    "    # iを減らしていく\n",
    "    i -= 1"
   ]
  },
  {
   "cell_type": "code",
   "execution_count": null,
   "id": "027dc022",
   "metadata": {},
   "outputs": [
    {
     "name": "stdout",
     "output_type": "stream",
     "text": [
      "0\n",
      "1\n",
      "2\n",
      "3\n",
      "4\n",
      "5\n",
      "6\n",
      "7\n",
      "8\n",
      "9\n"
     ]
    }
   ],
   "source": [
    "# 復習タスク\n",
    "\"\"\"\n",
    "ドクの解説:\n",
    "書籍や以前のコードは見ずに、自力で解いてみてください。\n",
    "range()のカッコの中に何を入れると、0から9までの数字が\n",
    "生成されるかを思い出すのがポイントです。\n",
    "\"\"\"\n",
    "# count変数を設定\n",
    "# i = 0・・for in ループには不要\n",
    "# for in でループ\n",
    "for i in range(0, 10):\n",
    "    # iを表示\n",
    "    print(i)\n",
    "    # iを１ずつ増やす\n",
    "    # i += 1・・for in ループには不要\n",
    "    # whileループと区別すること"
   ]
  },
  {
   "cell_type": "code",
   "execution_count": 12,
   "id": "362894b1",
   "metadata": {},
   "outputs": [
    {
     "name": "stdout",
     "output_type": "stream",
     "text": [
      "りんご\n",
      "ぶどう\n",
      "ターゲット\n",
      "[修正]:ターゲットは表示しない\n",
      "りんご\n",
      "ぶどう\n"
     ]
    }
   ],
   "source": [
    "\"\"\"\n",
    "ドクの解説:\n",
    "リストの中に「ターゲット」という文字列があります。\n",
    "forループとif文を使い、この「ターゲット」という文字を\n",
    "見つけたら、その時点でループを終了（break）させてください。\n",
    "「ターゲット」以降の「みかん」や「バナナ」は表示されないはずです。\n",
    "\"\"\"\n",
    "fruits = [\"りんご\", \"ぶどう\", \"ターゲット\", \"みかん\", \"バナナ\"]\n",
    "# for in でリストの要素を取り出す\n",
    "for fruit in fruits:\n",
    "    # 取り出した要素を表示\n",
    "    print(fruit)\n",
    "    # breakの条件設定\n",
    "    if fruit == \"ターゲット\":\n",
    "        break\n",
    "\n",
    "\"\"\"コンピュータにとって「見つける」というのは、\n",
    "if fruit == \"ターゲット\": \n",
    "    という条件式が真（True）になった、その瞬間のことを指します。\n",
    "\n",
    "コンピュータは、その瞬間に「見つけた」と内部的に判断し、\n",
    "次の命令（今回はbreak）に移ることができます。\n",
    "表示（print）するかどうかは、その後のまた別の命令になるのです。\n",
    "\n",
    "つまり、\n",
    "「見つける」という処理（＝条件判断）\n",
    "「見つけた結果をどうするか」という処理（＝表示、記録など）\n",
    "この2つを、プログラミングでは別々のこととして分けて考える\"\"\"\n",
    "print(\"[修正]:ターゲットは表示しない\")\n",
    "for fruit in fruits:\n",
    "    if fruit == \"ターゲット\":\n",
    "        break\n",
    "    print(fruit)\n"
   ]
  },
  {
   "cell_type": "code",
   "execution_count": null,
   "id": "1c4961e4",
   "metadata": {},
   "outputs": [
    {
     "name": "stdout",
     "output_type": "stream",
     "text": [
      "1\n",
      "3\n",
      "5\n"
     ]
    }
   ],
   "source": [
    "\"\"\"\n",
    "ドクの解説:\n",
    "今度は、リストの中の負の数（0より小さい数）を\n",
    "スキップ（continue）してみましょう。\n",
    "if文で数が負かどうかをチェックし、もし負であれば\n",
    "continueを使って、print(num)が実行されないようにしてください。\n",
    "結果として、正の数である 1, 3, 5 だけが表示されるはずです。\n",
    "\"\"\"\n",
    "numbers = [1, -2, 3, -4, 5]\n",
    "\n",
    "# for inループを使用\n",
    "for number in numbers:\n",
    "    # numberが負の数の時は表示しない\n",
    "    if number < 0:\n",
    "        continue\n",
    "    # for in節に戻る\n",
    "    print(number)"
   ]
  },
  {
   "cell_type": "code",
   "execution_count": null,
   "id": "fcd2a6f6",
   "metadata": {},
   "outputs": [
    {
     "name": "stdout",
     "output_type": "stream",
     "text": [
      "赤\n",
      "Tシャツ\n",
      "パンツ\n",
      "青\n",
      "Tシャツ\n",
      "パンツ\n",
      "赤 - Tシャツ\n",
      "赤 - パンツ\n",
      "青 - Tシャツ\n",
      "青 - パンツ\n"
     ]
    }
   ],
   "source": [
    "\"\"\"\n",
    "ドクの解説:\n",
    "外側のループで色を一つ取り出し、\n",
    "その内側のループでアイテムを一つずつ取り出して組み合わせる、\n",
    "という流れをイメージしてみてください。\n",
    "\"\"\"\n",
    "colors = [\"赤\", \"青\"]\n",
    "items = [\"Tシャツ\", \"パンツ\"]\n",
    "\n",
    "# for in でcolorsの要素を取り出してループ\n",
    "\n",
    "for color in colors:\n",
    "        # 取り出したcolorを表示\n",
    "    print(color)\n",
    "    # 次のcolorsの要素にループする前に\n",
    "    # for in でitems の要素を取り出してループ\n",
    "    for item in items:\n",
    "        print(item)\n",
    "# colorsの要素を取り出すループに戻る\n",
    "\n",
    "\"\"\"\n",
    "ドクの解説:\n",
    "内側のループで print() を実行する際に、\n",
    "f-string を使って二つの変数を一つの文字列にまとめています。\n",
    "これで、目的通りの出力が得られますね。\n",
    "\"\"\"\n",
    "# for in ループでcolorsの要素を取り出す\n",
    "for color in colors:\n",
    "    # for in ループでitemsの要素を取り出す\n",
    "    for item in items:\n",
    "        # f-stringでcolorとitemを組み合わせて表示\n",
    "        print(f\"{color} - {item}\")# f-stringの変数の扱いを忘れる\n",
    "# colorsの要素を取り出すループに戻る"
   ]
  },
  {
   "cell_type": "code",
   "execution_count": 5,
   "id": "38c3b0c8",
   "metadata": {},
   "outputs": [
    {
     "name": "stdout",
     "output_type": "stream",
     "text": [
      "10\n",
      "20\n",
      "30\n"
     ]
    }
   ],
   "source": [
    "\"\"\"目的: breakとcontinueを、一つのループ内で正しく使い分ける\n",
    "お題: 以下の数字リストをループで処理し、以下のルールに従って出力\n",
    "数字が正の数なら、そのまま表示\n",
    "数字が負の数なら、何もせずにスキップ (continue)。\n",
    "数字が 0 だったら、その時点でループ終了(break)。\n",
    "期待される出力: 10, 20 の2つだけが表示\"\"\"\n",
    "\"\"\"\n",
    "ドクの解説:\n",
    "if, elif, else をうまく使って、3つの条件を\n",
    "どのように分岐させるかがポイントです。\n",
    "\"\"\"\n",
    "data = [10, 20, -5, 30, 0, -10, 40]\n",
    "\n",
    "# for in でdataの要素を変数に格納\n",
    "for num in data:\n",
    "    # numが正の数の時は表示\n",
    "    if num > 0:\n",
    "        print(num)\n",
    "    # numが負の数の時はスキップ\n",
    "    elif num < 0:\n",
    "        continue\n",
    "    # numがそれ以外のとき・・　　num = 0\n",
    "    # break\n",
    "    else:\n",
    "        break"
   ]
  },
  {
   "cell_type": "code",
   "execution_count": 6,
   "id": "2519bd2b",
   "metadata": {},
   "outputs": [
    {
     "name": "stdout",
     "output_type": "stream",
     "text": [
      "(0, 0)\n",
      "(0, 1)\n",
      "(0, 2)\n",
      "(1, 0)\n",
      "(1, 1)\n",
      "(1, 2)\n",
      "(2, 0)\n",
      "(2, 1)\n",
      "(2, 2)\n"
     ]
    }
   ],
   "source": [
    "\"\"\"目的: 入れ子ループを使い、二次元的なデータ（座標など）を作成\n",
    "お題: range()を使った入れ子ループで、x座標が0から2、y座標が0から2の、\n",
    "すべての座標の組み合わせ(x, y)を出力\n",
    "期待される出力: (0, 0) から (2, 2) までの9つの組み合わせが順番に表示\"\"\"\n",
    "\n",
    "\"\"\"\n",
    "ドクの解説:\n",
    "外側のループでxの値を、内側のループでyの値を\n",
    "それぞれ0, 1, 2と変化させて、f-stringで組み合わせます。\n",
    "\"\"\"\n",
    "\n",
    "# 最初のfor rangeでxをループ\n",
    "for x in range(0, 3):\n",
    "    # 次のfor rangeでyをループ\n",
    "    for y in range(0, 3):\n",
    "        # f-stringで(x.y)を表示\n",
    "        print(f\"({x}, {y})\")\n",
    "        # 最初のfor rangeに戻る\n",
    "        # 相変わらずindexの法則を忘れて(0, 2)としたので修正"
   ]
  },
  {
   "cell_type": "code",
   "execution_count": null,
   "id": "e740e86b",
   "metadata": {},
   "outputs": [],
   "source": []
  }
 ],
 "metadata": {
  "kernelspec": {
   "display_name": "Python (独学プログラマー用)",
   "language": "python",
   "name": "dokugaku-env"
  },
  "language_info": {
   "codemirror_mode": {
    "name": "ipython",
    "version": 3
   },
   "file_extension": ".py",
   "mimetype": "text/x-python",
   "name": "python",
   "nbconvert_exporter": "python",
   "pygments_lexer": "ipython3",
   "version": "3.12.4"
  }
 },
 "nbformat": 4,
 "nbformat_minor": 5
}
