{
 "cells": [
  {
   "cell_type": "code",
   "execution_count": 5,
   "id": "c8f27fd1",
   "metadata": {},
   "outputs": [
    {
     "name": "stdout",
     "output_type": "stream",
     "text": [
      "3.141592653589793\n"
     ]
    }
   ],
   "source": [
    "\"\"\"mathモジュールをインポートして\n",
    "円周率piを表示するコード\"\"\"\n",
    "# モジュールmathをインポート\n",
    "import math\n",
    "# mathの中からpiを表示\n",
    "print(math.pi)"
   ]
  },
  {
   "cell_type": "code",
   "execution_count": 7,
   "id": "3c00ef73",
   "metadata": {},
   "outputs": [],
   "source": [
    "# with:キーワード　\n",
    "# 　　　ブロックの処理が終わったら安全に閉じる\n",
    "# open()は組み込み関数\n",
    "# st.txtファイルをw:書き込みモードで開いて\n",
    "# fというエイリアスを設定\n",
    "with open(\"st.txt\", \"w\")as f:\n",
    "# fにHello以下を書き込む\n",
    "    f.write(\"Hello from Python!\")\n",
    "# st.txtが新しく作成\n",
    "# 開くとHello以下が書き込まれていることを確認"
   ]
  },
  {
   "cell_type": "code",
   "execution_count": 16,
   "id": "a09de26f",
   "metadata": {},
   "outputs": [],
   "source": [
    "# st.txtをwith open()で開いてfエイリアスを設定\n",
    "with open(\"st.txt\", \"w\")as f:\n",
    "    # fに上書き\n",
    "    f.write(\"１行目です。\\n２行目です。\\n３行目です。\")\n",
    "    # 改行された文章を確認\n"
   ]
  },
  {
   "cell_type": "code",
   "execution_count": 9,
   "id": "f33995d0",
   "metadata": {},
   "outputs": [
    {
     "name": "stdout",
     "output_type": "stream",
     "text": [
      "１行目です。\n",
      "２行目です。\n",
      "３行目です。\n"
     ]
    }
   ],
   "source": [
    "# st.txtをwith open()で開いてfエイリアスを設定\n",
    "# \"w\"ではなく\"r\"・・read\n",
    "with open(\"st.txt\",\"r\")as f:\n",
    "    # fを読み込んで内容を変数に格納\n",
    "    content = f.read()\n",
    "\n",
    "# 読み込んだ内容を表示\n",
    "print(content)"
   ]
  },
  {
   "cell_type": "code",
   "execution_count": 13,
   "id": "e6aebd6f",
   "metadata": {},
   "outputs": [
    {
     "name": "stdout",
     "output_type": "stream",
     "text": [
      "１行目です。\n",
      "\n",
      "２行目です。\n",
      "\n",
      "３行目です。\n",
      "--- 読み込み終了 ---\n",
      "---(修正版)空行なしで読み込み開始---\n",
      "１行目です。\n",
      "２行目です。\n",
      "３行目です。\n",
      "---読み込み終了---\n"
     ]
    }
   ],
   "source": [
    "# with open()でst.txtファイルを\n",
    "# f:エイリアスを設定しread・・読み込みモード\n",
    "with open(\"st_doc.txt\",\"r\")as f:\n",
    "    # for inで繰り返し\n",
    "    # line にf:を１行ずつ格納\n",
    "    for line in f:\n",
    "        # lineを１行ずつ表示\n",
    "        print(line)\n",
    "\n",
    "print(\"--- 読み込み終了 ---\")\n",
    "# 1行ずつ表示されることを確認済み\n",
    "\n",
    "print(\"---(修正版)空行なしで読み込み開始---\")\n",
    "\n",
    "with open(\"st_doc.txt\",\"r\")as f:\n",
    "    for line in f:\n",
    "        # strip()で前後の空行や改行文字を削除してから表示\n",
    "        print(line.strip())\n",
    "    \n",
    "print(\"---読み込み終了---\")\n",
    "# 修正版は空行がないことを確認済み"
   ]
  },
  {
   "cell_type": "code",
   "execution_count": 19,
   "id": "578b18fc",
   "metadata": {},
   "outputs": [
    {
     "name": "stdout",
     "output_type": "stream",
     "text": [
      "卵\n",
      "牛乳\n",
      "パン\n"
     ]
    }
   ],
   "source": [
    "\"\"\"ステップA：リストをファイルに書き込む\n",
    "shopping_list.txtという名前のファイルを\n",
    "書き込みモードで開きます。\n",
    "そのファイルに、以下の3つの項目を、\n",
    "それぞれ別の行になるように書き込んでください。\n",
    "卵\n",
    "牛乳\n",
    "パン\n",
    "\"\"\"\n",
    "# ファイルを作成　\"w\"モード\n",
    "with open(\"shopping_list.txt\", \"w\") as f:\n",
    "    f.write(\"卵\\n牛乳\\nパン\")\n",
    "# ファイルを開いて確認\n",
    "with open(\"shopping_list.txt\",\"r\") as f:\n",
    "    shopping_list = f.read()\n",
    "    print(shopping_list)"
   ]
  },
  {
   "cell_type": "code",
   "execution_count": 39,
   "id": "8d9c0a9d",
   "metadata": {},
   "outputs": [
    {
     "name": "stdout",
     "output_type": "stream",
     "text": [
      "1. 卵\n",
      "2. 牛乳\n",
      "3. パン\n"
     ]
    }
   ],
   "source": [
    "\"\"\"ステップB：ファイルからリストを\n",
    "読み込んで表示する\n",
    "今作成したshopping_list.txtを\n",
    "読み込みモードで開き、1行ずつ読み込みながら、\n",
    "以下のように番号を付けて表示してください。\n",
    "【出力結果のイメージ】\n",
    "1. 卵\n",
    "2. 牛乳\n",
    "3. パン\"\"\"\n",
    "# 読み込みモードでファイルを開く\n",
    "with open(\"shopping_list.txt\",\"r\") as f:\n",
    "    # count変数を設定\n",
    "    count = 1\n",
    "    # 1行ごとにcount変数と\".\"を加えて表示\n",
    "    for line in f:\n",
    "        #print(count,\". \" + line.strip())・・f-stringを忘れる\n",
    "        print(f\"{count}. {line.strip()}\")\n",
    "        count +=1"
   ]
  },
  {
   "cell_type": "code",
   "execution_count": 41,
   "id": "05c2e1d6",
   "metadata": {},
   "outputs": [],
   "source": [
    "\"\"\"タスク1：CSVファイルへの書き込み\n",
    "まずは、このcsvモジュールを使って、\n",
    "Pythonのデータ（リスト）\n",
    "をCSVファイルに書き込んでみましょう。\"\"\"\n",
    "# csvモジュールをインポート\n",
    "import csv\n",
    "# 2次元リストで表データを用意\n",
    "user_data = [\n",
    "    [\"id\", \"name\", \"age\"],\n",
    "    [1, \"Sato\", 30],\n",
    "    [2, \"Suzuke\", 25]\n",
    "]\n",
    "\n",
    "# with openを\"w\"モード　エイリアス　fを設定\n",
    "# 引数newline = \"\"　・・2次元配列のため？→意図しない改行を防ぐためのもの\n",
    "with open(\"users.csv\", \"w\",newline = \"\") as f:\n",
    "    # writer・・変数を作成\n",
    "    writer = csv.writer(f)\n",
    "    # user_dataを変数writerへ.writerowsメソッドで入力\n",
    "    writer.writerows(user_data)"
   ]
  },
  {
   "cell_type": "code",
   "execution_count": 42,
   "id": "402602ed",
   "metadata": {},
   "outputs": [
    {
     "name": "stdout",
     "output_type": "stream",
     "text": [
      "['id', 'name', 'age']\n",
      "['1', 'Sato', '30']\n",
      "['2', 'Suzuke', '25']\n"
     ]
    }
   ],
   "source": [
    "\"\"\"タスク2：CSVファイルからの読み込み\"\"\"\n",
    "# csvモジュールをインポート\n",
    "import csv\n",
    "# with openでcsvファイルを\"r\"モード　fをエイリアスに設定\n",
    "with open(\"users.csv\", \"r\") as f:\n",
    "    # 変数を作成\n",
    "    reader = csv.reader(f)\n",
    "    # readerの要素を変数rowへ取り出す\n",
    "    for row in reader:\n",
    "        # 要素を表示\n",
    "        print(row)"
   ]
  },
  {
   "cell_type": "code",
   "execution_count": null,
   "id": "9cff4b47",
   "metadata": {},
   "outputs": [],
   "source": [
    "\"\"\"ステップA：\n",
    "商品リストをCSVファイルに書き込む\n",
    "products.csv という名前のファイルを作成\n",
    "以下のヘッダー行と2つの商品データを書き込む\n",
    "ヘッダー: product_name, price\n",
    "データ1: Apple, 150\n",
    "データ2: Orange, 120\"\"\"\n",
    "# csvモジュールをインポート\n",
    "import csv\n",
    "\n",
    "# list作成・・先に作ることを忘れる　スペルミスが本当に多い\n",
    "products_list = [\n",
    "    [\"product_name\", \"price\"],# \",\"忘れて苦戦 ヘッダー\n",
    "    [\"Apple\", 150],# データ１\n",
    "    [\"Orange\", 120]# データ２\n",
    "]\n",
    "\n",
    "# with open&\"w\",fエイリアスを設定\n",
    "# newline = \"\"・・忘れないように\n",
    "with open(\"products.csv\", \"w\", newline = \"\") as f:\n",
    "    # writer・・csvに変換してfを格納\n",
    "    writer = csv.writer(f)#csv.writer()はメソッド？関数？\n",
    "    # .writerows出てこない・・owsとは？→write+rows・・rowsは複数列　writerow・・もある\n",
    "    writer.writerows(products_list)# writerows・・スペルミス（writerrows）\n",
    "    \"\"\"\n",
    "関数 (Function): csv.writer(f) のように、\n",
    "モジュール名（csv）の後や、単独で使われるのが「関数」\n",
    "\n",
    "メソッド (Method): writer.writerows(...) のように、\n",
    "変数（writer）など、何かのオブジェクトの後ろにドット（.）を付けて使われる、\n",
    "そのオブジェクト専用の関数が「メソッド」です\"\"\""
   ]
  },
  {
   "cell_type": "code",
   "execution_count": 80,
   "id": "e86e34be",
   "metadata": {},
   "outputs": [
    {
     "name": "stdout",
     "output_type": "stream",
     "text": [
      "Apple\n"
     ]
    }
   ],
   "source": [
    "\"\"\"ステップB：CSVから商品を読み込み、\n",
    "条件に合うものを表示する\n",
    "products.csv を読み込みモードで開きます。\n",
    "（ヒント） csv.reader を作成した直後に \n",
    "next(reader) を一度だけ実行すると、\n",
    "ヘッダー行を読み飛ばして、\n",
    "次の行から処理を始めることができます。\n",
    "残りのデータ行を1行ずつループで処理します。\n",
    "各行の価格（2番目の要素）を数値に変換し、\n",
    "その価格が130円以上かどうかを判定します。\n",
    "価格が130円以上の場合のみ、\n",
    "その商品の名前（1番目の要素）を表示してください。\"\"\"\n",
    "# csvモジュールをインポート\n",
    "import csv\n",
    "\n",
    "# with open&\"r\"モード　fをエイリアスに設定\n",
    "with open(\"products.csv\", \"r\") as f:\n",
    "    # 変数を作成\n",
    "    reader = csv.reader(f)\n",
    "    # ヘッダーを省略\n",
    "    next(reader)# 初めて出てきた\n",
    "    # for in でループ\n",
    "    for row in reader:\n",
    "        # 値段をとりだすには？\n",
    "        product_price = row[1]\n",
    "        # 値段を数値に変換\n",
    "        product_price = int(row[1])\n",
    "        # 130円以上ならば、商品名を表示\n",
    "        if product_price >= 130:# :を忘れてエラー\n",
    "            print(row[0])"
   ]
  },
  {
   "cell_type": "code",
   "execution_count": null,
   "id": "18ca1d2b",
   "metadata": {},
   "outputs": [],
   "source": []
  }
 ],
 "metadata": {
  "kernelspec": {
   "display_name": "Python (独学プログラマー用)",
   "language": "python",
   "name": "dokugaku-env"
  },
  "language_info": {
   "codemirror_mode": {
    "name": "ipython",
    "version": 3
   },
   "file_extension": ".py",
   "mimetype": "text/x-python",
   "name": "python",
   "nbconvert_exporter": "python",
   "pygments_lexer": "ipython3",
   "version": "3.12.4"
  }
 },
 "nbformat": 4,
 "nbformat_minor": 5
}
