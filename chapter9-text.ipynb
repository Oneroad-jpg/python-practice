{
 "cells": [
  {
   "cell_type": "code",
   "execution_count": null,
   "id": "08d2cd66",
   "metadata": {},
   "outputs": [],
   "source": [
    "# openでファイルを作成\n",
    "# w:書き込みモード\n",
    "st = open(\"st.txt\", \"w\")\n",
    "# .writeメソッドで書き込み\n",
    "st.write(\"Hi from Python!\")\n",
    "# .close()で終了\n",
    "st.close()\n",
    "# st.txtファイルで確認"
   ]
  },
  {
   "cell_type": "code",
   "execution_count": 4,
   "id": "afd9058e",
   "metadata": {},
   "outputs": [
    {
     "name": "stdout",
     "output_type": "stream",
     "text": [
      "Pythonからこんにちは！\n"
     ]
    }
   ],
   "source": [
    "# 日本語の文字列も書き込む\n",
    "# openでファイルを開くときもう一つ引数を指定\n",
    "st_j = open(\"st_j.txt\", \"w\", encoding = \"utf-8\")\n",
    "st_j.write(\"Pythonからこんにちは！\")\n",
    "st_j.close()\n",
    "\n",
    "# with構文を使う\n",
    "with open(\"st_j.txt\",\"r\", encoding = \"utf-8\")as f:\n",
    "    print(f.read())"
   ]
  },
  {
   "cell_type": "code",
   "execution_count": null,
   "id": "d9a7d847",
   "metadata": {},
   "outputs": [],
   "source": [
    "# with構文を使う\n",
    "with open(\"st.txt\", \"w\")as f:\n",
    "    f.write(\"Hi from Python\")\n",
    "# ファイルを開いて確認済み"
   ]
  },
  {
   "cell_type": "code",
   "execution_count": 6,
   "id": "bbed6f0a",
   "metadata": {},
   "outputs": [
    {
     "name": "stdout",
     "output_type": "stream",
     "text": [
      "Hi from Python\n"
     ]
    }
   ],
   "source": [
    "\"\"\"ファイルを読み込む\n",
    "open関数の第２引数にrを渡す\n",
    "readメソッドを呼び出すこと\"\"\"\n",
    "\n",
    "# 前のブロックで作成したファイルを読み込む\n",
    "# with open構文で\"r\":readモード\n",
    "with open(\"st.txt\", \"r\") as f:\n",
    "    # .readメソッドを呼び出す\n",
    "    print(f.read())"
   ]
  },
  {
   "cell_type": "code",
   "execution_count": 7,
   "id": "e1891768",
   "metadata": {},
   "outputs": [
    {
     "name": "stdout",
     "output_type": "stream",
     "text": [
      "Pythonからこんにちは！\n"
     ]
    }
   ],
   "source": [
    "# 日本語を含むファイルの読み込み\n",
    "# with open構文\"r\":readモード　encoding = \"utf-8\"を引数に加える\n",
    "with open(\"st_j.txt\", \"r\", encoding = \"utf-8\") as f:\n",
    "    # ファイルを.readメソッドで表示\n",
    "    print(f.read())\n",
    "    # 表示できたことを確認済み"
   ]
  },
  {
   "cell_type": "code",
   "execution_count": 8,
   "id": "6c708f78",
   "metadata": {},
   "outputs": [],
   "source": [
    "\"追記の方法aモード\"\n",
    "# with open構文　\"a\":appendモード\n",
    "with open(\"st.txt\", \"a\") as f:\n",
    "    # .writeメソッドで追記\n",
    "    f.write(\"\\nand good bye from Python.\")#\\nで改行\n",
    "    "
   ]
  },
  {
   "cell_type": "code",
   "execution_count": 9,
   "id": "b10429fe",
   "metadata": {},
   "outputs": [
    {
     "name": "stdout",
     "output_type": "stream",
     "text": [
      "Hi from Python\n",
      "and good bye from Python.\n"
     ]
    }
   ],
   "source": [
    "# with open構文　\"r\"readモード\n",
    "with open(\"st.txt\", \"r\") as f:\n",
    "    # 追記されたファイルを表示\n",
    "    print(f.read())\n",
    "    # 追記されたことを確認済み"
   ]
  },
  {
   "cell_type": "code",
   "execution_count": 16,
   "id": "ecc6f6fd",
   "metadata": {},
   "outputs": [
    {
     "name": "stdout",
     "output_type": "stream",
     "text": [
      "['Hi from Python', 'and good bye from Python.']\n"
     ]
    }
   ],
   "source": [
    "\"\"\"読み込んだファイルのコンテンツを\n",
    "使いやすいように\n",
    "変数やコンテナに入れておく方法\"\"\"\n",
    "# 新しいリストを作成\n",
    "my_list = []\n",
    "\n",
    "# with open構文 \"r\":readモード　エイリアス設定f\n",
    "with open(\"st.txt\", \"r\") as f:\n",
    "    # fから１行ずつ、順番に取り出す\n",
    "    for line in f:\n",
    "\n",
    "        # .appendメソッドでリストに追加\n",
    "        my_list.append(line.strip())\n",
    "\n",
    "\n",
    "# 追加されたリストを表示\n",
    "print(my_list)"
   ]
  },
  {
   "cell_type": "code",
   "execution_count": 23,
   "id": "a45e2263",
   "metadata": {},
   "outputs": [
    {
     "name": "stdout",
     "output_type": "stream",
     "text": [
      "one,two,three\n",
      "four,five,six\n"
     ]
    }
   ],
   "source": [
    "# csvモジュールをインポート\n",
    "import csv\n",
    "# with open&\"w\", newline = \"\"モード　fエイリアスを設定\n",
    "with open(\"st.csv\", \"w\", newline = \"\") as f:\n",
    "    # csv.writer(f)はcsvで書き込みをする準備\n",
    "    # delmiter = \"\"は書き込みに対して区切り板を指定\n",
    "    w = csv.writer(f, delimiter = \",\")# 仕切り板はあくまでも１種類だけ\n",
    "    w.writerow([\"one\", \"two\", \"three\"])\n",
    "    w.writerow([\"four\",\"five\", \"six\"])\n",
    "\n",
    "# 前のコードに続いて\n",
    "# csvモジュールをインポート\n",
    "import csv\n",
    "# with open&\"r\"モード　fエイリアスを設定\n",
    "with open(\"st.csv\", \"r\") as f:\n",
    "    r = csv.reader(f,delimiter = \",\")\n",
    "    # rという変数は\"one,two,threeという文字列ではなく\n",
    "    # [\"one\",\"two\",\"three\"]リストが１行ずつ用意されていく\n",
    "    # for in を使い繰り返し\n",
    "    for row in r:# どうしても：を忘れる\n",
    "        print(\",\".join(row))# rowという要素を\",\"という接着剤でくっつけて\n",
    "        # 表示のための文字列に組み立てる"
   ]
  },
  {
   "cell_type": "code",
   "execution_count": 2,
   "id": "170706f2",
   "metadata": {},
   "outputs": [
    {
     "name": "stdout",
     "output_type": "stream",
     "text": [
      "product_name,price\n",
      "Apple,150\n",
      "Orange,120\n",
      "\n"
     ]
    }
   ],
   "source": [
    "\"\"\"9章　チャレンジ\n",
    "1. コンピュータにある何かのファイルを\n",
    "Pythonで開いて、コンテンツを出力　\n",
    "\"\"\"\n",
    "# with opeh&\"r\"モード　encoding = \"utf-8\" fをエイリアスに設定\n",
    "#with open(\"product.csv\", \"r\", encording = \"utf-8\") as f:\n",
    "#   print(f.read())\n",
    "# スペルミスを修正\n",
    "with open(\"products.csv\", \"r\", encoding = \"utf-8\") as f:\n",
    "    print(f.read())\n"
   ]
  },
  {
   "cell_type": "code",
   "execution_count": 7,
   "id": "3da1c11e",
   "metadata": {},
   "outputs": [],
   "source": [
    "\"\"\"2. 何か質問するプログラムを書こう\n",
    "入力された回答をファイルに書き出そう　\n",
    "\"\"\"\n",
    "# ステップ１・・回答を集める\n",
    "# 複数の質問をリストにする\n",
    "questions_list = [\"あなたのお名前は？\",\n",
    "                \"あなたのお住まいは？\",\n",
    "                \"あなたのお仕事は？\"]\n",
    "\n",
    "# 回答用のリストを作成\n",
    "ansers_list = []\n",
    "\n",
    "# for inループで質問を表示\n",
    "for i in questions_list:\n",
    "    # inputでユーザに情報を入力\n",
    "    # ansers_list = input(i)・・・これでは上書きされる\n",
    "    # ansers_listに入っているか確認\n",
    "    #print(ansers_list)→確認済み\n",
    "\n",
    "    # 上書きされないように修正\n",
    "    # 回答を変数に格納\n",
    "    anser = input(i)\n",
    "    # リストに追加していく\n",
    "    ansers_list.append(anser)\n",
    "\n",
    "# ステップ２・・リストをファイルに書き込む\n",
    "#with open & \"w\"モード & encoding = \"utf-8\"\n",
    "# fをエイリアスに設定\n",
    "with open(\"personal.txt\", \"w\", encoding = \"utf-8\") as f:\n",
    "    # f.write()でファイルに書き込み\n",
    "    # f.write(ansers_list)・・このままでは書き込めない\n",
    "    # ファイルへリストの書き込み方を忘れる\n",
    "    \n",
    "    #ansers_list.writerrows# 頭が働かない\n",
    "    # csvと混乱\n",
    "\n",
    "    #for inループを使って書き込む\n",
    "    for anser in ansers_list:\n",
    "        f.write(anser + \"\\n\")# \"\\n\"を加えることがポイント"
   ]
  },
  {
   "cell_type": "code",
   "execution_count": null,
   "id": "9e86cb24",
   "metadata": {},
   "outputs": [],
   "source": [
    "\"\"\"3. リストのリストに含まれている要素を\n",
    "CSVファイルに書き出そう\n",
    "データは次の通り\n",
    "[ [ “Top Gun”,  “Risky Business”, “Minority Report” ],\n",
    "[ “Titanic”, “The Revenant”, “Inception”],\n",
    "[ “Training Day”, Man on Fire”, “Flight”] ]\n",
    "データの各要素はCSVの１行となり\n",
    "その１行に含まれる各要素が\n",
    "カンマで区切られるように書き出そう\"\"\"\n",
    "# CSVをインポート\n",
    "import csv\n",
    "# リストを作成\n",
    "cinemas_list = [\n",
    "    [\"Top Gun\", \"Risky Business\", \"Minority Report\"],\n",
    "    [\"Titanic\", \"The Revenant\", \"Minority Report\"],\n",
    "    [\"Training Day\", \"Man on Fire\", \"Flight\"]\n",
    "]\n",
    "\n",
    "# ファイルを作成・・newline = \".\"で区切る\n",
    "# with open & \"w\"モード & newline = \".\"\n",
    "# encoding = \"utf-8\"・・utfを忘れる　& fをエイリアスに設定\n",
    "with open(\"cinemas.csv\",\"w\", newline = \"\", encoding = \"utf-8\") as f:\n",
    "# ValueErrorなぜ？・・\",\"を修正→ValueError・・\"w\"の前のカンマが抜けている\n",
    "    # writer・・csvに変換してfに格納\n",
    "    writer = csv.writer(f)# 覚えていない\n",
    "    # writer.writerowsでリストをcsvへ\n",
    "    writer.writerows(cinemas_list)\n",
    "    # AttributeError・・なぜ？→writerowsスペルミス・・・write+rows"
   ]
  },
  {
   "cell_type": "code",
   "execution_count": 21,
   "id": "7fd135b7",
   "metadata": {},
   "outputs": [],
   "source": [
    "\"\"\"4. チャレンジ３を日本語で\n",
    "同じようにやってみよう。\n",
    "例えば、”Top Gun”を\n",
    "”トップガン”のように日本語に置き換えて\n",
    "CSVファイルに書き出そう\"\"\"\n",
    "# csvをインポート\n",
    "import csv\n",
    "# リストを作成\n",
    "cinemas_list_j = [\n",
    "    [\"トップガン\",\"リスキー　ビジネス\", \"マイノリティー　レポート\"],\n",
    "    [\"タイタニック\",\"ザ　レビナント\", \"インセプション\"],\n",
    "    [\"トレイニング　デイ\",\"マン　オン　ファイアー\", \"フライト\"],\n",
    "]\n",
    "# ファイルを作成\n",
    "# with open & \"w\"モード & newline = \"\"\n",
    "# encoding = \"utf-8\" & fをエイリアスに設定\n",
    "with open(\"cinemas_list_j.csv\", \"w\", newline = \"\", encoding = \"utf-8\") as f:# utf-8忘れる newlineにsをつけたがる\n",
    "    # writer・・csvに変換してfに格納\n",
    "    writer = csv.writer(f)# ここもまだまだ スペルミスwriterのr忘れる\n",
    "    # writer.writerowsメソッドでリストをcsvへ\n",
    "    writer.writerows(cinemas_list_j)"
   ]
  },
  {
   "cell_type": "code",
   "execution_count": null,
   "id": "6ecebc69",
   "metadata": {},
   "outputs": [],
   "source": []
  }
 ],
 "metadata": {
  "kernelspec": {
   "display_name": "Python (独学プログラマー用)",
   "language": "python",
   "name": "dokugaku-env"
  },
  "language_info": {
   "codemirror_mode": {
    "name": "ipython",
    "version": 3
   },
   "file_extension": ".py",
   "mimetype": "text/x-python",
   "name": "python",
   "nbconvert_exporter": "python",
   "pygments_lexer": "ipython3",
   "version": "3.12.4"
  }
 },
 "nbformat": 4,
 "nbformat_minor": 5
}
