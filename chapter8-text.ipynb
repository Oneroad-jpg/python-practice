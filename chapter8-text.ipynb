{
 "cells": [
  {
   "cell_type": "code",
   "execution_count": null,
   "id": "78fb7826",
   "metadata": {},
   "outputs": [
    {
     "name": "stdout",
     "output_type": "stream",
     "text": [
      "--- 追加前の検索リスト ---\n",
      "['/opt/anaconda3/lib/python312.zip', '/opt/anaconda3/lib/python3.12', '/opt/anaconda3/lib/python3.12/lib-dynload', '', '/Users/oneroad/dokugaku-python/venv/lib/python3.12/site-packages']\n",
      "\n",
      "--- 追加後の検索リスト ---\n",
      "['/opt/anaconda3/lib/python312.zip', '/opt/anaconda3/lib/python3.12', '/opt/anaconda3/lib/python3.12/lib-dynload', '', '/Users/oneroad/dokugaku-python/venv/lib/python3.12/site-packages', '/Users/oneroad/dokugaku-python/tstp']\n"
     ]
    }
   ],
   "source": [
    "\"\"\"モジュール用セル\"\"\"\n",
    "\n",
    "# 数学に関するモジュール\n",
    "import math\n",
    "\n",
    "# 予測不可能な要素を加える\n",
    "import random\n",
    "\n",
    "# 統計量を簡単に計算\n",
    "import statistics\n",
    "\n",
    "# Pythonのキーワードかどうかをチェック\n",
    "import keyword\n",
    "\n",
    "# システム設定を扱うためのモジュールをimport\n",
    "import sys\n",
    "# モジュールを探す場所のリストを確認\n",
    "print(\"--- 追加前の検索リスト ---\")\n",
    "print(sys.path)\n",
    "\n",
    "# 検索リストにはcubed.pyがあるフォルダは出てこない\n",
    "# 'tstp'のフォルダを指定\n",
    "path_to_add = '/Users/oneroad/dokugaku-python/tstp'\n",
    "sys.path.append(path_to_add)\n",
    "\n",
    "# 検索リストを確認\n",
    "print(\"\\n--- 追加後の検索リスト ---\")\n",
    "print(sys.path)\n",
    "\n",
    "# cubed:自分で作ったモジュール\n",
    "import cubed"
   ]
  },
  {
   "cell_type": "code",
   "execution_count": 3,
   "id": "286de89a",
   "metadata": {},
   "outputs": [
    {
     "name": "stdout",
     "output_type": "stream",
     "text": [
      "8.0\n"
     ]
    }
   ],
   "source": [
    "# x のy 乗の計算\n",
    "print(math.pow(2, 3))"
   ]
  },
  {
   "cell_type": "code",
   "execution_count": 10,
   "id": "40d632b4",
   "metadata": {},
   "outputs": [
    {
     "name": "stdout",
     "output_type": "stream",
     "text": [
      "16\n"
     ]
    }
   ],
   "source": [
    "# import randomは実行済み\n",
    "# randint:整数の乱数を発生\n",
    "print(random.randint(0, 100))# rand+int"
   ]
  },
  {
   "cell_type": "code",
   "execution_count": 13,
   "id": "ecdf4099",
   "metadata": {},
   "outputs": [
    {
     "name": "stdout",
     "output_type": "stream",
     "text": [
      "18.857142857142858\n",
      "12\n",
      "33\n"
     ]
    }
   ],
   "source": [
    "# statisticsは実行済み\n",
    "# リストを作成\n",
    "nums = [1, 5, 33, 12, 46, 33, 2]\n",
    "\n",
    "# mean:平均値\n",
    "print(statistics.mean(nums))\n",
    "\n",
    "# median:中央値\n",
    "print(statistics.median(nums))\n",
    "\n",
    "# mode:最頻値\n",
    "print(statistics.mode(nums))\n"
   ]
  },
  {
   "cell_type": "code",
   "execution_count": 14,
   "id": "f7cca010",
   "metadata": {},
   "outputs": [
    {
     "name": "stdout",
     "output_type": "stream",
     "text": [
      "Hello\n"
     ]
    }
   ],
   "source": [
    "import hello\n",
    "\n",
    "hello.print_hello()"
   ]
  },
  {
   "cell_type": "code",
   "execution_count": 16,
   "id": "6d967a7d",
   "metadata": {},
   "outputs": [
    {
     "name": "stdout",
     "output_type": "stream",
     "text": [
      "True\n",
      "False\n"
     ]
    }
   ],
   "source": [
    "# キーワードにforが含まれるか\n",
    "print(keyword.iskeyword(\"for\"))\n",
    "\n",
    "# キーワードにfootballが含まれるか\n",
    "print(keyword.iskeyword(\"football\"))"
   ]
  },
  {
   "cell_type": "code",
   "execution_count": null,
   "id": "c9e97518",
   "metadata": {},
   "outputs": [
    {
     "name": "stdout",
     "output_type": "stream",
     "text": [
      "['Counter', 'Decimal', 'Fraction', 'LinearRegression', 'NormalDist', 'StatisticsError', '_SQRT2', '__all__', '__annotations__', '__builtins__', '__cached__', '__doc__', '__file__', '__loader__', '__name__', '__package__', '__spec__', '_coerce', '_convert', '_decimal_sqrt_of_frac', '_exact_ratio', '_fail_neg', '_float_sqrt_of_frac', '_integer_sqrt_of_frac_rto', '_isfinite', '_mean_stdev', '_normal_dist_inv_cdf', '_rank', '_sqrt_bit_width', '_ss', '_sum', 'bisect_left', 'bisect_right', 'correlation', 'count', 'covariance', 'defaultdict', 'erf', 'exp', 'fabs', 'fmean', 'fsum', 'geometric_mean', 'groupby', 'harmonic_mean', 'hypot', 'itemgetter', 'linear_regression', 'log', 'math', 'mean', 'median', 'median_grouped', 'median_high', 'median_low', 'mode', 'multimode', 'namedtuple', 'numbers', 'pstdev', 'pvariance', 'quantiles', 'random', 'reduce', 'repeat', 'sqrt', 'stdev', 'sumprod', 'sys', 'tau', 'variance']\n"
     ]
    }
   ],
   "source": [
    "\"\"\"1. statisticsモジュールの別の関数を呼ぶ\n",
    "\"\"\"\n",
    "# dir()という関数でモジュールに含まれる関数を調べる\n",
    "# dirはdirectory(名簿・一覧)\n",
    "print(dir(statistics))\n",
    "statistics.Counter()"
   ]
  },
  {
   "cell_type": "code",
   "execution_count": null,
   "id": "3fe77ef3",
   "metadata": {},
   "outputs": [
    {
     "name": "stdout",
     "output_type": "stream",
     "text": [
      "27\n"
     ]
    }
   ],
   "source": [
    "\"\"\"2. cubedという名前のモジュールを作り関数をかく\n",
    "関数は１つの引数を受け取り\n",
    "渡された数値を３乗して返す\n",
    "このモジュールを他のモジュールから\n",
    "インポートして関数を呼び出す\"\"\"\n",
    "# cubedモジュールはimport済み\n",
    "\n",
    "#cubed.cube_volume()\n",
    "# 引数side_lengthに３を渡す\n",
    "#side_length = 3\n",
    "#print(volume)\n",
    "\n",
    "# cube_volume  に引数３を与える\n",
    "# 戻り値volume_result(変数)を作る\n",
    "volume_result = cubed.cube_volume(3)\n",
    "# 結果を表示\n",
    "print(volume_result)\n",
    "\n",
    "# volumeは皿を置く場所でvolume_resultは\n",
    "# 客席に出す皿と考えても良いですか？\n",
    "\n",
    "\"\"\"「厨房専用のお皿」と「客席のお皿」\n",
    "ロードさんの例えは、ほぼ完璧です。\n",
    "その上で、このように考えると、\n",
    "さらにスッキリと理解できるかもしれません。\n",
    "\n",
    "volume（関数の中の変数）\n",
    "\n",
    "これは、お皿を置く場所というよりも、\n",
    "「厨房の中だけで使う、料理人専用のお皿」そのものだと考えてみましょう。\n",
    "このお皿は、とても特殊で、厨房の外に持ち出すことは\n",
    "絶対にできないルールになっています。\n",
    "\n",
    "volume_result（関数の外の変数）\n",
    "これは、まさにおっしゃる通り、\n",
    "「お客さんの席に運ばれてきた、新しいお皿」です。お客さんは、このお皿の上にあるものだけを見たり、食べたりすることができます。\n",
    "\n",
    "returnの本当の仕事：「料理の盛り付け直し」\n",
    "では、厨房のお皿から客席のお皿へ、\n",
    "どうやって料理が移るのでしょうか？\n",
    "そこで活躍するのが return です。\n",
    "\n",
    "return volume という命令は、\n",
    "「料理人が、厨房専用のお皿（volume）に乗っている料理（計算結果）を、\n",
    "客席に運ぶためのピカピカの新しいお皿に、\n",
    "きれいに盛り付け直して、受け渡し窓口から渡す」 \n",
    "というイメージなのです。\n",
    "\n",
    "そして、volume_result = ... と書くことで、\n",
    "その窓口から出てきたお皿を、\n",
    "客席で受け取っている、というわけですね。\n",
    "\n",
    "ポイントの要約\n",
    "volume: 厨房の中だけで使える「ローカルなお皿」（ローカル変数）。\n",
    "return: 料理を新しいお皿に盛り付け直して、外の世界に渡す行為。\n",
    "volume_result: 客席で受け取った「グローバルなお皿」（グローバル変数）。\n",
    "この区別が理解できると、\n",
    "なぜ関数の中と外で変数が別々に扱われるのかが、\n",
    "はっきりと見えてきます。これは少し難しい概念ですが、ロードさんはご自身の力で、\n",
    "その本質にたどり着いています。素晴らしいですよ。\"\"\""
   ]
  },
  {
   "cell_type": "code",
   "execution_count": null,
   "id": "df0644f2",
   "metadata": {},
   "outputs": [],
   "source": []
  }
 ],
 "metadata": {
  "kernelspec": {
   "display_name": "Python (独学プログラマー用)",
   "language": "python",
   "name": "dokugaku-env"
  },
  "language_info": {
   "codemirror_mode": {
    "name": "ipython",
    "version": 3
   },
   "file_extension": ".py",
   "mimetype": "text/x-python",
   "name": "python",
   "nbconvert_exporter": "python",
   "pygments_lexer": "ipython3",
   "version": "3.12.4"
  }
 },
 "nbformat": 4,
 "nbformat_minor": 5
}
