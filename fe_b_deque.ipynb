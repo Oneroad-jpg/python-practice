{
 "cells": [
  {
   "cell_type": "code",
   "execution_count": 1,
   "id": "347e9b9b",
   "metadata": {},
   "outputs": [
    {
     "name": "stdout",
     "output_type": "stream",
     "text": [
      "--- Enqueue (追加) ---\n",
      "10, 20, 30の順にEnqueueしました。\n",
      "現在のキューの状態: deque([10, 20, 30])\n",
      "\n",
      "--- Dequeue (取り出し) ---\n",
      "1回目に取り出されたデータ：10\n",
      "Dequeue後のキューの状態：deque([20, 30])\n",
      "\n",
      "2回目に取り出されたデータ：20\n",
      "Dequeue後のキューの状態：deque([30])\n",
      "\n",
      "最終的なキューの状態: deque([30])\n"
     ]
    }
   ],
   "source": [
    "# 1. deque を専門家チーム(collections)からインポートする\n",
    "from collections import deque\n",
    "\n",
    "# 2. キューとして使用する空の deque を準備\n",
    "queue = deque()\n",
    "\n",
    "# 3. キューにデータを Enqueue (追加) していく\n",
    "print(\"--- Enqueue (追加) ---\")\n",
    "queue.append(10)\n",
    "queue.append(20)\n",
    "queue.append(30)\n",
    "print(\"10, 20, 30の順にEnqueueしました。\")\n",
    "\n",
    "print(f\"現在のキューの状態: {queue}\")\n",
    "\n",
    "# 4. キューからデータを Dequeue (取り出し) していく\n",
    "print(\"\\n--- Dequeue (取り出し) ---\")\n",
    "item1 = queue.popleft()\n",
    "print(f\"1回目に取り出されたデータ：{item1}\")\n",
    "print(f\"Dequeue後のキューの状態：{queue}\")\n",
    "\n",
    "item2 = queue.popleft()\n",
    "print(f\"\\n2回目に取り出されたデータ：{item2}\")\n",
    "print(f\"Dequeue後のキューの状態：{queue}\")\n",
    "\n",
    "print(f\"\\n最終的なキューの状態: {queue}\")"
   ]
  }
 ],
 "metadata": {
  "kernelspec": {
   "display_name": "Python (独学プログラマー用)",
   "language": "python",
   "name": "dokugaku-env"
  },
  "language_info": {
   "codemirror_mode": {
    "name": "ipython",
    "version": 3
   },
   "file_extension": ".py",
   "mimetype": "text/x-python",
   "name": "python",
   "nbconvert_exporter": "python",
   "pygments_lexer": "ipython3",
   "version": "3.12.4"
  }
 },
 "nbformat": 4,
 "nbformat_minor": 5
}
