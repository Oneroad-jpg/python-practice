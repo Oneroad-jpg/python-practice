{
 "cells": [
  {
   "cell_type": "code",
   "execution_count": null,
   "id": "254670fe",
   "metadata": {},
   "outputs": [],
   "source": [
    "\"\"\"カプセル化\"\"\"\n",
    "# 変数とメソッドをまとめる\n",
    "# classを定義\n",
    "class Rectangle:\n",
    "    # 初期化の設定\n",
    "    def __init__(self, w, l):\n",
    "        # 変数をまとめる\n",
    "        # 長方形である条件\n",
    "        if w > 0 and l > 0:\n",
    "            self.width = w\n",
    "            self.len = l\n",
    "        \n",
    "        else:\n",
    "            print(\"Erorr\")\n",
    "            self.width = 0 # print以下は思いつかなかった\n",
    "            self.len = 0\n",
    "        \n",
    "        # メソッドをまとめる\n",
    "        # 面積を求めるメソッド\n",
    "        def area(self):\n",
    "            return self.width * self.len"
   ]
  },
  {
   "cell_type": "code",
   "execution_count": null,
   "id": "b0264a90",
   "metadata": {},
   "outputs": [],
   "source": [
    "\"\"\"カプセル化\"\"\"\n",
    "# データを隠蔽して外から見えなくする\n",
    "# classを作成\n",
    "class Data:\n",
    "    # 設定を初期化\n",
    "    def __init__(self):\n",
    "        # 数字のリスト・・リストをド忘れ\n",
    "        self.nums = [1, 2, 3, 4, 5]\n",
    "    \n",
    "    # index指定でデータを上書きするメソッド\n",
    "    def change_data(self, index, n):\n",
    "        self.nums[index] = n\n",
    "\n",
    "    # 読み取り専用のリストを作成\n",
    "    #def get_nums(self):\n",
    "        #return self.nums\n",
    "    # ゲッターメソッドを修正\n",
    "    def get_nums(self):\n",
    "        # numsリストのコピーを返す\n",
    "        return self.nums.copy()# .copyメソッド・・初見だったかな"
   ]
  },
  {
   "cell_type": "code",
   "execution_count": 8,
   "id": "69c61763",
   "metadata": {},
   "outputs": [
    {
     "name": "stdout",
     "output_type": "stream",
     "text": [
      "[1, 2, 3, 4, 5]\n",
      "[999, 2, 3, 4, 5]\n"
     ]
    }
   ],
   "source": [
    "# クラスのインスタンスを作成\n",
    "my_data = Data()\n",
    "\n",
    "# ゲッターでリストを取得\n",
    "numbers = my_data.get_nums()\n",
    "print(numbers)\n",
    "\n",
    "# 取得したリストの最初の要素を変更\n",
    "numbers[0] = 999\n",
    "\n",
    "# このあと、my_dataの中のnumsはどうなっているか？\n",
    "print(numbers)\n"
   ]
  },
  {
   "cell_type": "code",
   "execution_count": 9,
   "id": "17258251",
   "metadata": {},
   "outputs": [
    {
     "name": "stdout",
     "output_type": "stream",
     "text": [
      "[100, 2, 3, 4]\n",
      "[100, 2, 3, 4]\n"
     ]
    }
   ],
   "source": [
    "\"\"\"numsを変更\"\"\"\n",
    "# classを作成\n",
    "class Data:\n",
    "    # 初期化の設定\n",
    "    def __init__(self):\n",
    "        # リストを作成\n",
    "        self.nums = [1, 2, 3, 4]\n",
    "\n",
    "    # メソッドを作成\n",
    "    def change_data(self, index, n):\n",
    "        self.nums[index] = n\n",
    "\n",
    "\"\"\"インスタンス変数を直接変更\"\"\"\n",
    "data_one = Data()\n",
    "data_one.nums[0] = 100\n",
    "print(data_one.nums)\n",
    "\n",
    "\"\"\"changeメソッドを利用して変更\"\"\"\n",
    "data_two = Data()\n",
    "data_two.change_data(0, 100)\n",
    "print(data_two.nums)"
   ]
  },
  {
   "cell_type": "code",
   "execution_count": 10,
   "id": "2f51d3d8",
   "metadata": {},
   "outputs": [],
   "source": [
    "# Pythonの命名規約_\n",
    "# classを作成\n",
    "class PublicPrivateExample:\n",
    "    # 初期設定\n",
    "    def __init__(self):\n",
    "        # パブリックなデータ\n",
    "        self.public = \"safe\"\n",
    "        # プライベートなデータ\n",
    "        self._unsafe = \"unsafe\"\n",
    "    \n",
    "    def public_method(self):\n",
    "        # clientが利用可\n",
    "        pass # pass文は、文が必須で何もしない場合に使用\n",
    "\n",
    "    def _unsafe_method(self):\n",
    "        # clientは利用不可\n",
    "        pass\n"
   ]
  },
  {
   "cell_type": "code",
   "execution_count": 11,
   "id": "0177da07",
   "metadata": {},
   "outputs": [
    {
     "ename": "AttributeError",
     "evalue": "'PublicPrivateExample' object has no attribute '__unsafe_method'",
     "output_type": "error",
     "traceback": [
      "\u001b[31m---------------------------------------------------------------------------\u001b[39m",
      "\u001b[31mAttributeError\u001b[39m                            Traceback (most recent call last)",
      "\u001b[36mCell\u001b[39m\u001b[36m \u001b[39m\u001b[32mIn[11]\u001b[39m\u001b[32m, line 10\u001b[39m\n\u001b[32m      6\u001b[39m         \u001b[38;5;28mprint\u001b[39m(\u001b[33m\"\u001b[39m\u001b[33mこのメソッドは直接呼び出せません\u001b[39m\u001b[33m\"\u001b[39m)\n\u001b[32m      8\u001b[39m my_example = PublicPrivateExample()\n\u001b[32m---> \u001b[39m\u001b[32m10\u001b[39m \u001b[43mmy_example\u001b[49m\u001b[43m.\u001b[49m\u001b[43m__unsafe_method\u001b[49m()\n",
      "\u001b[31mAttributeError\u001b[39m: 'PublicPrivateExample' object has no attribute '__unsafe_method'"
     ]
    }
   ],
   "source": [
    "class PublicPrivateExample:\n",
    "    def __init__(self):\n",
    "        pass\n",
    "\n",
    "    def __unsafe_method(self):\n",
    "        print(\"このメソッドは直接呼び出せません\")\n",
    "\n",
    "my_example = PublicPrivateExample()\n",
    "\n",
    "my_example.__unsafe_method()"
   ]
  },
  {
   "cell_type": "code",
   "execution_count": 12,
   "id": "25ec4854",
   "metadata": {},
   "outputs": [
    {
     "name": "stdout",
     "output_type": "stream",
     "text": [
      "Hello, World\n",
      "200\n",
      "200.1\n"
     ]
    }
   ],
   "source": [
    "\"\"\"ポリモーフィズム\"\"\"\n",
    "# １つのインターフェースで複数のデータを扱う例\n",
    "print(\"Hello, World\")\n",
    "print(200)\n",
    "print(200.1)"
   ]
  },
  {
   "cell_type": "code",
   "execution_count": 14,
   "id": "e8b7efe7",
   "metadata": {},
   "outputs": [
    {
     "name": "stdout",
     "output_type": "stream",
     "text": [
      "<class 'str'>\n",
      "<class 'int'>\n",
      "<class 'float'>\n"
     ]
    }
   ],
   "source": [
    "\"\"\"ポリモーフィズム\"\"\"\n",
    "# 組み込み関数type\n",
    "print(type(\"Hello, World\"))\n",
    "print(type(200))\n",
    "print(type(200.1))"
   ]
  },
  {
   "cell_type": "code",
   "execution_count": null,
   "id": "810c7edd",
   "metadata": {},
   "outputs": [],
   "source": [
    "\"\"\"ポリモーフィズムがあるときとない時の比較\n",
    "\"\"\"\n",
    "\"\"\"サンプルなので実行できない\"\"\"\n",
    "# ポリモーフィズムがない時\n",
    "shapes = [trl, sql crl]\n",
    "for a_shape in shapes:\n",
    "    if isinstance(a_shape, Triangle):\n",
    "        a_shape.draw_triangle()\n",
    "    if isinstance(a_shape, Square):\n",
    "        a_shape.draw_square()\n",
    "    if isinstance(a_shape, Circle):\n",
    "        a_shape.draw_circle()\n",
    "\n",
    "# ポリモーフィズムを実装した場合\n",
    "shapes = [trl, swl, crl]\n",
    "for a_shape in shapes:\n",
    "    a_shape.draw()\n"
   ]
  },
  {
   "cell_type": "code",
   "execution_count": null,
   "id": "748a4457",
   "metadata": {},
   "outputs": [
    {
     "name": "stdout",
     "output_type": "stream",
     "text": [
      "20 by 25\n"
     ]
    }
   ],
   "source": [
    "\"\"\"継承\"\"\"\n",
    "# 図形を表すクラスの例\n",
    "# 図形クラスを作成\n",
    "class Shape:\n",
    "    # 初期化の設定\n",
    "    def __init__(self, w, l):\n",
    "        # 変数を作成\n",
    "        self.width = w\n",
    "        self.len = l\n",
    "    \n",
    "    # メソッドを作成\n",
    "    def print_size(self):\n",
    "        print(\"{} by {}\".format(self.width, self.len))\n",
    "\n",
    "# 図形のインスタンスを作成\n",
    "my_shape = Shape(20, 25)\n",
    "# 図形をメソッドで表示\n",
    "my_shape.print_size()"
   ]
  },
  {
   "cell_type": "code",
   "execution_count": null,
   "id": "3902e750",
   "metadata": {},
   "outputs": [
    {
     "name": "stdout",
     "output_type": "stream",
     "text": [
      "20 by 20\n"
     ]
    }
   ],
   "source": [
    "\"\"\"子クラスを定義\"\"\"\n",
    "# 親クラスをパラメータとして指定\n",
    "# Shapeクラスを作成\n",
    "class Shape:\n",
    "    # 初期設定\n",
    "    def __init__(self, w, l):# :を忘れる\n",
    "        # 変数を設定\n",
    "        self.width = w\n",
    "        self.len = l\n",
    "    \n",
    "    # メソッドを作成\n",
    "    def print_size(self):\n",
    "        print(\"{} by {}\".format(self.width, self.len))\n",
    "\n",
    "# 子クラスを作成\n",
    "class Square(Shape):\n",
    "    pass\n",
    "\n",
    "# インスタンスを作成\n",
    "a_square = Square(20, 20)\n",
    "a_square.print_size()"
   ]
  },
  {
   "cell_type": "code",
   "execution_count": null,
   "id": "b83fdbd4",
   "metadata": {},
   "outputs": [
    {
     "name": "stdout",
     "output_type": "stream",
     "text": [
      "<class '__main__.Square'>\n"
     ]
    }
   ],
   "source": [
    "# Squareオブジェクトを出力\n",
    "class Square:\n",
    "    pass\n",
    "\n",
    "int(Square)#"
   ]
  },
  {
   "cell_type": "code",
   "execution_count": null,
   "id": "700042f8",
   "metadata": {},
   "outputs": [
    {
     "name": "stdout",
     "output_type": "stream",
     "text": [
      "10 by 24\n"
     ]
    }
   ],
   "source": [
    "\"\"\"クラス変数とインスタンス変数\"\"\"\n",
    "\"\"\"クラス変数\"\"\"\n",
    "# クラスを作成\n",
    "class Rectangle:\n",
    "    # 初期設定\n",
    "    def __init__(self, w, l):\n",
    "        # インスタンス変数を作成\n",
    "        self.width = w\n",
    "        self.len = l\n",
    "    \n",
    "    # メソッドを作成\n",
    "    def print_size(self):\n",
    "        print(\"{} by {}\".format(self.width, self.len))\n",
    "\n",
    "# インスタンスを作成\n",
    "my_rectangle = Rectangle(10, 24)\n",
    "# メソッドを使用\n",
    "my_rectangle.print_size()\n"
   ]
  },
  {
   "cell_type": "code",
   "execution_count": null,
   "id": "3462a2a1",
   "metadata": {},
   "outputs": [
    {
     "name": "stdout",
     "output_type": "stream",
     "text": [
      "[(10, 24), (20, 40), (100, 200)]\n"
     ]
    }
   ],
   "source": [
    "\"\"\"クラス変数とインスタンス変数\"\"\"\n",
    "\"\"\"インスタンス変数\"\"\"\n",
    "# クラスを作成\n",
    "class Rectangle:\n",
    "    # クラス変数を作成・・__init__の外で行う\n",
    "    recs = []\n",
    "    # 初期設定\n",
    "    def __init__(self, w, l):\n",
    "        # インスタンス変数を作成\n",
    "        self.width = w\n",
    "        self.len = l\n",
    "        # インスタンスを作成するとrecsリストに幅と長さを追加\n",
    "        self.recs.append((self.width, self.len))\n",
    "    \n",
    "    # メソッドを作成\n",
    "    def print_size(self):\n",
    "        print(\"{} by {}\".format(self.width, self.len))\n",
    "\n",
    "# インスタンスを作成\n",
    "r1 = Rectangle(10, 24)\n",
    "r2 = Rectangle(20, 40)\n",
    "r3 = Rectangle(100, 200)\n",
    "\n",
    "# クラス変数を表示\n",
    "print(Rectangle.recs)"
   ]
  },
  {
   "cell_type": "code",
   "execution_count": 21,
   "id": "bf8f8c49",
   "metadata": {},
   "outputs": [
    {
     "name": "stdout",
     "output_type": "stream",
     "text": [
      "<__main__.Lion object at 0x105d8e7e0>\n"
     ]
    }
   ],
   "source": [
    "\"\"\"特殊メソッド\"\"\"\n",
    "# クラスを作成\n",
    "class Lion:\n",
    "    # 初期設定\n",
    "    def __init__(self, name):\n",
    "        # インスタンスヘンスを作成\n",
    "        self.name = name\n",
    "# インスタンスを作成\n",
    "lion = Lion(\"Dilbert\")\n",
    "# インスタンスを表示\n",
    "print(lion)"
   ]
  },
  {
   "cell_type": "code",
   "execution_count": null,
   "id": "5c717269",
   "metadata": {},
   "outputs": [
    {
     "name": "stdout",
     "output_type": "stream",
     "text": [
      "Dilbert\n"
     ]
    }
   ],
   "source": [
    "\"\"\"特殊メソッド・・__repr__\"\"\"\n",
    "# クラスを作成\n",
    "class Lion:\n",
    "    # 初期設定\n",
    "    def __init__(self, name):\n",
    "        # インスタンス変数を作成\n",
    "        self.name = name\n",
    "    \n",
    "    # 特殊メソッドを呼び出す\n",
    "    def __repr__(self):# representation・・表現\n",
    "        return self.name\n",
    "    # __repr__メソッドをおバーライドすることで\n",
    "    # メソッドがLionオブジェクトの名前を返すように変更\n",
    "\n",
    "# インスタンスを作成\n",
    "lion = Lion(\"Dilbert\")\n",
    "# 文字列ではなく名前が出力\n",
    "print(lion)\n"
   ]
  },
  {
   "cell_type": "code",
   "execution_count": null,
   "id": "617bb32b",
   "metadata": {},
   "outputs": [
    {
     "name": "stdout",
     "output_type": "stream",
     "text": [
      "10\n"
     ]
    }
   ],
   "source": [
    "\"\"\"特殊メソッド・・演算子\"\"\"\n",
    "# classを作成\n",
    "class AlwaysPositive:\n",
    "    # 初期設定\n",
    "    def __init__(self, number):\n",
    "        # インスタンス変数を作成\n",
    "        self.n = number\n",
    "    \n",
    "    # 特殊メソッドを呼び出す\n",
    "    def __add__(self, other):\n",
    "        return abs(self.n + other.n)# abs・・absolute value（絶対値）\n",
    "    \n",
    "# インスタンスを作成\n",
    "x = AlwaysPositive(-20)\n",
    "y = AlwaysPositive(10)\n",
    "\n",
    "# 特殊メソッドを呼び出し結果を表示\n",
    "print(x + y)\n",
    "\n",
    "    "
   ]
  },
  {
   "cell_type": "code",
   "execution_count": null,
   "id": "a97a888c",
   "metadata": {},
   "outputs": [
    {
     "name": "stdout",
     "output_type": "stream",
     "text": [
      "True\n",
      "False\n"
     ]
    }
   ],
   "source": [
    "\"\"\"\"キーワード・・is\"\"\"\n",
    "# クラスを作成\n",
    "class Person:\n",
    "    # 初期設定\n",
    "    def __init__(self):\n",
    "        # インスタンス変数を作成\n",
    "        self.name = 'Bob'\n",
    "\n",
    "# インスタンスを作成\n",
    "bob = Person()\n",
    "same_bob = bob# bobにsame_bobという名札を作成するようなこと\n",
    "print(bob is same_bob)# is・・メモリ上で同じ場所にいるかを聞いている\n",
    "\n",
    "#bob = Person()\n",
    "another_bob = Person()\n",
    "#another_bob = bob\n",
    "print(bob is another_bob)"
   ]
  },
  {
   "cell_type": "code",
   "execution_count": 5,
   "id": "51a54600",
   "metadata": {},
   "outputs": [
    {
     "name": "stdout",
     "output_type": "stream",
     "text": [
      "x はNoneではない\n",
      "x はNone\n"
     ]
    }
   ],
   "source": [
    "\"\"\"キーワード・・is\"\"\"\n",
    "#　ある変数がNoneか調べる時にも使う\n",
    "x = 10\n",
    "if x is None:\n",
    "    print(\"x はNone\")\n",
    "else:\n",
    "    print(\"x はNoneではない\")\n",
    "\n",
    "x = None\n",
    "if x is None:\n",
    "    print(\"x はNone\")\n",
    "else:\n",
    "    print(\"x はNoneではない\")"
   ]
  },
  {
   "cell_type": "code",
   "execution_count": null,
   "id": "4367786a",
   "metadata": {},
   "outputs": [
    {
     "name": "stdout",
     "output_type": "stream",
     "text": [
      "[<__main__.Square object at 0x119196240>, <__main__.Square object at 0x119194c20>, <__main__.Square object at 0x119197170>]\n"
     ]
    }
   ],
   "source": [
    "\"\"\"14章　チャレンジ\n",
    "1. Squareクラスに\n",
    "square＿listクラス変数を追加しよう\n",
    "そして、新しくSquareクラスの\n",
    "オブジェクトが作られるたびに、\n",
    "そのオブジェクトをこのリストに追加しよう。\n",
    "\"\"\"\n",
    "# classを作成\n",
    "class Square:\n",
    "    # クラス変数を作成\n",
    "    square_list = []\n",
    "    # 初期設定\n",
    "    def __init__(self, s):\n",
    "    #def __init__(self, a, b, c, d):\n",
    "        # インスタンス変数を作成\n",
    "        # インスタンス自身が変数\n",
    "        self.side = s\n",
    "        #self.side_a = a\n",
    "        #self.side_b = b\n",
    "        #self.side_c = c\n",
    "        #self.side_d = d\n",
    "        # .appendでリストにデータを格納\n",
    "        #self.square_list.append((self.side_a, self.side_b, self.side_c, self.side_d))# .appendの中に()が必要 & self. も忘れる\n",
    "        \n",
    "        # インスタンス自身をリストに格納\n",
    "        # self.→Square.・・クラス変数なのでわかりやすく\n",
    "        #Square.square_list.append((self.square))\n",
    "        Square.square_list.append(self)\n",
    "\n",
    "# インスタンスを作成\n",
    "sq1 = Square(10)\n",
    "sq2 = Square(15)\n",
    "sq3 = Square(28)\n",
    "# クラス変数を表示\n",
    "print(Square.square_list)"
   ]
  },
  {
   "cell_type": "code",
   "execution_count": 21,
   "id": "92326e00",
   "metadata": {},
   "outputs": [
    {
     "name": "stdout",
     "output_type": "stream",
     "text": [
      "29 by 29 by 29 by 29\n"
     ]
    }
   ],
   "source": [
    "\"\"\"2. Squareクラスのオブジェクトを\n",
    "print関数に渡したら、\n",
    "４辺それぞれの長さを出力しよう。\n",
    "例えば、Square(29)のように\n",
    "オブジェクトを作ったら\n",
    "print関数では\n",
    "29 by 29 by 29 by 29 と出力しよう。\n",
    "\"\"\"\n",
    "# クラスを作成\n",
    "class Square:\n",
    "    # クラス変数を作成\n",
    "    square_list = []\n",
    "    # 初期設定\n",
    "    def __init__(self, s):\n",
    "        # インスタンス変数を設定\n",
    "        self.side = s\n",
    "        # クラス変数にインスタンス自身を追加\n",
    "        Square.square_list.append(self)\n",
    "    \n",
    "    # 特殊メソッドを利用\n",
    "    #def __repr__(self, s):\n",
    "    # __repr__の引数は self のみ\n",
    "    def __repr__(self):\n",
    "        #return \"{} by {} by {} by {} by\".format(self, s)\n",
    "        # fストリングスを使う\n",
    "        return f\"{self.side} by \" * 3 + f\"{self.side}\"\n",
    "\n",
    "# インスタンスを作成\n",
    "sq1 = Square(29)\n",
    "\n",
    "# sq1の辺の長さを表示\n",
    "print(sq1)\n"
   ]
  },
  {
   "cell_type": "code",
   "execution_count": null,
   "id": "0b86948b",
   "metadata": {},
   "outputs": [
    {
     "name": "stdout",
     "output_type": "stream",
     "text": [
      "<function AllSame.all_same at 0x11d9b9ee0>\n"
     ]
    }
   ],
   "source": [
    "\"\"\"3. ２つのパラメーターを\n",
    "受け取る関数を書こう。\n",
    "この関数は同じオブジェクトを渡されたら \n",
    "True を返し、\n",
    "そうではなければ False を返そう。\n",
    "\"\"\"\n",
    "# クラスを定義\n",
    "class AllSame:\n",
    "    # 初期設定\n",
    "    def __init__(self, a, b):\n",
    "        # インスタンス変数を作成\n",
    "        self.data_a = a\n",
    "        self.data_b = b\n",
    "    \n",
    "    # ２つのデータが同じか確認するメソッドを作成\n",
    "    def all_same(self):\n",
    "        print(self.data_a is self.data_b)\n",
    "\n",
    "# インスタンスを作成   \n",
    "data1 = 10\n",
    "data2 = 29\n",
    "print(AllSame.all_same)"
   ]
  },
  {
   "cell_type": "code",
   "execution_count": null,
   "id": "c70b7895",
   "metadata": {},
   "outputs": [],
   "source": [
    "\"\"\"3. ２つのパラメーターを\n",
    "受け取る関数を書こう。\n",
    "この関数は同じオブジェクトを渡されたら \n",
    "True を返し、\n",
    "そうではなければ False を返そう。\n",
    "\"\"\"\n",
    "# これが「レシピ」＝関数の定義です\n",
    "def check_if_same_object(param1, param2):\n",
    "    return param1 is param2"
   ]
  },
  {
   "cell_type": "code",
   "execution_count": null,
   "id": "e50d5029",
   "metadata": {},
   "outputs": [],
   "source": [
    "\"\"\"13章　チャレンジ\n",
    "1. RectangleとSquareクラスを作ろう\n",
    "両方のクラスにその図形の\n",
    "外周の長さを計算して返す\n",
    "calculate_perimeterメソッドを定義しよう\n",
    "そして、RectangleとSquareの\n",
    "オブジェクトを作って\n",
    "それぞれのcalculate_perimeterメソッドを\n",
    "呼ぼう。\n",
    "\"\"\"\n",
    "# クラスを作成\n",
    "class Rectangle:\n",
    "    # 初期設定\n",
    "    def __init__(self, w, h):\n",
    "        # インスタンス変数を作成\n",
    "        self.width = w\n",
    "        self.height = h\n",
    "    # メソッドを作成\n",
    "    def calculate_perimeter(self):\n",
    "        # 外周を求める\n",
    "        rec_peri = (self.width + self.height) * 2\n",
    "        return rec_peri\n",
    "\n",
    "# クラスを作成\n",
    "class Square:\n",
    "    # 初期設定\n",
    "    def __init__(self, w):\n",
    "        # インスタンス変数を設定\n",
    "        self.width = w\n",
    "    # 外周を求める\n",
    "    def calculate_perimeter(self):\n",
    "        squ_peri = self.width * 4\n",
    "        return squ_peri\n",
    "\n",
    "# Rectangleからの継承\n",
    "# super()を利用\n",
    "# クラスを作成\n",
    "class Square(Rectangle):\n",
    "    # 初期設定\n",
    "    def __init__(self, side):\n",
    "        # 親クラスからsuper()でメソッドを呼び出す\n",
    "        super().__init__(side, side)\n",
    "\n",
    "# super()を利用せずに継承\n",
    "# クラスを作成\n",
    "class Square(Rectangle):\n",
    "    # 初期設定\n",
    "    def __init__(self, side):\n",
    "        # 親クラスを直接指定しselfを明示的に渡す\n",
    "        Rectangle.__init__(self, side, side)\n"
   ]
  },
  {
   "cell_type": "code",
   "execution_count": null,
   "id": "cbb52c9f",
   "metadata": {},
   "outputs": [],
   "source": [
    "\"\"\"2. Squareクラスにchange_size\n",
    "メソッドを定義して\n",
    "そこに渡した数値の分だけSquareオブジェクトの\n",
    "横幅を増やしたり、減らしたり（マイナス値の場合）\n",
    "してみよう\n",
    "\"\"\"\n",
    "# Rectangleから継承\n",
    "# クラスを作成\n",
    "class Square(Rectangle):\n",
    "    # 初期設定\n",
    "    def __init__(self, side):\n",
    "        # 親クラスからメソッドを呼び出す\n",
    "        super().__init__(side, side)\n",
    "    # 新しくメソッドを定義\n",
    "    def change_size(self, num):\n",
    "        # 増減する辺を求める\n",
    "        #self.side = self.side + num\n",
    "        \n",
    "        # 親クラスに遡る・・self.sideというインスタンス変数を設定していない\n",
    "        self.width += num\n",
    "        self.height += num\n",
    "\n",
    "        pass"
   ]
  },
  {
   "cell_type": "code",
   "execution_count": 7,
   "id": "fe6714a2",
   "metadata": {},
   "outputs": [
    {
     "name": "stdout",
     "output_type": "stream",
     "text": [
      "I am a shape\n",
      "I am a shape\n"
     ]
    },
    {
     "name": "stderr",
     "output_type": "stream",
     "text": [
      "<>:1: SyntaxWarning: invalid escape sequence '\\_'\n",
      "<>:1: SyntaxWarning: invalid escape sequence '\\_'\n",
      "/var/folders/bt/59_k0mv95cq385_zsxky3lhc0000gn/T/ipykernel_19047/115073812.py:1: SyntaxWarning: invalid escape sequence '\\_'\n",
      "  \"\"\"3. Shapeクラスを定義しよう。\n"
     ]
    }
   ],
   "source": [
    "\"\"\"3. Shapeクラスを定義しよう。\n",
    "呼ばれたら”I am a shape”を返すメソッド\n",
    "what\\_am\\_iを定義しよう\n",
    "前のチャレンジで定義したRectangleと\n",
    "Squareクラスを変更して\n",
    "このShapeクラスを継承させよう。\n",
    "そして、RectangleとSquareの\n",
    "オブジェクトを生成して、\n",
    "このチャレンジで追加したメソッド\n",
    "what\\_am\\_iを呼んでみよう。\n",
    "\"\"\"\n",
    "# クラスを作成\n",
    "class Shape:\n",
    "    # メソッドを定義\n",
    "    def what_am_i(self):\n",
    "        return \"I am a shape\"\n",
    "\n",
    "# 子クラスを作成\n",
    "class Rectangle(Shape):\n",
    "    # 初期設定\n",
    "    def __init__(self, w, h):\n",
    "        self.width = w\n",
    "        self.height = h\n",
    "\n",
    "# 孫クラスを作成\n",
    "class Square(Rectangle):\n",
    "    # 初期設定\n",
    "    def __init__(self, side):\n",
    "        # 親クラスから__init__を呼び出す\n",
    "        super().__init__(side, side)\n",
    "\n",
    "# RectangleとSquareのオブジェクトを作成\n",
    "req = Rectangle(10, 20)\n",
    "squ = Square(10)\n",
    "\n",
    "print(req.what_am_i())\n",
    "print(squ.what_am_i())"
   ]
  },
  {
   "cell_type": "code",
   "execution_count": null,
   "id": "69d9073d",
   "metadata": {},
   "outputs": [],
   "source": [
    "\"\"\"4. HorseクラスとRiderクラスを定義しよう。\n",
    "コンポジションを使って\n",
    "馬（Horse）に騎手（Rider)を持たせよう。\"\"\"\n",
    "# 部品クラスを作成\n",
    "# 部品クラスを作成\n",
    "class Rider:\n",
    "    # 初期設定\n",
    "    def __init__(self, name):\n",
    "        # __init__はreturnを返さない        \n",
    "        #return name\n",
    "\n",
    "        # インスタンス変数を作成\n",
    "        self.name = name\n",
    "        # 以下は不要return name\n",
    "    \n",
    "    # 全体クラスを作成\n",
    "    class Horse:\n",
    "        # 初期設定\n",
    "        #def __init__(self, horse_name, rider_name):\n",
    "        \"\"\"self.rider = rider_name と書く代わりに、\n",
    "        「rider_nameを引数としてRiderクラスを呼び出し、\n",
    "        その結果（作成されたRiderオブジェクト）を\n",
    "        self.riderに代入する」というコード\"\"\"\n",
    "        def __init__(self, horse_name, rider_name):\n",
    "            # インスタンス変数を作成\n",
    "            self.horse = horse_name\n",
    "            self.rider = Rider(rider_name)"
   ]
  }
 ],
 "metadata": {
  "kernelspec": {
   "display_name": "Python (独学プログラマー用)",
   "language": "python",
   "name": "dokugaku-env"
  },
  "language_info": {
   "codemirror_mode": {
    "name": "ipython",
    "version": 3
   },
   "file_extension": ".py",
   "mimetype": "text/x-python",
   "name": "python",
   "nbconvert_exporter": "python",
   "pygments_lexer": "ipython3",
   "version": "3.12.4"
  }
 },
 "nbformat": 4,
 "nbformat_minor": 5
}
