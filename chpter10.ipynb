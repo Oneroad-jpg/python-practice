{
 "cells": [
  {
   "cell_type": "code",
   "execution_count": 1,
   "id": "f5d62a04",
   "metadata": {},
   "outputs": [],
   "source": [
    "\"\"\"インポート用セル\"\"\"\n",
    "\n",
    "# randomモジュールをインポート\n",
    "import random"
   ]
  },
  {
   "cell_type": "code",
   "execution_count": null,
   "id": "43eadda6",
   "metadata": {},
   "outputs": [],
   "source": [
    "\"\"\"新しいPythonファイルの作成:\"\"\"\n",
    "# with open & \"w\"モード & encoding = \"-8\"\n",
    "# fをエイリアスに設定\n",
    "\"\"\"単語リストの定義:\"\"\"\n",
    "# リストを作成：四季＋その他\n",
    "\"\"\"重要ポイント】改行の追加:\"\"\"\n",
    "# 最初のファイル作成with opneの引数にnewline = \"\\n\"\n",
    "\"\"\"ファイルへの書き込み\"\"\"\n",
    "# 変数writerにfを格納\n",
    "# writer.writerowsメソッドにリストを格納\n",
    "\"\"\"実行と確認:\"\"\"\n",
    "# ファイルを開いて書き込まれているか確認\n",
    "\n",
    "# 構成を修正\n",
    "# 単語リストを定義\n",
    "seasons_list = [\"はる\", \"つゆ\", \"なつ\", \"あき\", \"ふゆ\",\"しょうがつ\", \"とうじ\", \"げし\", \"\",]\n",
    "# with open & \"w\" & encoding = \"utf-8\"\n",
    "# fをエイリアスに設定\n",
    "with open(\"seasons.txt\", \"w\", encoding =\"utf-8\") as f:\n",
    "    # for inループでリストの要素を取り出す\n",
    "    for season in seasons_list:\n",
    "        # f.write()メソッドに +\"\\n\"で改行を追加\n",
    "        f.write(season + \"\\n\")\n"
   ]
  },
  {
   "cell_type": "code",
   "execution_count": null,
   "id": "694c79ee",
   "metadata": {},
   "outputs": [],
   "source": []
  }
 ],
 "metadata": {
  "kernelspec": {
   "display_name": "Python (独学プログラマー用)",
   "language": "python",
   "name": "dokugaku-env"
  },
  "language_info": {
   "codemirror_mode": {
    "name": "ipython",
    "version": 3
   },
   "file_extension": ".py",
   "mimetype": "text/x-python",
   "name": "python",
   "nbconvert_exporter": "python",
   "pygments_lexer": "ipython3",
   "version": "3.12.4"
  }
 },
 "nbformat": 4,
 "nbformat_minor": 5
}
