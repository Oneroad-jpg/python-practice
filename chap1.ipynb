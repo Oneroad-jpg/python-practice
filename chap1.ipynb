{
 "cells": [
  {
   "cell_type": "code",
   "execution_count": 1,
   "id": "8e4c6fd5",
   "metadata": {},
   "outputs": [
    {
     "name": "stdout",
     "output_type": "stream",
     "text": [
      "Hello,World\n"
     ]
    }
   ],
   "source": [
    "print(\"Hello,World\")"
   ]
  },
  {
   "cell_type": "code",
   "execution_count": 1,
   "id": "ad8d64ae",
   "metadata": {},
   "outputs": [
    {
     "ename": "NameError",
     "evalue": "name 'Hello' is not defined",
     "output_type": "error",
     "traceback": [
      "\u001b[31m---------------------------------------------------------------------------\u001b[39m",
      "\u001b[31mNameError\u001b[39m                                 Traceback (most recent call last)",
      "\u001b[36mCell\u001b[39m\u001b[36m \u001b[39m\u001b[32mIn[1]\u001b[39m\u001b[32m, line 1\u001b[39m\n\u001b[32m----> \u001b[39m\u001b[32m1\u001b[39m \u001b[38;5;28mprint\u001b[39m(\u001b[43mHello\u001b[49m)\n",
      "\u001b[31mNameError\u001b[39m: name 'Hello' is not defined"
     ]
    }
   ],
   "source": [
    "print(Hello)"
   ]
  },
  {
   "cell_type": "code",
   "execution_count": 2,
   "id": "9dc43901",
   "metadata": {},
   "outputs": [
    {
     "ename": "NameError",
     "evalue": "name 'Print' is not defined",
     "output_type": "error",
     "traceback": [
      "\u001b[31m---------------------------------------------------------------------------\u001b[39m",
      "\u001b[31mNameError\u001b[39m                                 Traceback (most recent call last)",
      "\u001b[36mCell\u001b[39m\u001b[36m \u001b[39m\u001b[32mIn[2]\u001b[39m\u001b[32m, line 1\u001b[39m\n\u001b[32m----> \u001b[39m\u001b[32m1\u001b[39m \u001b[43mPrint\u001b[49m(\u001b[33m\"\u001b[39m\u001b[33mHello, world\u001b[39m\u001b[33m\"\u001b[39m)\n",
      "\u001b[31mNameError\u001b[39m: name 'Print' is not defined"
     ]
    }
   ],
   "source": [
    "Print(\"Hello, world\")"
   ]
  },
  {
   "cell_type": "code",
   "execution_count": 3,
   "id": "04a2dc1c",
   "metadata": {},
   "outputs": [
    {
     "name": "stdout",
     "output_type": "stream",
     "text": [
      "Hello, world\n"
     ]
    }
   ],
   "source": [
    "print('Hello, world')"
   ]
  },
  {
   "cell_type": "code",
   "execution_count": 4,
   "id": "978b6133",
   "metadata": {},
   "outputs": [
    {
     "name": "stdout",
     "output_type": "stream",
     "text": [
      "Good, evening\n"
     ]
    }
   ],
   "source": [
    "print(\"Good, evening\")"
   ]
  },
  {
   "cell_type": "code",
   "execution_count": null,
   "id": "b1b0cbb9",
   "metadata": {},
   "outputs": [],
   "source": []
  }
 ],
 "metadata": {
  "kernelspec": {
   "display_name": "Python (独学プログラマー用)",
   "language": "python",
   "name": "dokugaku-env"
  },
  "language_info": {
   "codemirror_mode": {
    "name": "ipython",
    "version": 3
   },
   "file_extension": ".py",
   "mimetype": "text/x-python",
   "name": "python",
   "nbconvert_exporter": "python",
   "pygments_lexer": "ipython3",
   "version": "3.12.4"
  }
 },
 "nbformat": 4,
 "nbformat_minor": 5
}
