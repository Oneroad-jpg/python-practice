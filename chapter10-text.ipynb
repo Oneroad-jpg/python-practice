{
 "cells": [
  {
   "cell_type": "code",
   "execution_count": null,
   "id": "8b5d7057",
   "metadata": {},
   "outputs": [
    {
     "name": "stderr",
     "output_type": "stream",
     "text": [
      "<>:12: SyntaxWarning: invalid escape sequence '\\ '\n",
      "<>:13: SyntaxWarning: invalid escape sequence '\\ '\n",
      "<>:12: SyntaxWarning: invalid escape sequence '\\ '\n",
      "<>:13: SyntaxWarning: invalid escape sequence '\\ '\n",
      "/var/folders/bt/59_k0mv95cq385_zsxky3lhc0000gn/T/ipykernel_25236/2437995377.py:12: SyntaxWarning: invalid escape sequence '\\ '\n",
      "  \"| /|\\ \",\n",
      "/var/folders/bt/59_k0mv95cq385_zsxky3lhc0000gn/T/ipykernel_25236/2437995377.py:13: SyntaxWarning: invalid escape sequence '\\ '\n",
      "  \"| / \\ \",\n"
     ]
    }
   ],
   "source": [
    "# ハングマンという関数を定義し\n",
    "# word(プレイヤ２に当てて欲しい単語)を引数として受け取る\n",
    "def hangman(word):# スペルミスgを忘れる\n",
    "    # プレイヤ２が間違えた回数をカウントする変数\n",
    "    wrong = 0\n",
    "    # つられた人の絵を描く文字列\n",
    "    stages = [\"\",# stage・・複数を意味するsをつける\n",
    "            \"___   \",\n",
    "            \"|     \",\n",
    "            \"|  |  \",\n",
    "            \"|  O  \",\n",
    "            \"| /|\\ \",\n",
    "            \"| / \\ \",\n",
    "            \"|     \"\n",
    "            ]\n",
    "    \n",
    "    # wordを１文字ずつの要素に分解したリスト\n",
    "    rletters = list(word)# reletters・・スペルミスe\n",
    "    # 文字列のリスト　プレイヤ２へのヒントを記録\n",
    "    board = [\"_\"] * len(word)# １文字の＿をwordに含まれる文字の数だけ要素として持つ\n",
    "    # 初期状態の設定でwinはFalseに\n",
    "    win = False\n",
    "    print(\"ハングマンへようこそ！\")"
   ]
  },
  {
   "cell_type": "code",
   "execution_count": null,
   "id": "88446d97",
   "metadata": {},
   "outputs": [],
   "source": []
  }
 ],
 "metadata": {
  "kernelspec": {
   "display_name": "Python (独学プログラマー用)",
   "language": "python",
   "name": "dokugaku-env"
  },
  "language_info": {
   "codemirror_mode": {
    "name": "ipython",
    "version": 3
   },
   "file_extension": ".py",
   "mimetype": "text/x-python",
   "name": "python",
   "nbconvert_exporter": "python",
   "pygments_lexer": "ipython3",
   "version": "3.12.4"
  }
 },
 "nbformat": 4,
 "nbformat_minor": 5
}
