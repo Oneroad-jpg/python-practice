{
 "cells": [
  {
   "cell_type": "code",
   "execution_count": 3,
   "id": "8b5d7057",
   "metadata": {},
   "outputs": [],
   "source": [
    "# ハングマンという関数を定義し\n",
    "# word(プレイヤ２に当てて欲しい単語)を引数として受け取る\n",
    "def hangman(word):# スペルミスgを忘れる\n",
    "    # プレイヤ２が間違えた回数をカウントする変数\n",
    "    wrong = 0\n",
    "    # つられた人の絵を描く文字列\n",
    "    stages = [\"\",# stage・・複数を意味するsをつける\n",
    "            r\"___   \",\n",
    "            r\"|     \",\n",
    "            r\"|  |  \",\n",
    "            r\"|  O  \",\n",
    "            r\"| /|\\ \",\n",
    "            r\"| / \\ \",\n",
    "            r\"|     \",\n",
    "            r\"      \"\n",
    "            ]\n",
    "        \n",
    "    # wordを１文字ずつの要素に分解したリスト\n",
    "    rletters = list(word)# reletters・・スペルミスe\n",
    "    # 文字列のリスト　プレイヤ２へのヒントを記録\n",
    "    board = [\"_\"] * len(word)# １文字の＿をwordに含まれる文字の数だけ要素として持つ\n",
    "    # 初期状態の設定でwinはFalseに\n",
    "    win = False\n",
    "    print(\"ハングマンへようこそ！\")"
   ]
  },
  {
   "cell_type": "code",
   "execution_count": null,
   "id": "381503e2",
   "metadata": {},
   "outputs": [],
   "source": [
    "# 負けの場合の表示\n",
    "if not win:\n",
    "    # hangmanの絵が完成\n",
    "    print(\"\\n\".join(stages[0:wrong + 1]))\n",
    "    # プレーヤが負けたと宣言し正解を表示\n",
    "    print(\"あなたの負け！正解は{}.\".format(word))\n"
   ]
  },
  {
   "cell_type": "code",
   "execution_count": null,
   "id": "e34d04ef",
   "metadata": {},
   "outputs": [],
   "source": [
    "# 無限ループを作成\n",
    "# whileループ　条件は変数wrongがlen(stages) - 1よりも小さいこと\n",
    "# wrongはループの回数が記録されているのでhangmanが完成すると終了\n",
    "# →wrongはループではなくプレーヤが間違えた回数\n",
    "# - 1はstages（０から開始）とwrong（１から開始）を合わせるため\n",
    "while wrong < len(stages) - 1:\n",
    "    #　プレーヤの入力画面を表示\n",
    "    print(\"\\n\")\n",
    "    msg = \"１文字予想してね\"\n",
    "    char = input(msg)\n",
    "    # 条件分岐・・入力文字が正解に含まれているか否か\n",
    "    if char in rletters:\n",
    "        # 含まれているならrletterからindexを変数cindに格納\n",
    "        cind = rletters.index(char)\n",
    "        # boardのcind番目の＿に入力した文字を格納\n",
    "        board[cind] = char\n",
    "        # rlettersのcind番目に＄を格納\n",
    "        rletters[cind] = '$'# なぜ'？\n",
    "                            #→indexメソッドは同じ文字が含まれていても\n",
    "                            # 最初のindexしか返さないので＄に変更\n",
    "                        \n",
    "    # 含まれていないときはwrongをインクリメント\n",
    "    else:\n",
    "        wrong += 1\n",
    "    # boardを表示\n",
    "    print(\" \".join(board))\n",
    "    # 変数eにwrong + 1 を格納\n",
    "    e = wrong + 1\n",
    "    # ゲームの進行に合わせてhangmanを出力するため\n",
    "    # 開始indexは０　終了indexはwrong + 1・・＋１しないと終了に指定したindexの\n",
    "                                            # １つ手前で止まる\n",
    "    print(\"\\n\".join(stages[0:e]))\n",
    "    # 勝利判定の条件\n",
    "    # ＿がboardからなくなればプレーヤの勝利\n",
    "    if \"_\" not in board:\n",
    "        # プレーヤの勝利を表示\n",
    "        print(\"あなたの勝ち！\")\n",
    "        #\n",
    "        print(\" \".join(board))# 間違えて\"_\"とした\n",
    "        # 無限ループを終了する\n",
    "        # winをTrueに変更しbreakでループを抜ける\n",
    "        win = True\n",
    "        break"
   ]
  },
  {
   "cell_type": "code",
   "execution_count": null,
   "id": "7500e694",
   "metadata": {},
   "outputs": [],
   "source": [
    "# 負けの場合の表示\n",
    "if not win:\n",
    "    # hangmanの絵が完成\n",
    "    print(\"\\n\".join(stages[0:wrong + 1]))\n",
    "    # プレーヤが負けたと宣言し正解を表示\n",
    "    print(\"あなたの負け！正解は{}.\".format(word))\n"
   ]
  },
  {
   "cell_type": "code",
   "execution_count": null,
   "id": "e4db2e16",
   "metadata": {},
   "outputs": [],
   "source": [
    "# 負けの場合の表示\n",
    "if not win:\n",
    "    # hangmanの絵が完成\n",
    "    print(\"\\n\".join(stages[0:wrong + 1]))\n",
    "    # プレーヤが負けたと宣言し正解を表示\n",
    "    print(\"あなたの負け！正解は{}.\".format(word))\n"
   ]
  }
 ],
 "metadata": {
  "kernelspec": {
   "display_name": "Python (独学プログラマー用)",
   "language": "python",
   "name": "dokugaku-env"
  },
  "language_info": {
   "codemirror_mode": {
    "name": "ipython",
    "version": 3
   },
   "file_extension": ".py",
   "mimetype": "text/x-python",
   "name": "python",
   "nbconvert_exporter": "python",
   "pygments_lexer": "ipython3",
   "version": "3.12.4"
  }
 },
 "nbformat": 4,
 "nbformat_minor": 5
}
