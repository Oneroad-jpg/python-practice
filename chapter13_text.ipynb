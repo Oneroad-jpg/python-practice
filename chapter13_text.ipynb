{
 "cells": [
  {
   "cell_type": "code",
   "execution_count": null,
   "id": "254670fe",
   "metadata": {},
   "outputs": [],
   "source": [
    "\"\"\"カプセル化\"\"\"\n",
    "# 変数とメソッドをまとめる\n",
    "# classを定義\n",
    "class Rectangle:\n",
    "    # 初期化の設定\n",
    "    def __init__(self, w, l):\n",
    "        # 変数をまとめる\n",
    "        # 長方形である条件\n",
    "        if w > 0 and l > 0:\n",
    "            self.width = w\n",
    "            self.len = l\n",
    "        \n",
    "        else:\n",
    "            print(\"Erorr\")\n",
    "            self.width = 0 # print以下は思いつかなかった\n",
    "            self.len = 0\n",
    "        \n",
    "        # メソッドをまとめる\n",
    "        # 面積を求めるメソッド\n",
    "        def area(self):\n",
    "            return self.width * self.len"
   ]
  },
  {
   "cell_type": "code",
   "execution_count": null,
   "id": "b0264a90",
   "metadata": {},
   "outputs": [],
   "source": [
    "\"\"\"カプセル化\"\"\"\n",
    "# データを隠蔽して外から見えなくする\n",
    "# classを作成\n",
    "class Data:\n",
    "    # 設定を初期化\n",
    "    def __init__(self):\n",
    "        # 数字のリスト・・リストをド忘れ\n",
    "        self.nums = [1, 2, 3, 4, 5]\n",
    "    \n",
    "    # index指定でデータを上書きするメソッド\n",
    "    def change_data(self, index, n):\n",
    "        self.nums[index] = n\n",
    "\n",
    "    # 読み取り専用のリストを作成\n",
    "    #def get_nums(self):\n",
    "        #return self.nums\n",
    "    # ゲッターメソッドを修正\n",
    "    def get_nums(self):\n",
    "        # numsリストのコピーを返す\n",
    "        return self.nums.copy()# .copyメソッド・・初見だったかな"
   ]
  },
  {
   "cell_type": "code",
   "execution_count": 8,
   "id": "69c61763",
   "metadata": {},
   "outputs": [
    {
     "name": "stdout",
     "output_type": "stream",
     "text": [
      "[1, 2, 3, 4, 5]\n",
      "[999, 2, 3, 4, 5]\n"
     ]
    }
   ],
   "source": [
    "# クラスのインスタンスを作成\n",
    "my_data = Data()\n",
    "\n",
    "# ゲッターでリストを取得\n",
    "numbers = my_data.get_nums()\n",
    "print(numbers)\n",
    "\n",
    "# 取得したリストの最初の要素を変更\n",
    "numbers[0] = 999\n",
    "\n",
    "# このあと、my_dataの中のnumsはどうなっているか？\n",
    "print(numbers)\n"
   ]
  }
 ],
 "metadata": {
  "kernelspec": {
   "display_name": "Python (独学プログラマー用)",
   "language": "python",
   "name": "dokugaku-env"
  },
  "language_info": {
   "codemirror_mode": {
    "name": "ipython",
    "version": 3
   },
   "file_extension": ".py",
   "mimetype": "text/x-python",
   "name": "python",
   "nbconvert_exporter": "python",
   "pygments_lexer": "ipython3",
   "version": "3.12.4"
  }
 },
 "nbformat": 4,
 "nbformat_minor": 5
}
