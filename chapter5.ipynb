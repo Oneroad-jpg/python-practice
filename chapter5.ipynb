{
 "cells": [
  {
   "cell_type": "code",
   "execution_count": null,
   "id": "8a39933f",
   "metadata": {},
   "outputs": [],
   "source": [
    "# リストを作成\n",
    "shopping_list = [\"にんじん\", \"玉ねぎ\", \"じゃがいも\"]"
   ]
  },
  {
   "cell_type": "code",
   "execution_count": 1,
   "id": "4d755378",
   "metadata": {},
   "outputs": [
    {
     "name": "stdout",
     "output_type": "stream",
     "text": [
      "玉ねぎ\n"
     ]
    }
   ],
   "source": [
    "# リストを作成\n",
    "shopping_list = [\"にんじん\", \"玉ねぎ\", \"じゃがいも\"]\n",
    "\n",
    "# リストから取り出す\n",
    "print(shopping_list[1])"
   ]
  },
  {
   "cell_type": "code",
   "execution_count": 2,
   "id": "978268c5",
   "metadata": {},
   "outputs": [
    {
     "name": "stdout",
     "output_type": "stream",
     "text": [
      "['にんじん', '玉ねぎ', 'じゃがいも', 'お肉']\n"
     ]
    }
   ],
   "source": [
    "# リストを作成 \n",
    "shopping_list = [\"にんじん\", \"玉ねぎ\", \"じゃがいも\"]\n",
    "# リストに”お肉”を追加\n",
    "shopping_list.append(\"お肉\")\n",
    "# 新しいリストを出力\n",
    "print(shopping_list)"
   ]
  },
  {
   "cell_type": "code",
   "execution_count": 3,
   "id": "1621b92d",
   "metadata": {},
   "outputs": [
    {
     "name": "stdout",
     "output_type": "stream",
     "text": [
      "['にんじん', '玉ねぎ', 'メークイン']\n"
     ]
    }
   ],
   "source": [
    "# じゃがいもをメークインに変更\n",
    "# リストを作成\n",
    "shopping_list = [\"にんじん\", \"玉ねぎ\", \"じゃがいも\"]\n",
    "\n",
    "# ”じゃがいも”を指定し、”メークイン”に変更\n",
    "shopping_list[2] = \"メークイン\"\n",
    "\n",
    "# 新しいリストを出力\n",
    "print(shopping_list) \n",
    "#\n"
   ]
  },
  {
   "cell_type": "code",
   "execution_count": 4,
   "id": "f63bb3d3",
   "metadata": {},
   "outputs": [
    {
     "name": "stdout",
     "output_type": "stream",
     "text": [
      "['にんじん', 'じゃがいも']\n"
     ]
    }
   ],
   "source": [
    "# リストから要素を削除するプログラム\n",
    "# リストを作成\n",
    "shopping_list = [\"にんじん\", \"玉ねぎ\", \"じゃがいも\"]\n",
    "\n",
    "# リストから要素を指定、指定した要素を削除\n",
    "del shopping_list[1]\n",
    "\n",
    "# 新しいリストを出力\n",
    "print(shopping_list)\n",
    "#\n"
   ]
  },
  {
   "cell_type": "code",
   "execution_count": null,
   "id": "ef5c2a83",
   "metadata": {},
   "outputs": [
    {
     "name": "stdout",
     "output_type": "stream",
     "text": [
      "['ペン', '大学ノート', '定規']\n"
     ]
    }
   ],
   "source": [
    "# 文房具リストを整理しよう\n",
    "# リストを作成\n",
    "stationery_list = [\"ペン\", \"ノート\", \"消しゴム\"]\n",
    "# リストの最後に追加\n",
    "stationery_list.append(\"定規\")\n",
    "#  appendの使い方を覚えていない\n",
    "# リストの要素を変更\n",
    "stationery_list[1] = \"大学ノート\"\n",
    "# リストの要素から削除・・場所を指定して消す\n",
    "del stationery_list[2]\n",
    "# stationery_list.remove(\"消しゴム\")\n",
    "# 完成したリストを出力\n",
    "print(stationery_list)\n"
   ]
  },
  {
   "cell_type": "code",
   "execution_count": null,
   "id": "56063874",
   "metadata": {},
   "outputs": [],
   "source": [
    "# タプルの学習\n",
    "# タプルの作り方\n",
    "birthday = (1972, 1, 1)\n",
    "# \n",
    "# \n",
    "#\n"
   ]
  },
  {
   "cell_type": "code",
   "execution_count": 7,
   "id": "e19c9bd2",
   "metadata": {},
   "outputs": [
    {
     "name": "stdout",
     "output_type": "stream",
     "text": [
      "1972\n"
     ]
    }
   ],
   "source": [
    "# タプルから要素を取り出す\n",
    "# タプルを作る\n",
    "birthday = (1972, 1, 1)\n",
    "\n",
    "# 要素を指定して出力\n",
    "print(birthday[0])\n",
    "#  \n",
    "# \n",
    "#\n"
   ]
  },
  {
   "cell_type": "code",
   "execution_count": 8,
   "id": "c3f447d6",
   "metadata": {},
   "outputs": [
    {
     "name": "stdout",
     "output_type": "stream",
     "text": [
      "[]\n"
     ]
    }
   ],
   "source": [
    "# からのリストを作成し、変数'my_list' に代入する\n",
    "my_list = []\n",
    "# 中身を確認する\n",
    "print(my_list)\n",
    "# \n",
    "#  \n",
    "# \n",
    "#\n"
   ]
  },
  {
   "cell_type": "code",
   "execution_count": 9,
   "id": "d9372445",
   "metadata": {},
   "outputs": [
    {
     "name": "stdout",
     "output_type": "stream",
     "text": [
      "['Tokyo', 'London', 'New York']\n"
     ]
    }
   ],
   "source": [
    "# ３つの都市名が入ったリストを作成する\n",
    "cities = [\"Tokyo\", \"London\", \"New York\"]\n",
    "\n",
    "# 中身を確認する\n",
    "print(cities)\n",
    "# \n",
    "#  \n",
    "# \n",
    "#\n"
   ]
  },
  {
   "cell_type": "code",
   "execution_count": 10,
   "id": "68fddd76",
   "metadata": {},
   "outputs": [
    {
     "name": "stdout",
     "output_type": "stream",
     "text": [
      "Tokyo\n",
      "New York\n"
     ]
    }
   ],
   "source": [
    "# リストを作成\n",
    "cities = [\"Tokyo\", \"London\", \"New York\"]\n",
    "# インデックス０の要素にアクセスする\n",
    "print(cities[0])\n",
    "# インデックス２の要素にアクセスする\n",
    "print(cities[2])\n",
    "#  \n",
    "# \n",
    "#\n"
   ]
  },
  {
   "cell_type": "code",
   "execution_count": 11,
   "id": "f356bd24",
   "metadata": {},
   "outputs": [
    {
     "name": "stdout",
     "output_type": "stream",
     "text": [
      "変更後 ['Tokyo', 'Paris', 'New York']\n"
     ]
    }
   ],
   "source": [
    "# リストを作成する\n",
    "cities = [\"Tokyo\", \"London\", \"New York\"]\n",
    "# インデックス１の要素を\"Paris\"に変更\n",
    "cities[1] = \"Paris\"\n",
    "# 変更後のリストを出力\n",
    "print(\"変更後\", cities)\n",
    "#  \n",
    "\n",
    "# \n",
    "\n",
    "#\n"
   ]
  },
  {
   "cell_type": "code",
   "execution_count": 12,
   "id": "4a3c3c45",
   "metadata": {},
   "outputs": [
    {
     "name": "stdout",
     "output_type": "stream",
     "text": [
      "最初のリスト []\n",
      "appleを追加後 ['apple']\n",
      "milkを追加後 ['apple', 'milk']\n"
     ]
    }
   ],
   "source": [
    "# からのリストを作成\n",
    "shopping_list = []\n",
    "# 最初のリストを表示\n",
    "print(\"最初のリスト\", shopping_list)\n",
    "\n",
    "# \"apple\"を追加 \n",
    "shopping_list.append(\"apple\")\n",
    "# \"apple\"追加されたリストを表示\n",
    "print(\"appleを追加後\",shopping_list)\n",
    "\n",
    "# \"milk\"を追加 \n",
    "shopping_list.append(\"milk\")\n",
    "# \"milk\"追加されたリストを表示\n",
    "print(\"milkを追加後\", shopping_list)"
   ]
  },
  {
   "cell_type": "code",
   "execution_count": 13,
   "id": "a3ddaf24",
   "metadata": {},
   "outputs": [
    {
     "name": "stdout",
     "output_type": "stream",
     "text": [
      "['apple', 'milk']\n",
      "['bread', 'apple', 'milk']\n"
     ]
    }
   ],
   "source": [
    "# insertメソッド\n",
    "# リストを作成\n",
    "shopping_list = [\"apple\", \"milk\"]\n",
    "# 最初のリストを表示\n",
    "print(shopping_list)\n",
    "\n",
    "# インデックス０の場所に\"bread\"を挿入する\n",
    "shopping_list.insert(0, \"bread\")\n",
    "#　\"bread\"挿入後のリストを表示\n",
    "print(shopping_list)"
   ]
  },
  {
   "cell_type": "code",
   "execution_count": 14,
   "id": "0f89485c",
   "metadata": {},
   "outputs": [
    {
     "name": "stdout",
     "output_type": "stream",
     "text": [
      "削除前のリスト ['red', 'green', 'blue', 'green']\n",
      "削除後のリスト ['red', 'blue', 'green']\n"
     ]
    }
   ],
   "source": [
    "# remove()を使う\n",
    "# リストを作成\n",
    "colors_list = [\"red\", \"green\", \"blue\", \"green\"]\n",
    "# リストを表示\n",
    "print(\"削除前のリスト\", colors_list)\n",
    "\n",
    "# \"green\"を削除\n",
    "colors_list.remove(\"green\")\n",
    "# 削除後のリストを表示\n",
    "print(\"削除後のリスト\", colors_list)"
   ]
  },
  {
   "cell_type": "code",
   "execution_count": 16,
   "id": "3399a877",
   "metadata": {},
   "outputs": [
    {
     "name": "stdout",
     "output_type": "stream",
     "text": [
      "削除前のリスト ['red', 'green', 'blue']\n",
      "削除後のリスト ['red', 'blue']\n",
      "取り出された色 green\n"
     ]
    }
   ],
   "source": [
    "# pop()を使う\n",
    "# リストを作成\n",
    "colors_list = [\"red\", \"green\", \"blue\"]\n",
    "# リストを表示\n",
    "print(\"削除前のリスト\", colors_list)\n",
    "\n",
    "# インデックス１の要素を削除して\n",
    "# 削除したものをremove_colorに格納\n",
    "remove_color = colors_list.pop(1)\n",
    "\n",
    "# 削除後のリストを表示\n",
    "print(\"削除後のリスト\", colors_list)\n",
    "# popした色\n",
    "print(\"取り出された色\", remove_color)\n",
    "\n",
    "\n"
   ]
  },
  {
   "cell_type": "code",
   "execution_count": 17,
   "id": "a65ef149",
   "metadata": {},
   "outputs": [
    {
     "name": "stdout",
     "output_type": "stream",
     "text": [
      "並べ替え前 [3, 1, 4, 5, 9, 2]\n",
      "並べ替え後 [1, 2, 3, 4, 5, 9]\n"
     ]
    }
   ],
   "source": [
    "# 並べ替え\n",
    "# リストを作成\n",
    "numbers_list = [3, 1, 4, 5, 9, 2]\n",
    "# 並べ替え前のリストを表示\n",
    "print(\"並べ替え前\", numbers_list)\n",
    "\n",
    "# リストそのものを並べ替える\n",
    "numbers_list.sort()\n",
    "# 並べ替えた後のリスト\n",
    "print(\"並べ替え後\", numbers_list)\n"
   ]
  },
  {
   "cell_type": "code",
   "execution_count": 18,
   "id": "8bf1705c",
   "metadata": {},
   "outputs": [
    {
     "name": "stdout",
     "output_type": "stream",
     "text": [
      "[0, 1, 2, 3]\n"
     ]
    }
   ],
   "source": [
    "# スライスを使う\n",
    "# リストを作成\n",
    "numbers_list = [0, 1, 2, 3, 4, 5, 6, 7, 8, 9]\n",
    "\n",
    "#　最初からインデックスの手前までスライス\n",
    "first_part = numbers_list[:4]\n",
    "\n",
    "# スライスしたリストを表示\n",
    "print(first_part)"
   ]
  },
  {
   "cell_type": "code",
   "execution_count": 19,
   "id": "265e462c",
   "metadata": {},
   "outputs": [
    {
     "name": "stdout",
     "output_type": "stream",
     "text": [
      "[5, 6, 7, 8, 9]\n"
     ]
    }
   ],
   "source": [
    "# スライスを使う\n",
    "# リストを作成\n",
    "numbers_list = [0, 1, 2, 3, 4, 5, 6, 7, 8, 9]\n",
    "\n",
    "# インデックス５から最後までスライス\n",
    "last_part = numbers_list[5:]\n",
    "# スライスしたリストを表示\n",
    "print(last_part)"
   ]
  },
  {
   "cell_type": "code",
   "execution_count": 20,
   "id": "541d378c",
   "metadata": {},
   "outputs": [
    {
     "name": "stdout",
     "output_type": "stream",
     "text": [
      "元のリスト [0, 1, 2, 3, 4, 5, 6, 7, 8, 9]\n",
      "[2, 3, 4]\n"
     ]
    }
   ],
   "source": [
    "# スライスを使う\n",
    "# リストを作成\n",
    "numbers_list = [0, 1, 2, 3, 4, 5, 6, 7, 8, 9]\n",
    "\n",
    "# インデックス２からインデックス５の手前までスライス\n",
    "# 実際は、インデックス２、３、４が取り出される\n",
    "my_slice = numbers_list[2:5]\n",
    "\n",
    "# 元のリストを表示\n",
    "print(\"元のリスト\", numbers_list)\n",
    "# スライスしたリストを表示\n",
    "print(my_slice)"
   ]
  },
  {
   "cell_type": "code",
   "execution_count": 24,
   "id": "dfe68453",
   "metadata": {},
   "outputs": [
    {
     "name": "stdout",
     "output_type": "stream",
     "text": [
      "操作前のリスト [10, 20, 30, 40, 50]\n",
      "取り出した要素 30\n",
      "操作後のリスト [10, 20, 40, 50] ←元のリストが変更されている！\n",
      "スライスの実験\n",
      "操作前のリスト [10, 20, 30, 40, 50]\n",
      "作成された新しいリスト： [20, 30, 40]\n",
      "操作後のリスト [10, 20, 30, 40, 50] ←元のリストは変更されていない！\n"
     ]
    }
   ],
   "source": [
    "# destructiveとnone-destructive\n",
    "# リストを作成\n",
    "my_numbers = [10, 20, 30, 40,50]\n",
    "\n",
    "# pop()の場合\n",
    "print(\"操作前のリスト\", my_numbers)\n",
    "\n",
    "# インデックス２の要素を削除\n",
    "removed_item = my_numbers.pop(2)\n",
    "# 取り出した要素を表示\n",
    "print(\"取り出した要素\",removed_item)\n",
    "# 元のリストが変更されているか？\n",
    "print(\"操作後のリスト\",my_numbers, \"←元のリストが変更されている！\")\n",
    "\n",
    "\n",
    "# スライスの場合\n",
    "# 比較のためにリストをもとに戻す\n",
    "my_numbers = [10, 20, 30, 40,50]\n",
    "print(\"スライスの実験\")\n",
    "# 操作前のリストを表示\n",
    "print(\"操作前のリスト\",my_numbers)\n",
    "\n",
    "# インデックス１から４の手前までをスライス\n",
    "new_list = my_numbers[1:4]\n",
    "# 新しいリストを表示\n",
    "print(\"作成された新しいリスト：\", new_list)\n",
    "# 操作後のリストを表示\n",
    "print(\"操作後のリスト\", my_numbers, \"←元のリストは変更されていない！\")\n"
   ]
  },
  {
   "cell_type": "code",
   "execution_count": 1,
   "id": "fe9781b9",
   "metadata": {},
   "outputs": [
    {
     "name": "stdout",
     "output_type": "stream",
     "text": [
      "('Mon', 'Tue', 'Wed', 'Thu', 'Fri', 'Sat', 'Sun')\n",
      "Mon\n"
     ]
    }
   ],
   "source": [
    "# 曜日のタプルを作成する\n",
    "days_of_week = (\"Mon\",\"Tue\",\"Wed\",\"Thu\",\"Fri\",\"Sat\",\"Sun\")\n",
    "\n",
    "# リストを表示\n",
    "print(days_of_week)\n",
    "print(days_of_week[0])# アクセス方法はリストと同じ"
   ]
  },
  {
   "cell_type": "code",
   "execution_count": 2,
   "id": "f961f0cb",
   "metadata": {},
   "outputs": [
    {
     "ename": "TypeError",
     "evalue": "'tuple' object does not support item assignment",
     "output_type": "error",
     "traceback": [
      "\u001b[31m---------------------------------------------------------------------------\u001b[39m",
      "\u001b[31mTypeError\u001b[39m                                 Traceback (most recent call last)",
      "\u001b[36mCell\u001b[39m\u001b[36m \u001b[39m\u001b[32mIn[2]\u001b[39m\u001b[32m, line 5\u001b[39m\n\u001b[32m      2\u001b[39m days_of_week = (\u001b[33m\"\u001b[39m\u001b[33mMon\u001b[39m\u001b[33m\"\u001b[39m, \u001b[33m\"\u001b[39m\u001b[33mTue\u001b[39m\u001b[33m\"\u001b[39m, \u001b[33m\"\u001b[39m\u001b[33mWed\u001b[39m\u001b[33m\"\u001b[39m, \u001b[33m\"\u001b[39m\u001b[33mThu\u001b[39m\u001b[33m\"\u001b[39m, \u001b[33m\"\u001b[39m\u001b[33mFri\u001b[39m\u001b[33m\"\u001b[39m, \u001b[33m\"\u001b[39m\u001b[33mSat\u001b[39m\u001b[33m\"\u001b[39m, \u001b[33m\"\u001b[39m\u001b[33mSun\u001b[39m\u001b[33m\"\u001b[39m)\n\u001b[32m      4\u001b[39m \u001b[38;5;66;03m#　インデックス０の要素を変更しようとすると？\u001b[39;00m\n\u001b[32m----> \u001b[39m\u001b[32m5\u001b[39m \u001b[43mdays_of_week\u001b[49m\u001b[43m[\u001b[49m\u001b[32;43m0\u001b[39;49m\u001b[43m]\u001b[49m = \u001b[33m\"\u001b[39m\u001b[33m月曜日\u001b[39m\u001b[33m\"\u001b[39m\n",
      "\u001b[31mTypeError\u001b[39m: 'tuple' object does not support item assignment"
     ]
    }
   ],
   "source": [
    "# 曜日のタプルを作成\n",
    "days_of_week = (\"Mon\", \"Tue\", \"Wed\", \"Thu\", \"Fri\", \"Sat\", \"Sun\")\n",
    "\n",
    "#　インデックス０の要素を変更しようとすると？\n",
    "days_of_week[0] = \"月曜日\""
   ]
  },
  {
   "cell_type": "code",
   "execution_count": 3,
   "id": "11c93da9",
   "metadata": {},
   "outputs": [
    {
     "name": "stdout",
     "output_type": "stream",
     "text": [
      "{'name': 'ロード', 'year_of_birth': 1974, 'occupation': 'プログラマー見習い'}\n"
     ]
    }
   ],
   "source": [
    "# 私のプロフィールを辞書で作成する\n",
    "my_profile = {\n",
    "    \"name\": \"ロード\",\n",
    "    \"year_of_birth\": 1974,\n",
    "    \"occupation\": \"プログラマー見習い\"\n",
    "}\n",
    "\n",
    "# 辞書を出力\n",
    "print(my_profile)"
   ]
  },
  {
   "cell_type": "code",
   "execution_count": 4,
   "id": "400b8a34",
   "metadata": {},
   "outputs": [
    {
     "name": "stdout",
     "output_type": "stream",
     "text": [
      "ロード\n",
      "変更後 {'name': 'ロード', 'year_of_birth': 1974, 'occupation': 'Pythonプログラマー'}\n"
     ]
    }
   ],
   "source": [
    "# 私のプロフィールを辞書で作成\n",
    "my_profile = {\n",
    "    \"name\": \"ロード\",\n",
    "    \"year_of_birth\": 1974,\n",
    "    \"occupation\": \"プログラマー見習い\"\n",
    "}\n",
    "# \"name\"というキーを使って値にアクセスする\n",
    "print(my_profile[\"name\"])\n",
    "\n",
    "# \"occupation\"を変更する\n",
    "my_profile[\"occupation\"] = \"Pythonプログラマー\"\n",
    "# 変更後の辞書を出力\n",
    "print(\"変更後\", my_profile)"
   ]
  },
  {
   "cell_type": "code",
   "execution_count": 5,
   "id": "31d1bc51",
   "metadata": {},
   "outputs": [
    {
     "name": "stdout",
     "output_type": "stream",
     "text": [
      "追加前 {'name': 'ロード', 'year_of_birth': 1974}\n",
      "追加後 {'name': 'ロード', 'year_of_birth': 1974, 'hobby': 'プログラミング'}\n"
     ]
    }
   ],
   "source": [
    "# 私のプロフィールを辞書で作成\n",
    "my_profile = {\n",
    "    \"name\": \"ロード\",\n",
    "    \"year_of_birth\": 1974\n",
    "}\n",
    "# プロフィールを表示\n",
    "print(\"追加前\", my_profile)\n",
    "\n",
    "# \"hobby\"という新しいキーと値のペアを追加\n",
    "my_profile[\"hobby\"] = \"プログラミング\"\n",
    "# 新しいプロフィールを表示\n",
    "print(\"追加後\", my_profile)"
   ]
  },
  {
   "cell_type": "code",
   "execution_count": null,
   "id": "9753d8f8",
   "metadata": {},
   "outputs": [
    {
     "name": "stdout",
     "output_type": "stream",
     "text": [
      "{'title': '独学プログラマー', 'author': 'コーリー・アルソフ', 'publisher': '日経BP', 'price': 2600}\n"
     ]
    }
   ],
   "source": [
    "# 本の情報を管理しよう！\n",
    "# 1. 辞書を作成\n",
    "book = {\n",
    "    \"title\": \"独学プログラマー\",\n",
    "    \"author\": \"コーリー・アルソフ\"\n",
    "}\n",
    "# 2. 出版社を追加\n",
    "book[\"publisher\"] = \"日経BP\"\n",
    "# 3. 価格を追加\n",
    "book[\"price\"] = 2400\n",
    "# 4. 価格を変更\n",
    "book[\"price\"] = 2600\n",
    "# 5. 最終的な辞書を表示\n",
    "print(book)"
   ]
  },
  {
   "cell_type": "code",
   "execution_count": null,
   "id": "c4d57b90",
   "metadata": {},
   "outputs": [
    {
     "data": {
      "text/plain": [
       "'HELLO, WORLD'"
      ]
     },
     "execution_count": 11,
     "metadata": {},
     "output_type": "execute_result"
    }
   ],
   "source": [
    "# メソッド.upper・・大文字\n",
    "\"Hello\".upper()"
   ]
  },
  {
   "cell_type": "code",
   "execution_count": null,
   "id": "88143766",
   "metadata": {},
   "outputs": [
    {
     "data": {
      "text/plain": [
       "'Hell@'"
      ]
     },
     "execution_count": 12,
     "metadata": {},
     "output_type": "execute_result"
    }
   ],
   "source": [
    "# メソッド.replace・・・入れ換え\n",
    "\"Hello\".replace(\"o\",\"@\")"
   ]
  },
  {
   "cell_type": "code",
   "execution_count": null,
   "id": "a34a12fd",
   "metadata": {},
   "outputs": [
    {
     "data": {
      "text/plain": [
       "[]"
      ]
     },
     "execution_count": 13,
     "metadata": {},
     "output_type": "execute_result"
    }
   ],
   "source": [
    "# リストの作成・・からのリスト\n",
    "fruit = list()\n",
    "fruit"
   ]
  },
  {
   "cell_type": "code",
   "execution_count": null,
   "id": "44cf8096",
   "metadata": {},
   "outputs": [
    {
     "data": {
      "text/plain": [
       "[]"
      ]
     },
     "execution_count": 15,
     "metadata": {},
     "output_type": "execute_result"
    }
   ],
   "source": [
    "# 関数を使わないリストの作成・・からのリスト\n",
    "fruit = []\n",
    "fruit"
   ]
  },
  {
   "cell_type": "code",
   "execution_count": 16,
   "id": "b92ddea3",
   "metadata": {},
   "outputs": [
    {
     "data": {
      "text/plain": [
       "['Apple', 'Orange', 'Pear', 'Banana', 'Peach']"
      ]
     },
     "execution_count": 16,
     "metadata": {},
     "output_type": "execute_result"
    }
   ],
   "source": [
    "# リストに要素の追加.append\n",
    "fruit =[\"Apple\", \"Orange\", \"Pear\"]\n",
    "fruit.append(\"Banana\")\n",
    "fruit.append(\"Peach\")\n",
    "fruit"
   ]
  },
  {
   "cell_type": "code",
   "execution_count": 17,
   "id": "74fbcf99",
   "metadata": {},
   "outputs": [
    {
     "data": {
      "text/plain": [
       "[True, 100, 1.1, 'Hello']"
      ]
     },
     "execution_count": 17,
     "metadata": {},
     "output_type": "execute_result"
    }
   ],
   "source": [
    "# リストに追加できる要素に制限はない\n",
    "random = []\n",
    "random.append(True)\n",
    "random.append(100)\n",
    "random.append(1.1)\n",
    "random.append(\"Hello\")\n",
    "random"
   ]
  },
  {
   "cell_type": "code",
   "execution_count": 19,
   "id": "5be67f1c",
   "metadata": {},
   "outputs": [
    {
     "name": "stdout",
     "output_type": "stream",
     "text": [
      "Apple\n",
      "Orande\n",
      "Pear\n"
     ]
    }
   ],
   "source": [
    "# インデックスについて０から始まる\n",
    "# リストを作成\n",
    "fruit = [\"Apple\", \"Orande\", \"Pear\"]\n",
    "# print()が必要\n",
    "print(fruit[0])\n",
    "print(fruit[1])\n",
    "print(fruit[2])"
   ]
  },
  {
   "cell_type": "code",
   "execution_count": 20,
   "id": "8e48d69a",
   "metadata": {},
   "outputs": [
    {
     "ename": "IndexError",
     "evalue": "list index out of range",
     "output_type": "error",
     "traceback": [
      "\u001b[31m---------------------------------------------------------------------------\u001b[39m",
      "\u001b[31mIndexError\u001b[39m                                Traceback (most recent call last)",
      "\u001b[36mCell\u001b[39m\u001b[36m \u001b[39m\u001b[32mIn[20]\u001b[39m\u001b[32m, line 4\u001b[39m\n\u001b[32m      1\u001b[39m \u001b[38;5;66;03m# 存在しない要素を取り出そうとすると・・・\u001b[39;00m\n\u001b[32m      2\u001b[39m \u001b[38;5;66;03m# リストを作成\u001b[39;00m\n\u001b[32m      3\u001b[39m colors = [\u001b[33m\"\u001b[39m\u001b[33mblue\u001b[39m\u001b[33m\"\u001b[39m, \u001b[33m\"\u001b[39m\u001b[33mgreen\u001b[39m\u001b[33m\"\u001b[39m, \u001b[33m\"\u001b[39m\u001b[33myellow\u001b[39m\u001b[33m\"\u001b[39m]\n\u001b[32m----> \u001b[39m\u001b[32m4\u001b[39m \u001b[43mcolors\u001b[49m\u001b[43m[\u001b[49m\u001b[32;43m4\u001b[39;49m\u001b[43m]\u001b[49m\n",
      "\u001b[31mIndexError\u001b[39m: list index out of range"
     ]
    }
   ],
   "source": [
    "# 存在しない要素を取り出そうとすると・・・\n",
    "# リストを作成\n",
    "colors = [\"blue\", \"green\", \"yellow\"]\n",
    "colors[4]"
   ]
  },
  {
   "cell_type": "code",
   "execution_count": 22,
   "id": "69e1d899",
   "metadata": {},
   "outputs": [
    {
     "name": "stdout",
     "output_type": "stream",
     "text": [
      "['blue', 'green', 'yellow']\n",
      "['blue', 'green', 'red']\n"
     ]
    }
   ],
   "source": [
    "# リストは変更可能(mutable)\n",
    "colors = [\"blue\", \"green\", \"yellow\"]\n",
    "# 作成したリストの表示\n",
    "print(colors)\n",
    "# print()を忘れる\n",
    "# インデックスで指定した位置に代入\n",
    "colors[2] = \"red\"\n",
    "# \"\"だけで良いのになれない\n",
    "# 新しいリストを表示\n",
    "print(colors)"
   ]
  },
  {
   "cell_type": "code",
   "execution_count": 23,
   "id": "7041f324",
   "metadata": {},
   "outputs": [
    {
     "name": "stdout",
     "output_type": "stream",
     "text": [
      "['blue', 'green', 'yellow']\n",
      "yellow\n",
      "['blue', 'green']\n"
     ]
    }
   ],
   "source": [
    "# リストの末尾から要素を取り除く.pop\n",
    "# リストを作成\n",
    "colors = [\"blue\", \"green\", \"yellow\"]\n",
    "# リストを表示\n",
    "print(colors)\n",
    "# 取り除く要素を変数に入れる\n",
    "item = colors.pop()\n",
    "# 取り除いた要素を表示\n",
    "print(item)\n",
    "# 元のリストを表示\n",
    "print(colors)"
   ]
  },
  {
   "cell_type": "code",
   "execution_count": 24,
   "id": "15bbeeaa",
   "metadata": {},
   "outputs": [
    {
     "name": "stdout",
     "output_type": "stream",
     "text": [
      "<built-in method pop of list object at 0x10558a2c0>\n"
     ]
    }
   ],
   "source": [
    "# .popメソッドはからの要素には使えない\n",
    "#　からのリストを作成\n",
    "colors = []\n",
    "# からのリストから取り出す.pop\n",
    "# 変数に取り出した要素を代入\n",
    "item = colors.pop\n",
    "# 取り出した要素を表示\n",
    "print(item)"
   ]
  },
  {
   "cell_type": "code",
   "execution_count": 25,
   "id": "623fc6cd",
   "metadata": {},
   "outputs": [
    {
     "name": "stdout",
     "output_type": "stream",
     "text": [
      "['blue', 'green', 'yellow', 'orange', 'pink', 'black']\n"
     ]
    }
   ],
   "source": [
    "# 足し算を使って２つの要素を連結\n",
    "# ２つのリストを作成\n",
    "colors1 = [\"blue\", \"green\", \"yellow\"]\n",
    "colors2 = [\"orange\", \"pink\", \"black\"]\n",
    "\n",
    "# ２つのリストを連結＋を使う\n",
    "colors = colors1 + colors2\n",
    "# 連結したリストを表示\n",
    "print(colors)\n"
   ]
  },
  {
   "cell_type": "code",
   "execution_count": 28,
   "id": "6a365717",
   "metadata": {},
   "outputs": [
    {
     "name": "stdout",
     "output_type": "stream",
     "text": [
      "True\n",
      "False\n"
     ]
    }
   ],
   "source": [
    "# リストにある要素が含まれているかの確認・・in演算子\n",
    "# リストを作成\n",
    "colors = [\"blue\", \"green\", \"yellow\"]\n",
    "# \"green\"が含まれているか？\n",
    "print(\"green\" in colors)\n",
    "# 演算子ということは＋やーと同じ使い方・・返り値はTrue・False\n",
    "#\"black\"は含まれているか？\n",
    "print(\"black\" in colors)"
   ]
  },
  {
   "cell_type": "code",
   "execution_count": 30,
   "id": "a2de8d32",
   "metadata": {},
   "outputs": [
    {
     "name": "stdout",
     "output_type": "stream",
     "text": [
      "True\n",
      "False\n"
     ]
    }
   ],
   "source": [
    "# 要素が入っていないことを調べる演算子　not in\n",
    "# リストを作成\n",
    "colors = [\"blue\", \"green\",\"yellow\"]\n",
    "# \"black\"が入っていないことを調べる\n",
    "print(\"black\" not in colors)\n",
    "# \"blue\"が入っていることを調べる\n",
    "print(\"blue\" not in colors)"
   ]
  },
  {
   "cell_type": "code",
   "execution_count": 31,
   "id": "388032dd",
   "metadata": {},
   "outputs": [
    {
     "name": "stdout",
     "output_type": "stream",
     "text": [
      "3\n"
     ]
    }
   ],
   "source": [
    "# リストのサイズ（幾つの要素が含まれているか）を調べる　len\n",
    "# リストを作成\n",
    "colors = [\"blue\", \"green\", \"yellow\"]\n",
    "# リストのサイズを調べる・・len\n",
    "print(len(colors))"
   ]
  },
  {
   "cell_type": "code",
   "execution_count": 34,
   "id": "2c80b0ec",
   "metadata": {},
   "outputs": [
    {
     "name": "stdout",
     "output_type": "stream",
     "text": [
      "ハズレ！また挑戦してね。\n"
     ]
    }
   ],
   "source": [
    "# ちょっとしたプログラム\n",
    "# リストを作成\n",
    "colors = [\"purple\", \"orange\", \"green\"]\n",
    "# 色の入力を要求\n",
    "guess = input(\"何色でしょう？（入力してください）：\")\n",
    "\n",
    "# あたりハズレの判定\n",
    "if guess in colors:\n",
    "    print(\"当たり！\")\n",
    "else:\n",
    "    print(\"ハズレ！また挑戦してね。\")"
   ]
  },
  {
   "cell_type": "code",
   "execution_count": 36,
   "id": "0b73b5a8",
   "metadata": {},
   "outputs": [
    {
     "name": "stdout",
     "output_type": "stream",
     "text": [
      "()\n"
     ]
    }
   ],
   "source": [
    "# タプルの写経\n",
    "# からのタプルの作成・・関数を使って\n",
    "my_tuple = tuple()\n",
    "print(my_tuple)"
   ]
  },
  {
   "cell_type": "code",
   "execution_count": 37,
   "id": "f29a747e",
   "metadata": {},
   "outputs": [
    {
     "name": "stdout",
     "output_type": "stream",
     "text": [
      "()\n"
     ]
    }
   ],
   "source": [
    "# タプルの作成・・関数を使わずに\n",
    "my_tuple = ()\n",
    "print(my_tuple)"
   ]
  },
  {
   "cell_type": "code",
   "execution_count": 38,
   "id": "eac61d0a",
   "metadata": {},
   "outputs": [
    {
     "name": "stdout",
     "output_type": "stream",
     "text": [
      "('M.Jackson', '1958', 'True')\n"
     ]
    }
   ],
   "source": [
    "# タプルの作成・・オブジェクトを追加\n",
    "rndm = (\"M.Jackson\", \"1958\", \"True\")\n",
    "print(rndm)"
   ]
  },
  {
   "cell_type": "code",
   "execution_count": 39,
   "id": "c755b32c",
   "metadata": {},
   "outputs": [
    {
     "name": "stdout",
     "output_type": "stream",
     "text": [
      "self_taught\n",
      "10\n"
     ]
    }
   ],
   "source": [
    "# ()の使い方\n",
    "# タプルの要素が一つの場合　, が必要・・数値演算と区別\n",
    "# これはタプルです\n",
    "print((\"self_taught\"))\n",
    "\n",
    "# これは数値演算に使うかっこです\n",
    "print((9) + 1)"
   ]
  },
  {
   "cell_type": "code",
   "execution_count": 40,
   "id": "621b79dd",
   "metadata": {},
   "outputs": [
    {
     "ename": "TypeError",
     "evalue": "'tuple' object does not support item assignment",
     "output_type": "error",
     "traceback": [
      "\u001b[31m---------------------------------------------------------------------------\u001b[39m",
      "\u001b[31mTypeError\u001b[39m                                 Traceback (most recent call last)",
      "\u001b[36mCell\u001b[39m\u001b[36m \u001b[39m\u001b[32mIn[40]\u001b[39m\u001b[32m, line 6\u001b[39m\n\u001b[32m      3\u001b[39m dys = (\u001b[33m\"\u001b[39m\u001b[33m1984\u001b[39m\u001b[33m\"\u001b[39m, \u001b[33m\"\u001b[39m\u001b[33mBrave New World\u001b[39m\u001b[33m\"\u001b[39m, \u001b[33m\"\u001b[39m\u001b[33mFahreheit 451\u001b[39m\u001b[33m\"\u001b[39m)\n\u001b[32m      5\u001b[39m \u001b[38;5;66;03m# タプルに要素の追加ができるか？\u001b[39;00m\n\u001b[32m----> \u001b[39m\u001b[32m6\u001b[39m \u001b[43mdys\u001b[49m\u001b[43m[\u001b[49m\u001b[32;43m1\u001b[39;49m\u001b[43m]\u001b[49m = \u001b[33m\"\u001b[39m\u001b[33mHandmaid\u001b[39m\u001b[33m'\u001b[39m\u001b[33ms Tale\u001b[39m\u001b[33m\"\u001b[39m\n",
      "\u001b[31mTypeError\u001b[39m: 'tuple' object does not support item assignment"
     ]
    }
   ],
   "source": [
    "# タプルはimmutable\n",
    "# タプルを作成\n",
    "dys = (\"1984\", \"Brave New World\", \"Fahreheit 451\")\n",
    "\n",
    "# タプルに要素の追加ができるか？\n",
    "dys[1] = \"Handmaid's Tale\""
   ]
  },
  {
   "cell_type": "code",
   "execution_count": null,
   "id": "de2ab495",
   "metadata": {},
   "outputs": [
    {
     "name": "stdout",
     "output_type": "stream",
     "text": [
      "Brave New World\n"
     ]
    }
   ],
   "source": [
    "# タプルの要素を取り出す\n",
    "# リストと同じようにインデックスを指定\n",
    "# タプルを作成\n",
    "dys = (\"1984\", \"Brave New World\", \"Fahreheit 451\")\n",
    "# インデックスを指定\n",
    "print(dys[1])\n",
    "# dys = [1]としてしまったのが失敗"
   ]
  },
  {
   "cell_type": "code",
   "execution_count": null,
   "id": "f06a4940",
   "metadata": {},
   "outputs": [
    {
     "name": "stdout",
     "output_type": "stream",
     "text": [
      "True\n"
     ]
    }
   ],
   "source": [
    "# タプルに要素が含まれているか？\n",
    "# リストと同様in演算子を使用\n",
    "# タプルを作成\n",
    "dys = [\"1984\", \"Brave New World\", \"Fahrenheit 451\"]\n",
    "# in演算子を使って確認\n",
    "print(\"1984\" in dys)"
   ]
  },
  {
   "cell_type": "code",
   "execution_count": 49,
   "id": "ade53a3a",
   "metadata": {},
   "outputs": [
    {
     "name": "stdout",
     "output_type": "stream",
     "text": [
      "True\n"
     ]
    }
   ],
   "source": [
    "# タプルに要素が含まれていないことを確認　not in演算子\n",
    "# タプルを作成\n",
    "dys = (\"1984\", \"Brave New World\", \"Fahrenheit 451\")\n",
    "# タプルに含まれていないことを確認\n",
    "print(\"Handmaid's Talse\" not in dys)"
   ]
  },
  {
   "cell_type": "code",
   "execution_count": 50,
   "id": "f46b7b55",
   "metadata": {},
   "outputs": [
    {
     "name": "stdout",
     "output_type": "stream",
     "text": [
      "{}\n"
     ]
    }
   ],
   "source": [
    "# 辞書の写経\n",
    "# からの辞書を作成\n",
    "my_dict = dict()\n",
    "# 辞書を表示\n",
    "print(my_dict)"
   ]
  },
  {
   "cell_type": "code",
   "execution_count": 51,
   "id": "a3a15585",
   "metadata": {},
   "outputs": [
    {
     "name": "stdout",
     "output_type": "stream",
     "text": [
      "{}\n"
     ]
    }
   ],
   "source": [
    "#　からの辞書を作成\n",
    "my_dict = {}\n",
    "# dict()の方が間違えない気はするが手間\n",
    "print(my_dict)"
   ]
  },
  {
   "cell_type": "code",
   "execution_count": 52,
   "id": "078e378b",
   "metadata": {},
   "outputs": [
    {
     "name": "stdout",
     "output_type": "stream",
     "text": [
      "{'Apple': 'Red', 'Banana': 'yellow'}\n"
     ]
    }
   ],
   "source": [
    "# 辞書の作成\n",
    "# キーバリューペア・・１つの場合でも　, はいらない\n",
    "fruit = {\n",
    "    \"Apple\": \"Red\",\n",
    "    \"Banana\": \"yellow\"\n",
    "}\n",
    "# 辞書を表示\n",
    "print(fruit)"
   ]
  },
  {
   "cell_type": "code",
   "execution_count": null,
   "id": "85d9ef2c",
   "metadata": {},
   "outputs": [
    {
     "name": "stdout",
     "output_type": "stream",
     "text": [
      "fun\n",
      "Gates\n",
      "1976\n"
     ]
    }
   ],
   "source": [
    "# 辞書の使い方\n",
    "# 辞書を作成\n",
    "facts = dict()\n",
    "\n",
    "# バリューの追加\n",
    "facts[\"code\"] = \"fun\"\n",
    "# キーで参照\n",
    "print(facts[\"code\"])\n",
    "\n",
    "# バリューの追加\n",
    "facts[\"Bill\"] = \"Gates\"\n",
    "# キーで参照\n",
    "print(facts[\"Bill\"])\n",
    "\n",
    "# バリューの追加\n",
    "facts[\"founded\"] = 1976\n",
    "# キーで参照\n",
    "print(facts[\"founded\"])\n",
    "# 辞書のキーはimmutable・・タプルや文字列は使えるが辞書は使えない"
   ]
  },
  {
   "cell_type": "code",
   "execution_count": 57,
   "id": "b58ce25b",
   "metadata": {},
   "outputs": [
    {
     "data": {
      "text/plain": [
       "True"
      ]
     },
     "execution_count": 57,
     "metadata": {},
     "output_type": "execute_result"
    }
   ],
   "source": [
    "# 辞書を作成\n",
    "bill = {\"Bill Gates\": \"charitable\"}\n",
    "# in演算子で要素を確認\n",
    "\"Bill Doors\" not in bill"
   ]
  },
  {
   "cell_type": "code",
   "execution_count": 58,
   "id": "a6c794a4",
   "metadata": {},
   "outputs": [
    {
     "data": {
      "text/plain": [
       "True"
      ]
     },
     "execution_count": 58,
     "metadata": {},
     "output_type": "execute_result"
    }
   ],
   "source": [
    "# 辞書を作成\n",
    "bill = {\"Bill Gates\": \"charitable\"}\n",
    "# not in演算子で要素を確認\n",
    "\"Bill Doors\" not in bill"
   ]
  },
  {
   "cell_type": "code",
   "execution_count": null,
   "id": "a5da9fdb",
   "metadata": {},
   "outputs": [
    {
     "name": "stdout",
     "output_type": "stream",
     "text": [
      "{'Dracula': 'Stoker', '1984': 'Orwell', 'The Trial': 'Kafka'}\n",
      "{'Dracula': 'Stoker', '1984': 'Orwell'}\n"
     ]
    }
   ],
   "source": [
    "# 要素の削除　命令文dell\n",
    "# 辞書の作成\n",
    "books = {\"Dracula\": \"Stoker\",\n",
    "        \"1984\": \"Orwell\",\n",
    "        \"The Trial\": \"Kafka\"}\n",
    "# 辞書を表示\n",
    "print(books)\n",
    "# 要素を削除\n",
    "del books[\"The Trial\"]\n",
    "# 変更後の辞書を表示\n",
    "print(books)\n",
    "# bookとbooksミスが多い\n",
    "# key Error"
   ]
  },
  {
   "cell_type": "code",
   "execution_count": 63,
   "id": "3454c54e",
   "metadata": {},
   "outputs": [
    {
     "name": "stdout",
     "output_type": "stream",
     "text": [
      "見つかりません。\n"
     ]
    }
   ],
   "source": [
    "# 辞書をつかったプログラムの例\n",
    "# 辞書を作成\n",
    "songs = {\"1\": \"fun\",\n",
    "        \"2\": \"blue\",\n",
    "        \"3\": \"me\",\n",
    "        \"4\": \"floor\",\n",
    "        \"5\": \"live\"}\n",
    "\n",
    "# キーの入力要求\n",
    "n = input(\"数字を入力してください。：\")\n",
    "\n",
    "# 条件分岐..キーが辞書に含まれるか？\n",
    "if n in songs:\n",
    "    song = songs[n]\n",
    "    print(song)\n",
    "else:\n",
    "    print(\"見つかりません。\")"
   ]
  },
  {
   "cell_type": "code",
   "execution_count": null,
   "id": "6ceaa8d6",
   "metadata": {},
   "outputs": [
    {
     "name": "stdout",
     "output_type": "stream",
     "text": [
      "[['カニエ・ウエスト', 'ジェイ・z', 'エミネム', 'ナズ'], ['ボブ・ディラン', 'ザ・ビートルズ', 'レッド・ツッペリン'], ['ゼッズ・デッド', 'ティエスト']]\n"
     ]
    }
   ],
   "source": [
    "# 写経コンテナの中のコンテナ\n",
    "# からのリストを作成\n",
    "lists = []\n",
    "\n",
    "# コンテナに入れるコンテナを作成\n",
    "rap = [\"カニエ・ウエスト\", \"ジェイ・z\", \"エミネム\", \"ナズ\"]\n",
    "rock = [\"ボブ・ディラン\", \"ザ・ビートルズ\", \"レッド・ツッペリン\"]\n",
    "djs = [\"ゼッズ・デッド\", \"ティエスト\"]\n",
    "\n",
    "# コンテナにコンテナを追加するメソッド .append\n",
    "lists.append(rap)\n",
    "lists.append(rock)\n",
    "lists.append(djs)\n",
    "\n",
    "# コンテナの入ったコンテナを表示\n",
    "print(lists)\n",
    "\n",
    "# rapの追加でAttributeError\n",
    "# []でいいのに{}にしていた・・疲れた"
   ]
  },
  {
   "cell_type": "code",
   "execution_count": 70,
   "id": "28d32b16",
   "metadata": {},
   "outputs": [
    {
     "name": "stdout",
     "output_type": "stream",
     "text": [
      "['カニエ・ウエスト', 'ジェイ・z', 'エミネム', 'ナズ']\n",
      "['カニエ・ウエスト', 'ジェイ・z', 'エミネム', 'ナズ', 'ケンドリック・ラマー']\n",
      "[['カニエ・ウエスト', 'ジェイ・z', 'エミネム', 'ナズ', 'ケンドリック・ラマー'], ['ボブ・ディラン', 'ザ・ビートルズ', 'レッド・ツッペリン'], ['ゼッズ・デッド', 'ティエスト']]\n"
     ]
    }
   ],
   "source": [
    "# もう一度初めから\n",
    "# からのリストを作成\n",
    "lists = []\n",
    "\n",
    "# コンテナに入れるコンテナを作成\n",
    "rap = [\"カニエ・ウエスト\", \"ジェイ・z\", \"エミネム\", \"ナズ\"]\n",
    "rock = [\"ボブ・ディラン\", \"ザ・ビートルズ\", \"レッド・ツッペリン\"]\n",
    "dj = [\"ゼッズ・デッド\", \"ティエスト\"]\n",
    "\n",
    "# コンテナにコンテナを追加\n",
    "lists.append(rap)\n",
    "lists.append(rock)\n",
    "lists.append(dj)\n",
    "\n",
    "# インデックスを使ってアクセスできる\n",
    "rap = lists[0]\n",
    "print(rap)\n",
    "# rapに新しい要素を追加\n",
    "rap.append(\"ケンドリック・ラマー\")\n",
    "print(rap)\n",
    "print(lists)"
   ]
  },
  {
   "cell_type": "code",
   "execution_count": 71,
   "id": "7473fc3b",
   "metadata": {},
   "outputs": [
    {
     "name": "stdout",
     "output_type": "stream",
     "text": [
      "[(34.0522, 188.2437), (41.8781, 87.6298)]\n"
     ]
    }
   ],
   "source": [
    "# リストを作成\n",
    "locations = [] \n",
    "\n",
    "# タプルを作成\n",
    "la = (34.0522, 188.2437)\n",
    "chicago = (41.8781, 87.6298)\n",
    "\n",
    "# リストにタプルを追加\n",
    "locations.append(la)\n",
    "locations.append(chicago)\n",
    "\n",
    "# 新しいリストを表示\n",
    "print(locations)"
   ]
  },
  {
   "cell_type": "code",
   "execution_count": null,
   "id": "b92ee2ea",
   "metadata": {},
   "outputs": [
    {
     "name": "stdout",
     "output_type": "stream",
     "text": [
      "(['Edgar Allan Poe', 'Charies Dickens'], ['Hemingway', 'Fitzgerald', 'Orwell'])\n"
     ]
    }
   ],
   "source": [
    "# リストを作成\n",
    "eights = [\"Edgar Allan Poe\", \"Charies Dickens\"]\n",
    "nines = [\"Hemingway\", \"Fitzgerald\", \"Orwell\"]\n",
    "\n",
    "# ２つのリストを統合\n",
    "authors = (eights, nines)\n",
    "# 統合したリストを表示\n",
    "print(authors)\n",
    "# タプルの中にリストを入れた？"
   ]
  },
  {
   "cell_type": "code",
   "execution_count": 73,
   "id": "d09761f0",
   "metadata": {},
   "outputs": [
    {
     "name": "stdout",
     "output_type": "stream",
     "text": [
      "[{'Hemingway': '7.21.1899', 'Ftzgerald': '9.24.1896'}]\n",
      "({'Hemingway': '7.21.1899', 'Ftzgerald': '9.24.1896'},)\n"
     ]
    }
   ],
   "source": [
    "# 辞書を作成\n",
    "bday = {\"Hemingway\": \"7.21.1899\",\n",
    "        \"Ftzgerald\": \"9.24.1896\"}\n",
    "\n",
    "# リストに辞書を入れる\n",
    "my_list = [bday]\n",
    "# リストを表示\n",
    "print(my_list)\n",
    "# タプルに辞書を入れる\n",
    "my_tuple = (bday,)\n",
    "# タプルを表示\n",
    "print(my_tuple)"
   ]
  },
  {
   "cell_type": "code",
   "execution_count": 75,
   "id": "bbb726ab",
   "metadata": {},
   "outputs": [
    {
     "name": "stdout",
     "output_type": "stream",
     "text": [
      "{'座標': (40.7128, 74.0059), 'セレブ': ['ウッディ・アレン', 'ジェイ・z', 'ケヴィン・ベーコン'], '事実': {'州': 'ニューヨーク', '国': 'アメリカ'}}\n"
     ]
    }
   ],
   "source": [
    "# 辞書の中に辞書（キーバリュー）・リスト・タプルがはいっている\n",
    "ny = {\n",
    "    \"座標\": (40.7128, 74.0059),\n",
    "    \"セレブ\": [\n",
    "        \"ウッディ・アレン\",\n",
    "        \"ジェイ・z\",\n",
    "        \"ケヴィン・ベーコン\",\n",
    "    ],\n",
    "    \"事実\": {\n",
    "        \"州\": \"ニューヨーク\",\n",
    "        \"国\": \"アメリカ\",\n",
    "        }\n",
    "}\n",
    "\n",
    "# 作成したものを表示\n",
    "print(ny)\n"
   ]
  },
  {
   "cell_type": "code",
   "execution_count": null,
   "id": "b305100b",
   "metadata": {},
   "outputs": [
    {
     "name": "stdout",
     "output_type": "stream",
     "text": [
      "２行目： [4, 5, 6]\n",
      "その中の３番目の要素 6\n",
      "6\n"
     ]
    }
   ],
   "source": [
    "# ２行３列のデータのリストを含むリスト\n",
    "matrix = [\n",
    "    [1, 2, 3],# １行目（インデックス０）\n",
    "    [4, 5, 6]# ２行目（インデックス１）\n",
    "]\n",
    "# ２行目の３番目の要素　６　にアクセス\n",
    "# まず、外側のリストで２行目（インデックス１）を指定\n",
    "row = matrix[1]\n",
    "# 指定したリストを表示\n",
    "print(\"２行目：\",row)\n",
    "\n",
    "# 次に、取り出したリストの中から３番目（インデックス２）を指定\n",
    "element = row[2]\n",
    "# 指定した結果を表示\n",
    "print(\"その中の３番目の要素\", element)\n",
    "\n",
    "# matrix[行のインデックス][列のインデックス]\n",
    "element = matrix[1][2]\n",
    "# 指定した結果を表示\n",
    "print(element)"
   ]
  },
  {
   "cell_type": "code",
   "execution_count": null,
   "id": "74cffddd",
   "metadata": {},
   "outputs": [
    {
     "name": "stdout",
     "output_type": "stream",
     "text": [
      "5000\n",
      "[{'product_id': 'A-001', 'name': '高性能マウス', 'price': 3500, 'in_stock': True}, {'product_id': 'B-002', 'name': '静音キーボード', 'price': 5000, 'in_stock': False}, {'product_id': 'C-003', 'name': '24インチモニター', 'price': 18000, 'in_stock': False}]\n",
      "高性能マウス\n",
      "静音キーボード\n"
     ]
    }
   ],
   "source": [
    "# 商品リスト\n",
    "products = [\n",
    "    {\n",
    "        \"product_id\": \"A-001\",\n",
    "        \"name\": \"高性能マウス\",\n",
    "        \"price\": 3500,\n",
    "        \"in_stock\": True\n",
    "    },\n",
    "    {\n",
    "        \"product_id\": \"B-002\",\n",
    "        \"name\": \"静音キーボード\",\n",
    "        \"price\": 5000,\n",
    "        \"in_stock\": False\n",
    "    },\n",
    "    {\n",
    "        \"product_id\": \"C-003\",\n",
    "        \"name\": \"24インチモニター\",\n",
    "        \"price\": 18000,\n",
    "        \"in_stock\": True\n",
    "    }\n",
    "]\n",
    "# 1. 特定の商品の価格を取り出す\n",
    "# 　 ２番目の商品である「静音キーボード」の価格を取り出す\n",
    "\"\"\"２番目商品[1]とする３番目[2]のデータを取り出す\"\"\"\n",
    "price_2 = products[1][\"price\"]\n",
    "print(price_2)\n",
    "# 辞書ではなくリストだった→ではなくリストの中の辞書\n",
    "\n",
    "# 2. 在庫状況を変更\n",
    "# ３番目の商品が売り切れ・在庫状況をFalseに変更・リスト全体を表示\n",
    "\"\"\"３番目の商品[2]の在庫状況[in_stock]をFalseに上書き\"\"\"\n",
    "products[2][\"in_stock\"] = False\n",
    "print(products)\n",
    "\n",
    "# 3. 全ての商品名を表示する\n",
    "# forループを使う・productsの全ての商品名を順番に取り出して表示\n",
    "\"\"\"productsリストの商品名のリストを作成するわけではない\"\"\"\n",
    "products_name_list = []\n",
    "\"\"\"商品名を順番に取り出して表示→products_name\"\"\"\n",
    "\"\"\"forループを使う\"\"\"\n",
    "for product_n in products[0:2]:\n",
    "    product_name = product_n[\"name\"]\n",
    "    \"\"\"TypeErrorが出た\"\"\"\n",
    "    # nからproduct_nへ・・products[n]はn番目の辞書\n",
    "    print(product_name)"
   ]
  },
  {
   "cell_type": "code",
   "execution_count": null,
   "id": "9c0cbda5",
   "metadata": {},
   "outputs": [
    {
     "name": "stdout",
     "output_type": "stream",
     "text": [
      "(10, 20, 30)\n"
     ]
    },
    {
     "ename": "TypeError",
     "evalue": "'tuple' object does not support item assignment",
     "output_type": "error",
     "traceback": [
      "\u001b[31m---------------------------------------------------------------------------\u001b[39m",
      "\u001b[31mTypeError\u001b[39m                                 Traceback (most recent call last)",
      "\u001b[36mCell\u001b[39m\u001b[36m \u001b[39m\u001b[32mIn[93]\u001b[39m\u001b[32m, line 8\u001b[39m\n\u001b[32m      5\u001b[39m \u001b[38;5;28mprint\u001b[39m(my_tuple)\n\u001b[32m      7\u001b[39m \u001b[38;5;66;03m# タプルに要素が代入できるか\u001b[39;00m\n\u001b[32m----> \u001b[39m\u001b[32m8\u001b[39m \u001b[43mmy_tuple\u001b[49m\u001b[43m[\u001b[49m\u001b[32;43m0\u001b[39;49m\u001b[43m]\u001b[49m = \u001b[32m99\u001b[39m\n",
      "\u001b[31mTypeError\u001b[39m: 'tuple' object does not support item assignment"
     ]
    }
   ],
   "source": [
    "# タプルを作成\n",
    "my_tuple = (10, 20, 30)\n",
    "\n",
    "# タプルの内容を表示\n",
    "print(my_tuple)\n",
    "\n",
    "# タプルに要素が代入できるか\n",
    "my_tuple[0] = 99\n",
    "# TypeErrorが出る"
   ]
  },
  {
   "cell_type": "code",
   "execution_count": null,
   "id": "9f7e8fcd",
   "metadata": {},
   "outputs": [
    {
     "name": "stdout",
     "output_type": "stream",
     "text": [
      "---追加後ーーー\n",
      "{'P001': 150, 'P002': 200}\n",
      "P002の価格：200\n"
     ]
    }
   ],
   "source": [
    "# からの辞書を作成\n",
    "product_prices = {}\n",
    "\n",
    "# キーと値のペアを追加\n",
    "product_prices[\"P001\"] = 150 # キーが\"P001\",値が150\n",
    "\n",
    "product_prices[\"P002\"] = 200 # キーが\"P002\", 値が200\n",
    "\n",
    "# 追加後の辞書を表示\n",
    "print(\"---追加後ーーー\")\n",
    "print(product_prices)\n",
    "\n",
    "# キーを使って値を取得\n",
    "prices = product_prices[\"P002\"]\n",
    "\n",
    "print(f\"P002の価格：{prices}\")\n",
    "#　price→prices&()→{}"
   ]
  },
  {
   "cell_type": "code",
   "execution_count": 101,
   "id": "4d1180e3",
   "metadata": {},
   "outputs": [
    {
     "name": "stdout",
     "output_type": "stream",
     "text": [
      "{'P001': 160, 'P002': 200}\n",
      "---変更後---\n",
      "{'P001': 160, 'P002': 200}\n",
      "---削除後---\n",
      "{'P002': 200}\n"
     ]
    }
   ],
   "source": [
    "# 辞書リストを作成\n",
    "prodcut_prices ={\n",
    "    \"P001\": 150,\n",
    "    \"P002\": 200\n",
    "}\n",
    "print(product_prices)\n",
    "# タイプミスと＝を忘れる\n",
    "\n",
    "# \"P001\"の価格を150から160に価格を更新\n",
    "product_prices[\"P001\"] = 160\n",
    "# 変更後の辞書を表示\n",
    "print(\"---変更後---\")\n",
    "print(product_prices)\n",
    "# 相変わらずタイプミス\n",
    "\n",
    "# キーと値のペアを削除\n",
    "del product_prices[\"P001\"]\n",
    "\n",
    "# 削除後の辞書を表示\n",
    "print(\"---削除後---\")\n",
    "print(product_prices)"
   ]
  },
  {
   "cell_type": "code",
   "execution_count": 1,
   "id": "b64c09fa",
   "metadata": {},
   "outputs": [
    {
     "name": "stdout",
     "output_type": "stream",
     "text": [
      "['ベートーベン', 'バッハ', 'ブラームス']\n"
     ]
    }
   ],
   "source": [
    "\"\"\"1. 好きなミュージシャンのリストを作ろう\"\"\"\n",
    "musicians_list = [\"ベートーベン\", \"バッハ\", \"ブラームス\"]\n",
    "print(musicians_list)"
   ]
  },
  {
   "cell_type": "code",
   "execution_count": 2,
   "id": "81c280bc",
   "metadata": {},
   "outputs": [
    {
     "name": "stdout",
     "output_type": "stream",
     "text": [
      "{'飛車': '2. 八 ・ 8. 二', '角': '8. 二 ・ 2. 八'}\n"
     ]
    }
   ],
   "source": [
    "\"\"\"2. タプルのリストを作ろう。  \n",
    "\t各タプルにはあなたが行ったことのある場所の緯度と経度を持たせよう。\"\"\"\n",
    "# 将棋のコマの初期位置\n",
    "first_locations = {\"飛車\": (\"2. 八 ・ 8. 二\"),\n",
    "                        \"角\": (\"8. 二 ・ 2. 八\")\n",
    "                        }\n",
    "print(first_locations)"
   ]
  },
  {
   "cell_type": "code",
   "execution_count": 4,
   "id": "9c7a5cb2",
   "metadata": {},
   "outputs": [
    {
     "name": "stdout",
     "output_type": "stream",
     "text": [
      "{'好きな色': '青', '好きな食べ物': '苺', '好きな作家': '志賀直哉'}\n"
     ]
    }
   ],
   "source": [
    "\"\"\"3. 辞書を作ろう。辞書にはあなたの特徴を表すキーバリューのペアを持たせよう。  \n",
    "\t例えば、身長、好きな色、作家など。\"\"\"\n",
    "favorits_list = {\"好きな色\": \"青\",\n",
    "                \"好きな食べ物\": \"苺\",\n",
    "                \"好きな作家\": \"志賀直哉\"}\n",
    "print(favorits_list)"
   ]
  },
  {
   "cell_type": "code",
   "execution_count": 9,
   "id": "4e9fe32b",
   "metadata": {},
   "outputs": [
    {
     "name": "stdout",
     "output_type": "stream",
     "text": [
      "私は青が好きです。\n"
     ]
    }
   ],
   "source": [
    "\"\"\"4. 任意のキーを入力させるプログラムを書こう。入力されたキーを使って、１つ前のチャレンジで用意した辞書からバリューを取得して表示しよう。\n",
    "\"\"\"\n",
    "favorit_kind = input(\"知りたいことを色・食べ物・作家のうちから選んでください\")\n",
    "key = f\"好きな{favorit_kind}\"\n",
    "favorits_list = {\"好きな色\": \"青\",\n",
    "                \"好きな食べ物\": \"苺\",\n",
    "                \"好きな作家\": \"志賀直哉\"\n",
    "                }\n",
    "favorit_thing = favorits_list[key]\n",
    "print(f\"私は{favorit_thing}が好きです。\")"
   ]
  },
  {
   "cell_type": "code",
   "execution_count": 10,
   "id": "df31576d",
   "metadata": {},
   "outputs": [
    {
     "name": "stdout",
     "output_type": "stream",
     "text": [
      "{'ベートーベン': '英雄', 'バッハ': 'マタイ受難曲', 'ブラームス': 'ドイツレクイエム'}\n"
     ]
    }
   ],
   "source": [
    "\"\"\"5. あなたが好きなミュージシャンを辞書のキーに入れ、そのバリューとしてそのミュージシャンの曲をリストで持たせよう。\"\"\"\n",
    "music_list = {\"ベートーベン\": \"英雄\",\n",
    "            \"バッハ\": \"マタイ受難曲\",\n",
    "            \"ブラームス\": \"ドイツレクイエム\"}\n",
    "print(music_list)"
   ]
  },
  {
   "cell_type": "code",
   "execution_count": null,
   "id": "97e28b38",
   "metadata": {},
   "outputs": [],
   "source": [
    "\"\"\"6. リスト・タプル・辞書はPythonのコンテナの一部です。Pythonのset（コンテナ型の一つ）について調べよう。setは何に使えるだろう？\"\"\""
   ]
  }
 ],
 "metadata": {
  "kernelspec": {
   "display_name": "Python (独学プログラマー用)",
   "language": "python",
   "name": "dokugaku-env"
  },
  "language_info": {
   "codemirror_mode": {
    "name": "ipython",
    "version": 3
   },
   "file_extension": ".py",
   "mimetype": "text/x-python",
   "name": "python",
   "nbconvert_exporter": "python",
   "pygments_lexer": "ipython3",
   "version": "3.12.4"
  }
 },
 "nbformat": 4,
 "nbformat_minor": 5
}
