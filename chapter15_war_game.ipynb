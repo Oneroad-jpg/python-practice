{
 "cells": [
  {
   "cell_type": "code",
   "execution_count": null,
   "id": "06139dc2",
   "metadata": {},
   "outputs": [
    {
     "name": "stdout",
     "output_type": "stream",
     "text": [
      "A\n"
     ]
    }
   ],
   "source": [
    "\"\"\"メインタスク: 第15章 実装フェーズ① - \n",
    "Cardクラスを作成する\n",
    "\"\"\"\n",
    "\"\"\"\n",
    "サブタスク1: __init__メソッドを実装し、カードを生成する\n",
    "学習目標: 設計図通りに、suit（マーク）とrank（数字）の\n",
    "情報を持つCardオブジェクトを作成できるようになる。\n",
    "\"\"\"\n",
    "# クラスを作成\n",
    "class Card:\n",
    "    # 初期設定\n",
    "    def __init__(self, suit, rank):\n",
    "        # インスタンス変数を作成\n",
    "        self.suit = suit\n",
    "        self.rank = rank\n",
    "\n",
    "\n",
    "\"\"\"例えば、「スペード」の「A」を持つカードのインスタ-ンスを \n",
    "card1 という名前で作ってみてください。\n",
    "そして、card1.suit や card1.rank のようにして、\n",
    "その中身が正しくセットされているか確認してみましょう。\"\"\"\n",
    "\n",
    "# インスタンスを作成\n",
    "card1 = Card(\"スペード\", \"A\")\n",
    "print(card1.suit)\n",
    "print(card1.rank)\n"
   ]
  },
  {
   "cell_type": "code",
   "execution_count": 12,
   "id": "166db03f",
   "metadata": {},
   "outputs": [
    {
     "name": "stdout",
     "output_type": "stream",
     "text": [
      "スペード の A\n"
     ]
    }
   ],
   "source": [
    "\"\"\"Cardクラスに__repr__メソッドを追加\"\"\"\n",
    "# クラスを作成\n",
    "class Card:\n",
    "    # 初期設定\n",
    "    def __init__(self, suit, rank):\n",
    "        # インスタンス変数を作成\n",
    "        self.suit = suit\n",
    "        self.rank = rank\n",
    "    # インスタンス変数の要素を表示\n",
    "    def __repr__(self):\n",
    "        return f\"{self.suit} の {self.rank}\"\n",
    "# インスタンスを作成    \n",
    "card1 = Card(\"スペード\", \"A\")\n",
    "# 要素を表示\n",
    "print(card1)"
   ]
  },
  {
   "cell_type": "code",
   "execution_count": null,
   "id": "77f4f9c8",
   "metadata": {},
   "outputs": [],
   "source": [
    "\"\"\"Cardクラスの中に、\n",
    "ランクの文字列とその強さを紐づける\n",
    "「対応表」のようなものを作る\"\"\"\n",
    "if self.rank ==\"A\":\n",
    "    self.rank = 14\n",
    "else:\n",
    "    self.rank = int(self.rank)"
   ]
  },
  {
   "cell_type": "code",
   "execution_count": 13,
   "id": "336160ac",
   "metadata": {},
   "outputs": [
    {
     "name": "stdout",
     "output_type": "stream",
     "text": [
      "スペード の A > ハート の K は True です。\n",
      "ハート の K > スペード の A は False です。\n"
     ]
    }
   ],
   "source": [
    "\"\"\"Cardクラスの中に、\n",
    "ランクの文字列とその強さを紐づける\n",
    "「対応表」のようなものを作る\"\"\"\n",
    "# クラスを作成\n",
    "class Card:\n",
    "    # ランクの文字列と強さの対応表\n",
    "    card_values = {\"A\": 14, \"K\": 13, \"Q\": 12, \"J\": 11,\n",
    "                  \"10\": 10, \"9\": 9, \"8\": 8, \"7\": 7,\n",
    "                   \"6\": 6, \"5\": 5, \"4\": 4, \"3\": 3, \"2\": 2 }\n",
    "    # 初期設定\n",
    "    def __init__(self, suit, rank):\n",
    "        # インスタンス変数を作成\n",
    "        self.suit = suit\n",
    "        self.rank = rank\n",
    "        # 対応表でランクから強さを取得\n",
    "        self.value = Card.card_values[rank]\n",
    "    \n",
    "    # カードの情報を表示\n",
    "    def __repr__(self):\n",
    "        return f\"{self.suit} の {self.rank}\"\n",
    "    # カードの強さ（数字の大きさ）を比較__gt__・・grater than の略\n",
    "    def __gt__(self, other):\n",
    "        return self.value > other.value\n",
    "\"\"\"テストコード\"\"\"\n",
    "# 2枚のカードを作成\n",
    "card_ace = Card(\"スペード\", \"A\")\n",
    "card_king =Card(\"ハート\", \"K\")\n",
    "# カードの強さを比較\n",
    "print(f\"{card_ace} > {card_king} は {card_ace > card_king} です。\")\n",
    "print(f\"{card_king} > {card_ace} は {card_king > card_ace} です。\")"
   ]
  },
  {
   "cell_type": "code",
   "execution_count": null,
   "id": "f559feb7",
   "metadata": {},
   "outputs": [],
   "source": []
  }
 ],
 "metadata": {
  "kernelspec": {
   "display_name": "Python (独学プログラマー用)",
   "language": "python",
   "name": "dokugaku-env"
  },
  "language_info": {
   "codemirror_mode": {
    "name": "ipython",
    "version": 3
   },
   "file_extension": ".py",
   "mimetype": "text/x-python",
   "name": "python",
   "nbconvert_exporter": "python",
   "pygments_lexer": "ipython3",
   "version": "3.12.4"
  }
 },
 "nbformat": 4,
 "nbformat_minor": 5
}
