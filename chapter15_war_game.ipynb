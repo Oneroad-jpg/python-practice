{
 "cells": [
  {
   "cell_type": "code",
   "execution_count": null,
   "id": "06139dc2",
   "metadata": {},
   "outputs": [
    {
     "name": "stdout",
     "output_type": "stream",
     "text": [
      "A\n"
     ]
    }
   ],
   "source": [
    "\"\"\"メインタスク: 第15章 実装フェーズ① - \n",
    "Cardクラスを作成する\n",
    "\"\"\"\n",
    "\"\"\"\n",
    "サブタスク1: __init__メソッドを実装し、カードを生成する\n",
    "学習目標: 設計図通りに、suit（マーク）とrank（数字）の\n",
    "情報を持つCardオブジェクトを作成できるようになる。\n",
    "\"\"\"\n",
    "# クラスを作成\n",
    "class Card:\n",
    "    # 初期設定\n",
    "    def __init__(self, suit, rank):\n",
    "        # インスタンス変数を作成\n",
    "        self.suit = suit\n",
    "        self.rank = rank\n",
    "\n",
    "\n",
    "\"\"\"例えば、「スペード」の「A」を持つカードのインスタ-ンスを \n",
    "card1 という名前で作ってみてください。\n",
    "そして、card1.suit や card1.rank のようにして、\n",
    "その中身が正しくセットされているか確認してみましょう。\"\"\"\n",
    "\n",
    "# インスタンスを作成\n",
    "card1 = Card(\"スペード\", \"A\")\n",
    "print(card1.suit)\n",
    "print(card1.rank)\n"
   ]
  },
  {
   "cell_type": "code",
   "execution_count": 12,
   "id": "166db03f",
   "metadata": {},
   "outputs": [
    {
     "name": "stdout",
     "output_type": "stream",
     "text": [
      "スペード の A\n"
     ]
    }
   ],
   "source": [
    "\"\"\"Cardクラスに__repr__メソッドを追加\"\"\"\n",
    "# クラスを作成\n",
    "class Card:\n",
    "    # 初期設定\n",
    "    def __init__(self, suit, rank):\n",
    "        # インスタンス変数を作成\n",
    "        self.suit = suit\n",
    "        self.rank = rank\n",
    "    # インスタンス変数の要素を表示\n",
    "    def __repr__(self):\n",
    "        return f\"{self.suit} の {self.rank}\"\n",
    "# インスタンスを作成    \n",
    "card1 = Card(\"スペード\", \"A\")\n",
    "# 要素を表示\n",
    "print(card1)"
   ]
  },
  {
   "cell_type": "code",
   "execution_count": null,
   "id": "77f4f9c8",
   "metadata": {},
   "outputs": [],
   "source": [
    "\"\"\"Cardクラスの中に、\n",
    "ランクの文字列とその強さを紐づける\n",
    "「対応表」のようなものを作る\"\"\"\n",
    "if self.rank ==\"A\":\n",
    "    self.rank = 14\n",
    "else:\n",
    "    self.rank = int(self.rank)"
   ]
  },
  {
   "cell_type": "code",
   "execution_count": 2,
   "id": "336160ac",
   "metadata": {},
   "outputs": [
    {
     "name": "stdout",
     "output_type": "stream",
     "text": [
      "スペード の A > ハート の K は True です。\n",
      "ハート の K > スペード の A は False です。\n"
     ]
    }
   ],
   "source": [
    "\"\"\"Cardクラスの中に、\n",
    "ランクの文字列とその強さを紐づける\n",
    "「対応表」のようなものを作る\"\"\"\n",
    "# クラスを作成\n",
    "class Card:\n",
    "    # ランクの文字列と強さの対応表\n",
    "    card_values = {\"A\": 14, \"K\": 13, \"Q\": 12, \"J\": 11,\n",
    "                  \"10\": 10, \"9\": 9, \"8\": 8, \"7\": 7,\n",
    "                   \"6\": 6, \"5\": 5, \"4\": 4, \"3\": 3, \"2\": 2 }\n",
    "    # 初期設定\n",
    "    def __init__(self, suit, rank):\n",
    "        # インスタンス変数を作成\n",
    "        self.suit = suit\n",
    "        self.rank = rank\n",
    "        # 対応表でランクから強さを取得\n",
    "        self.value = Card.card_values[rank]\n",
    "    \n",
    "    # カードの情報を表示\n",
    "    def __repr__(self):\n",
    "        return f\"{self.suit} の {self.rank}\"\n",
    "    # カードの強さ（数字の大きさ）を比較__gt__・・grater than の略\n",
    "    def __gt__(self, other):\n",
    "        return self.value > other.value\n",
    "\"\"\"テストコード\"\"\"\n",
    "# 2枚のカードを作成\n",
    "card_ace = Card(\"スペード\", \"A\")\n",
    "card_king =Card(\"ハート\", \"K\")\n",
    "# カードの強さを比較\n",
    "print(f\"{card_ace} > {card_king} は {card_ace > card_king} です。\")\n",
    "print(f\"{card_king} > {card_ace} は {card_king > card_ace} です。\")"
   ]
  },
  {
   "cell_type": "code",
   "execution_count": null,
   "id": "f559feb7",
   "metadata": {},
   "outputs": [],
   "source": [
    "\"\"\"インタスク: 第15章 実装フェーズ② - Deckクラスを作成する\n",
    "__init__メソッドで52枚のカードを自動生成する\n",
    "ループ（特に二重ループ）を使い、\n",
    "52種類すべてのCardオブジェクトを効率的に作成し、\n",
    "リストに格納する技術を学ぶ。\"\"\"\n",
    "# クラスを作成\n",
    "class Deck:\n",
    "    #　Deckの辞書を作成\n",
    "    deck_lists = {}\n",
    "    # 初期設定\n",
    "    def __init__(self, suit, rank):\n",
    "        # インスタンス変数を作成\n",
    "        self.suit = suit\n",
    "        self.rank = rank\n",
    "        # 外側のループ・・suitなのでダイヤ・ハート・スペード・クローバー\n",
    "        for i\n",
    "            # 内側のループ・・rankなので２から９とA・K・Q・J\n",
    "            # 内側のループは０から１２\n",
    "            for j\n",
    "                # ２から９までを作成\n",
    "                # A・K・Q・J を作成 \n",
    "            # ループでできたものをdeck_listsに格納\n",
    "            deck_lists.append(self.suit: self.rank)"
   ]
  },
  {
   "cell_type": "code",
   "execution_count": 19,
   "id": "4c672211",
   "metadata": {},
   "outputs": [],
   "source": [
    "# import用のセル\n",
    "import random"
   ]
  },
  {
   "cell_type": "code",
   "execution_count": 20,
   "id": "1ff69545",
   "metadata": {},
   "outputs": [
    {
     "name": "stdout",
     "output_type": "stream",
     "text": [
      "スペード の A > ハート の K は True です。\n",
      "ハート の K > スペード の A は False です。\n"
     ]
    }
   ],
   "source": [
    "\"\"\"Cardクラスの中に、\n",
    "ランクの文字列とその強さを紐づける\n",
    "「対応表」のようなものを作る\"\"\"\n",
    "# クラスを作成\n",
    "class Card:\n",
    "    # ランクの文字列と強さの対応表\n",
    "    card_values = {\"A\": 14, \"K\": 13, \"Q\": 12, \"J\": 11,\n",
    "                  \"10\": 10, \"9\": 9, \"8\": 8, \"7\": 7,\n",
    "                   \"6\": 6, \"5\": 5, \"4\": 4, \"3\": 3, \"2\": 2 }\n",
    "    # 初期設定\n",
    "    def __init__(self, suit, rank):\n",
    "        # インスタンス変数を作成\n",
    "        self.suit = suit\n",
    "        self.rank = rank\n",
    "        # 対応表でランクから強さを取得\n",
    "        self.value = Card.card_values[rank]\n",
    "    \n",
    "    # カードの情報を表示\n",
    "    def __repr__(self):\n",
    "        return f\"{self.suit} の {self.rank}\"\n",
    "    # カードの強さ（数字の大きさ）を比較__gt__・・grater than の略\n",
    "    def __gt__(self, other):\n",
    "        return self.value > other.value\n",
    "\"\"\"テストコード\"\"\"\n",
    "# 2枚のカードを作成\n",
    "card_ace = Card(\"スペード\", \"A\")\n",
    "card_king =Card(\"ハート\", \"K\")\n",
    "# カードの強さを比較\n",
    "print(f\"{card_ace} > {card_king} は {card_ace > card_king} です。\")\n",
    "print(f\"{card_king} > {card_ace} は {card_king > card_ace} です。\")"
   ]
  },
  {
   "cell_type": "code",
   "execution_count": 21,
   "id": "2619760e",
   "metadata": {},
   "outputs": [],
   "source": [
    "# Deckクラスを作成\n",
    "class Deck:\n",
    "    #　初期設定\n",
    "    def __init__(self):\n",
    "        # インスタンス変数として空のカードリストを用意\n",
    "        self.cards = []\n",
    "        # カードの材料であるスートとランクのリスト\n",
    "        suits = [\"スペード\", \"ハート\", \"ダイヤ\", \"クラブ\"]\n",
    "        ranks = [\"A\", \"K\", \"Q\", \"J\", \"10\", \"9\", \"8\", \"7\", \"6\", \"5\", \"4\", \"3\", \"2\",]\n",
    "        # ２重ループで全種類の組み合わせでカードを生成\n",
    "        for suit in suits:\n",
    "            for rank in ranks:\n",
    "                # カードオブジェクトを生成し、リストに追加\n",
    "                self.cards.append(Card(suit, rank))\n",
    "# デッキを１つ作成\n",
    "#my_deck = Deck()\n",
    "# デッキに入っているカードの枚数を表示\n",
    "#print(f\"デッキの枚数：{len(my_deck.cards)}\")\n",
    "\n",
    "    def shuffle(self):\n",
    "        random.shuffle(self.cards)\n",
    "        # ヒント: `random`という機能の中にある`shuffle`という命令を使います。\n",
    "        #       シャッフルしたいリスト（今回は self.cards）をその命令に渡します。\n",
    "    pass\n",
    "# デッキを作成\n",
    "#my_deck = Deck()\n",
    "#print(\"\\n【シャッフル前】\")\n",
    "#print(my_deck.cards[:5])# 最初の５枚\n",
    "# デッキをシャフル\n",
    "#my_deck.shuffle()\n",
    "#print(\"\\n 【シャッフル後】\")\n",
    "#print(my_deck.cards[:5])# 最初の５枚\n",
    "\n",
    "    def deal_card(self):\n",
    "        # 【ここにコードを書いてください】\n",
    "        # ヒント: `self.cards` というリストから、\n",
    "        #       一番最後（一番上）の要素を1つ取り出して、\n",
    "        #       それを返す（return）します。\n",
    "        #\n",
    "        #       リストから要素を取り出し、かつその要素をリストから削除する、\n",
    "        #       という2つの動作を同時に行ってくれる便利なメソッドがあります。\n",
    "        return self.cards.pop()\n",
    "        "
   ]
  },
  {
   "cell_type": "code",
   "execution_count": 22,
   "id": "35755604",
   "metadata": {},
   "outputs": [
    {
     "name": "stdout",
     "output_type": "stream",
     "text": [
      "配る前のデッキの枚数：52\n",
      "配られたカード：クラブ の 2\n",
      "配った後のデッキの枚数：51\n"
     ]
    }
   ],
   "source": [
    "\"\"\"テストコード\"\"\"\n",
    "# デッキを作成\n",
    "my_deck = Deck()\n",
    "print(f\"配る前のデッキの枚数：{len(my_deck.cards)}\")\n",
    "# カードを１枚配ってもらう\n",
    "one_card = my_deck.deal_card()\n",
    "print(f\"配られたカード：{one_card}\")\n",
    "# 配った後のデッキの枚数を確認\n",
    "print(f\"配った後のデッキの枚数：{len(my_deck.cards)}\")"
   ]
  },
  {
   "cell_type": "code",
   "execution_count": 23,
   "id": "f2705e18",
   "metadata": {},
   "outputs": [],
   "source": [
    "class Player:\n",
    "    def __init__(self, name):\n",
    "        # 【ここにコードを書いてください】\n",
    "        \n",
    "        # ヒント1: 外から受け取った引数`name`を、\n",
    "        #         インスタンス変数`self.name`に代入します。\n",
    "\n",
    "        # ヒント2: プレイヤーの手札（カードリスト）を管理するための\n",
    "        #         空のリスト[]を、インスタンス変数`self.hand`に代入します。\n",
    "        \n",
    "        self.name = name\n",
    "        self.hand = []"
   ]
  },
  {
   "cell_type": "code",
   "execution_count": 25,
   "id": "9cf2fe82",
   "metadata": {},
   "outputs": [
    {
     "name": "stdout",
     "output_type": "stream",
     "text": [
      "プレイヤーの名前：ロード\n",
      "最初の手札：[]\n",
      "最初の手札の枚数：0\n"
     ]
    }
   ],
   "source": [
    "\"\"\"テストコード\"\"\"\n",
    "player1 = Player(\"ロード\")\n",
    "print(f\"プレイヤーの名前：{player1.name}\")\n",
    "print(f\"最初の手札：{player1.hand}\")\n",
    "print(f\"最初の手札の枚数：{len(player1.hand)}\")"
   ]
  },
  {
   "cell_type": "code",
   "execution_count": 26,
   "id": "83391b20",
   "metadata": {},
   "outputs": [],
   "source": [
    "\"\"\"Playerクラスの定義\"\"\"\n",
    "# クラスを作成\n",
    "class Player:\n",
    "    # 初期設定\n",
    "    def __init__(self, name):\n",
    "        # インスタンス変数と手持ちのカードリストを作成\n",
    "        self.name = name\n",
    "        self.hand = []\n",
    "    def add_cards(self, new_cards):\n",
    "        # 【ここにコードを書いてください】\n",
    "        # ヒント: new_cards は、[card1, card2] のようなカードのリストです。\n",
    "        #       このリストの中身を、まるごと self.hand リストに追加します。\n",
    "        #       リストにもう一つのリストの中身をすべて追加するメソッドがありましたね。\n",
    "        self.hand.extend(new_cards)\n",
    "\n",
    "    def check_hand_size(self):\n",
    "        # 【ここにコードを書いてください】\n",
    "        # ヒント: self.hand リストに、現在何枚のカードが入っているか（リストの長さ）を\n",
    "        #       調べて、その数を返します (return)。\n",
    "        return len(self.hand)"
   ]
  },
  {
   "cell_type": "code",
   "execution_count": 27,
   "id": "e9ae7b4b",
   "metadata": {},
   "outputs": [
    {
     "name": "stdout",
     "output_type": "stream",
     "text": [
      "カードを追加前の手札の枚数0\n",
      "追加したカード[スペード の A, ハート の K]\n",
      "カード追加後の手札：[スペード の A, ハート の K]\n",
      "カード追加後の手札の枚数：2\n"
     ]
    }
   ],
   "source": [
    "\"\"\"プレイヤーとテスト用のカードを作成\"\"\"\n",
    "player1 = Player(\"ロード\")\n",
    "win_cards = [Card(\"スペード\", \"A\"), Card(\"ハート\", \"K\")]\n",
    "print(f\"カードを追加前の手札の枚数{player1.check_hand_size()}\")\n",
    "\"\"\"勝ったカードを手札に加える\"\"\"\n",
    "player1.add_cards(win_cards)\n",
    "print(f\"追加したカード{win_cards}\")\n",
    "\"\"\"追加後の手札と枚数を確認\"\"\"\n",
    "print(f\"カード追加後の手札：{player1.hand}\")\n",
    "print(f\"カード追加後の手札の枚数：{player1.check_hand_size()}\")"
   ]
  },
  {
   "cell_type": "code",
   "execution_count": null,
   "id": "41722227",
   "metadata": {},
   "outputs": [],
   "source": [
    "class Player:\n",
    "    # ... (__init__, add_cards, check_hand_size は完成済み) ...\n",
    "\n",
    "    def play_card(self):\n",
    "        # 【ここにコードを書いてください】\n",
    "        # ヒント: Deckクラスの`deal_card`メソッドと、やることは全く同じです。\n",
    "        #       `self.hand`リストから一番最後のカードを1枚取り出し(pop)、\n",
    "        #       それを返します(return)。\n",
    "        return self.hand.pop()"
   ]
  },
  {
   "cell_type": "code",
   "execution_count": null,
   "id": "149c82bc",
   "metadata": {},
   "outputs": [],
   "source": [
    "# Gameクラスを作成\n",
    "class Game:\n",
    "    # 初期設定のコンストラクタ\n",
    "    def __init__(self):\n",
    "        # ヒント: \n",
    "        # プレイヤーを2人作成します。名前は \"プレイヤー1\", \"プレイヤー2\" などにしましょう。\n",
    "        # 作成したPlayerオブジェクトは、それぞれ self.player1, self.player2 という\n",
    "        # インスタンス変数に保存します。\n",
    "        #self.player1 = \"プレイヤー１\"\n",
    "        #self.player2 = \"プレイヤ＝２\"\n",
    "        self.player1 = Player(\"プレイヤ−１\")\n",
    "        self.player2 = Player(\"プレイヤー２\")\n",
    "        # ヒント: \n",
    "        # Deckオブジェクトを1つ作成し、self.deck という\n",
    "        # インスタンス変数に保存します。\n",
    "        self.deck =Deck()\n",
    "        # ヒント:\n",
    "        # 作成したデッキ（self.deck）の shuffle() メソッドを呼び出して、\n",
    "        # カードをシャッフルします。\n",
    "        #def shuffle_deck(self):\n",
    "        #   random.shuffle_deck(self.deck)\n",
    "        # shuffle()を呼び出すだけ？\n",
    "        self.deck.shuffle()\n",
    "\n",
    "        # ヒント:\n",
    "        # forループを26回繰り返し、\n",
    "        # `self.deck`からカードを1枚配り(`deal_card`)、\n",
    "        # それを`self.player1`の手札に加えます(`add_cards`)。\n",
    "        #\n",
    "        # もう一度同じループを26回繰り返し、\n",
    "        # 残りのカードを`self.player2`に渡します。\n",
    "        for i from 1 in 52:\n",
    "            if i from 1 in 26:\n",
    "                self.deck.deal_card()\n",
    "                self.player1.add_card()\n",
    "            else:\n",
    "                self.deck.deal_card()\n",
    "                self.player2.add_card()\n",
    "                \n",
    "    "
   ]
  },
  {
   "cell_type": "code",
   "execution_count": 3,
   "id": "9f0de629",
   "metadata": {},
   "outputs": [],
   "source": [
    "# Gameクラスを作成\n",
    "class Game:\n",
    "    # 初期設定のコンストラクタ\n",
    "    def __init__(self):\n",
    "        # player２人作る\n",
    "        self.player1 = Player(\"プレイヤー１\")\n",
    "        self.player2 = Player(\"プレイヤー２\")\n",
    "        # Deckを１つ作る\n",
    "        self.deck = Deck()\n",
    "        # 作ったself.deckをshuffle\n",
    "        self.deck.shuffle()\n",
    "        # ループを２６回づつ回してカードをプレイヤ１とプレイヤー２に配る\n",
    "        for _ in range(26):\n",
    "            # デッキからカードを１枚引いて、カード変数に保存\n",
    "            card = self.deck.deal_card()\n",
    "            # 引いたカードをプレイヤー１に渡す（リストに追加）\n",
    "            self.player1.add_cards([card])\n",
    "        for _ in range(26):\n",
    "            # デッキから１枚カードを引いて、カード変数に保存\n",
    "            card = self.deck.deal_card()\n",
    "            # プレイヤー２にカードを渡す\n",
    "            self.player2.add_cards([card])"
   ]
  },
  {
   "cell_type": "code",
   "execution_count": 4,
   "id": "913167c1",
   "metadata": {},
   "outputs": [
    {
     "ename": "NameError",
     "evalue": "name 'Player' is not defined",
     "output_type": "error",
     "traceback": [
      "\u001b[31m---------------------------------------------------------------------------\u001b[39m",
      "\u001b[31mNameError\u001b[39m                                 Traceback (most recent call last)",
      "\u001b[36mCell\u001b[39m\u001b[36m \u001b[39m\u001b[32mIn[4]\u001b[39m\u001b[32m, line 3\u001b[39m\n\u001b[32m      1\u001b[39m \u001b[33;03m\"\"\"テストコード\"\"\"\u001b[39;00m\n\u001b[32m      2\u001b[39m \u001b[38;5;66;03m# ゲームを開始（準備完了）\u001b[39;00m\n\u001b[32m----> \u001b[39m\u001b[32m3\u001b[39m game = \u001b[43mGame\u001b[49m\u001b[43m(\u001b[49m\u001b[43m)\u001b[49m\n\u001b[32m      5\u001b[39m \u001b[38;5;66;03m# 各プレイヤーの手札の枚数を表示\u001b[39;00m\n\u001b[32m      6\u001b[39m \u001b[38;5;28mprint\u001b[39m(\u001b[33mf\u001b[39m\u001b[33m\"\u001b[39m\u001b[38;5;132;01m{\u001b[39;00mgame.player1.name\u001b[38;5;132;01m}\u001b[39;00m\u001b[33m の手札の枚数：\u001b[39m\u001b[38;5;132;01m{\u001b[39;00mgame.player1.check_hand_size()\u001b[38;5;132;01m}\u001b[39;00m\u001b[33m\"\u001b[39m)\n",
      "\u001b[36mCell\u001b[39m\u001b[36m \u001b[39m\u001b[32mIn[3]\u001b[39m\u001b[32m, line 6\u001b[39m, in \u001b[36mGame.__init__\u001b[39m\u001b[34m(self)\u001b[39m\n\u001b[32m      4\u001b[39m \u001b[38;5;28;01mdef\u001b[39;00m\u001b[38;5;250m \u001b[39m\u001b[34m__init__\u001b[39m(\u001b[38;5;28mself\u001b[39m):\n\u001b[32m      5\u001b[39m     \u001b[38;5;66;03m# player２人作る\u001b[39;00m\n\u001b[32m----> \u001b[39m\u001b[32m6\u001b[39m     \u001b[38;5;28mself\u001b[39m.player1 = \u001b[43mPlayer\u001b[49m(\u001b[33m\"\u001b[39m\u001b[33mプレイヤー１\u001b[39m\u001b[33m\"\u001b[39m)\n\u001b[32m      7\u001b[39m     \u001b[38;5;28mself\u001b[39m.player2 = Player(\u001b[33m\"\u001b[39m\u001b[33mプレイヤー２\u001b[39m\u001b[33m\"\u001b[39m)\n\u001b[32m      8\u001b[39m     \u001b[38;5;66;03m# Deckを１つ作る\u001b[39;00m\n",
      "\u001b[31mNameError\u001b[39m: name 'Player' is not defined"
     ]
    }
   ],
   "source": [
    "\"\"\"テストコード\"\"\"\n",
    "# ゲームを開始（準備完了）\n",
    "game = Game()\n",
    "\n",
    "# 各プレイヤーの手札の枚数を表示\n",
    "print(f\"{game.player1.name} の手札の枚数：{game.player1.check_hand_size()}\")\n",
    "print(f\"{game.player2.name} の手札の枚数：{game.player2.check_hand_size()}\")\n",
    "# デッキの残り枚数を表示\n",
    "print(f\"デッキの残り枚数：{len(game.deck.cards)}\")"
   ]
  },
  {
   "cell_type": "code",
   "execution_count": null,
   "id": "2beb538a",
   "metadata": {},
   "outputs": [
    {
     "ename": "SyntaxError",
     "evalue": "expected ':' (1608341217.py, line 6)",
     "output_type": "error",
     "traceback": [
      "  \u001b[36mCell\u001b[39m\u001b[36m \u001b[39m\u001b[32mIn[6]\u001b[39m\u001b[32m, line 6\u001b[39m\n\u001b[31m    \u001b[39m\u001b[31mwhile check_hand_size(player1) >= 0 and check_hand_size(player2) >= 0\u001b[39m\n                                                                         ^\n\u001b[31mSyntaxError\u001b[39m\u001b[31m:\u001b[39m expected ':'\n"
     ]
    }
   ],
   "source": [
    "class Game:\n",
    "    # ... (__init__メソッドは完成済み) ...\n",
    "\n",
    "    def play_game(self):\n",
    "        # 【ここにコードを書いてください】\n",
    "        while check_hand_size(player1) >= 0 and check_hand_size(player2) >= 0\n",
    "        # ヒント: \n",
    "        # `while`ループを使い、「プレイヤー1の手札が1枚以上あり、\n",
    "        # かつ、プレイヤー2の手札が1枚以上ある」間、\n",
    "        # ループが続くように条件式を組み立てます。\n",
    "        #\n",
    "        # 手札の枚数は、私たちが作った`check_hand_size()`メソッドで確認できます。\n",
    "        # 「かつ」は、Pythonでは`and`と書くことを思い出しましょう。\n",
    "        \n",
    "        pass  # ← この行を消して、コードを書いてみてください\n",
    "    def play_game(self):\n",
    "        # ゲーム開始の宣言\n",
    "        print(\"War Gameを始めます\")\n",
    "        # whildループとcheck_hand_size()メソッドを利用\n",
    "        while self.player1.check_hand_size() > 0 and self.player2.check_hand_size() > 0:\n",
    "            # ヒント:\n",
    "            # print()関数とf-stringを使って、現在の各プレイヤーの手札の枚数を\n",
    "            # 表示します。\n",
    "            # 例: \"プレイヤー1の手札: 26枚 vs プレイヤー2の手札: 26枚\"\n",
    "            #print(f\"プレイヤー１の手札：{game.player1.check_hand_size()} vs プレイヤー２の手札：{game.player2.check_hand_size()}\")\n",
    "            print(f\"プレイヤー１の手札：{self.player1.check_hand_size()} vs プレイヤー２の手札：{self.player2.check_hand_size()}\")\n",
    "            # ヒント:\n",
    "            # プレイヤー1が手札からカードを1枚出します(`play_card`)。\n",
    "            # 出したカードを、`p1_card`のような変数に保存します。\n",
    "            #p1_card = self.player1.add_cards([card])\n",
    "            p1_card = self.player1.play_card()\n",
    "            # 同じように、プレイヤー2もカードを1枚出し、\n",
    "            # `p2_card`のような変数に保存します。\n",
    "            #p2_card = self.player2.add_cards([card])\n",
    "            p2_card = self.player2.play_card()\n",
    "            #print(f\"プレイヤー１が出したカード：{p1_card(suit)} の {p1_card(rank)}\")\n",
    "            #print(f\"プレイヤー２が出したカード：{p2_card(suit)} の {p2_card(rank)}\")\n",
    "            print(f\"プレイヤー１が出したカード：{p1_card}\")\n",
    "            print(f\"プレイヤー２が出したカード：{p2_card}\")"
   ]
  },
  {
   "cell_type": "code",
   "execution_count": null,
   "id": "0d2159fc",
   "metadata": {},
   "outputs": [],
   "source": [
    "# ... (出されたカードを表示するprint文の下に追加) ...\n",
    "\n",
    "            # ヒント:\n",
    "            # `if/elif/else`文を使って、カードの勝敗を判定します。\n",
    "            #\n",
    "            # 1. もし`p1_card`が`p2_card`より強ければ(`>`):\n",
    "            #    - 「このラウンドは プレイヤー1 の勝ちです」のように表示します。\n",
    "            #    - `player1`の`add_cards`メソッドを使い、`p1_card`と`p2_card`の\n",
    "            #      両方を手札に加えます。\n",
    "            if p1_card > p2_card:\n",
    "            #    print(\"このラウンドは　プレイヤ１の　勝ちです。\")\n",
    "            #    [p1_card] = add.card([player2])                \n",
    "                print(f\"このラウンドは {self.player1.name} の勝ちです\")\n",
    "                #p1_card.add.cards([p1_card, p2_card])\n",
    "                #self.player1.add.cards([p1_card, p2_card])\n",
    "                self.player1.add_cards([p1_card, p2_card])\n",
    "            # 2. もし`p2_card`が`p1_card`より強ければ(`>`):\n",
    "            #    - 「このラウンドは プレイヤー2 の勝ちです」のように表示します。\n",
    "            #    - `player2`の`add_cards`メソッドを使い、2枚のカードを手札に加えます。\n",
    "            elif p2_card > p1_card:\n",
    "                #print(\"このラウンドは　プレイヤー２の　勝ちです。\")\n",
    "                print(f\"このラウンドは {self.player2.name} の勝ちです。\")\n",
    "                #[p2_card] = add_cards([player1_card])\n",
    "                #p2_card.add_cards([p1_card, p2_card])\n",
    "                self.player2.add_cards([p1_card, p2_card])\n",
    "            # 3. それ以外の場合（引き分け）:\n",
    "            #    - 「引き分けです」と表示します。（引き分けの特別ルールは、また別の機会に実装しましょう）\n",
    "            else:\n",
    "                print(\"引き分けです。\")\n",
    "        \n",
    "            # ※ add_cardsに渡すカードは、[p1_card, p2_card]のようにリストに\n",
    "            #    して渡すことを思い出しましょう。"
   ]
  }
 ],
 "metadata": {
  "kernelspec": {
   "display_name": "Python (独学プログラマー用)",
   "language": "python",
   "name": "dokugaku-env"
  },
  "language_info": {
   "codemirror_mode": {
    "name": "ipython",
    "version": 3
   },
   "file_extension": ".py",
   "mimetype": "text/x-python",
   "name": "python",
   "nbconvert_exporter": "python",
   "pygments_lexer": "ipython3",
   "version": "3.12.4"
  }
 },
 "nbformat": 4,
 "nbformat_minor": 5
}
