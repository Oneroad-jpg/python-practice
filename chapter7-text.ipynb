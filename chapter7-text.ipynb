{
 "cells": [
  {
   "cell_type": "code",
   "execution_count": null,
   "id": "cb71bef1",
   "metadata": {},
   "outputs": [
    {
     "name": "stdout",
     "output_type": "stream",
     "text": [
      "T\n",
      "e\n",
      "d\n"
     ]
    }
   ],
   "source": [
    "\"\"\"forループの使い方\"\"\"\n",
    "# 変数に文字列を格納\n",
    "name = \"Ted\"\n",
    "# for 変数　in イテラブル\n",
    "for character in name:\n",
    "    # 取り出した要素を表示\n",
    "    print(character)"
   ]
  },
  {
   "cell_type": "code",
   "execution_count": 2,
   "id": "0074753d",
   "metadata": {},
   "outputs": [
    {
     "name": "stdout",
     "output_type": "stream",
     "text": [
      "Got\n",
      "Narcos\n",
      "Vice\n"
     ]
    }
   ],
   "source": [
    "\"\"\"forループでリストの要素を取り出す\"\"\"\n",
    "# データをリストに格納\n",
    "shows = [\"Got\", \"Narcos\", \"Vice\"]\n",
    "# for 要素を入れる変数　in リスト\n",
    "for show in shows:\n",
    "    # 変数を表示\n",
    "    print(show)"
   ]
  },
  {
   "cell_type": "code",
   "execution_count": 3,
   "id": "f3c9d40e",
   "metadata": {},
   "outputs": [
    {
     "name": "stdout",
     "output_type": "stream",
     "text": [
      "A.Development\n",
      "Friends\n",
      "Always Sunny\n"
     ]
    }
   ],
   "source": [
    "\"\"\"forループでタプルの要素を取り出す\"\"\"\n",
    "# タプルを変数に格納\n",
    "coms = (\"A.Development\", \"Friends\", \"Always Sunny\")\n",
    "# for 要素を入れる変数　in タプル\n",
    "for show in coms:# :よく忘れる\n",
    "    # 取り出した要素を表示\n",
    "    print(show)"
   ]
  },
  {
   "cell_type": "code",
   "execution_count": 4,
   "id": "111eae24",
   "metadata": {},
   "outputs": [
    {
     "name": "stdout",
     "output_type": "stream",
     "text": [
      "G.Bluth II\n",
      "Baraney\n",
      "Dennis\n"
     ]
    }
   ],
   "source": [
    "\"\"\"forループで辞書の要素を取り出す\"\"\"\n",
    "# 辞書を変数に格納\n",
    "people = {\"G.Bluth II\": \"A.Development\",\n",
    "          \"Baraney\": \"HIMYM\",\n",
    "          \"Dennis\": \"Always Sunny\",\n",
    "          }# 辞書の中の要素・・key:value,\n",
    "# for keyを入れる変数 in 辞書\n",
    "for character in people:# 大事なこと・・keyを取り出す\n",
    "    # 取り出した要素を表示\n",
    "    print(character)\n"
   ]
  },
  {
   "cell_type": "code",
   "execution_count": 5,
   "id": "bb14754b",
   "metadata": {},
   "outputs": [
    {
     "name": "stdout",
     "output_type": "stream",
     "text": [
      "['GOT', 'NARCOS', 'VICE']\n"
     ]
    }
   ],
   "source": [
    "# リストを変数に格納\n",
    "tv = [\"Got\", \"Narcos\", \"Vice\"]\n",
    "# iは何？\n",
    "i = 0\n",
    "# for 要素を入れる変数 in リスト\n",
    "for show in tv:\n",
    "    new = tv[i]# iはリストのindex\n",
    "    new = new.upper()# 要素を大文字にして格納しなおす\n",
    "    tv[i] = new# リストのi番目に新たに格納\n",
    "    i += 1# リストのindexに１くわえる\n",
    "\n",
    "\n",
    "print(tv)# 全て大文字になったリストを表示\n"
   ]
  },
  {
   "cell_type": "code",
   "execution_count": 6,
   "id": "54ceaefd",
   "metadata": {},
   "outputs": [
    {
     "name": "stdout",
     "output_type": "stream",
     "text": [
      "['GOT', 'NARCOS', 'VICE']\n"
     ]
    }
   ],
   "source": [
    "\"\"\"enumerate関数を使う\"\"\"\n",
    "# リストを変数に格納\n",
    "tv = [\"Got\", \"Narcos\", \"Vice\"]\n",
    "# for i(リストのindex), 要素を格納する変数 in indexを一つずつ増やす関数\n",
    "for i, new in enumerate(tv):\n",
    "    new = tv[i]# リストのi番目を格納\n",
    "    new = new.upper()# 要素を大文字化して格納しなおす\n",
    "    tv[i] = new# リストのi番目に要素を格納しiを１増やす\n",
    "\n",
    "# 新しくなったリストを表示\n",
    "print(tv)"
   ]
  },
  {
   "cell_type": "code",
   "execution_count": 9,
   "id": "08e84767",
   "metadata": {},
   "outputs": [
    {
     "name": "stdout",
     "output_type": "stream",
     "text": [
      "['GOT', 'NARCOS', 'VICE', 'ARRESTED DEVELOPMENT', 'FRIENDS', 'ALWAYS SUNNY']\n",
      "['GOT', 'NARCOS', 'VICE', 'ARRESTED DEVELOPMENT', 'FRIENDS', 'ALWAYS SUNNY']\n"
     ]
    }
   ],
   "source": [
    "\"\"\"forループの別の使い方\"\"\"\n",
    "# 各要素の文字列を全て大文字にして追加\n",
    "# ２つのリストを変数に格納\n",
    "tv = [\"GOT\", \"Narcos\", \"Vice\"]\n",
    "coms = [\"Arrested Development\", \"friends\", \"Always Sunny\"]\n",
    "# 新しいからのリストを作成\n",
    "all_shows = []\n",
    "# for 要素を格納する変数 in リスト\n",
    "for show in tv:\n",
    "    show = show.upper()# 要素を大文字化\n",
    "    all_shows.append(show)# 要素を新しいリストに追加\n",
    "\n",
    "# for inでcomsにも同じことをする\n",
    "for show in coms:\n",
    "    show = show.upper()\n",
    "    all_shows.append(show)\n",
    "\n",
    "# tvとcomsの要素を大文字化して統合した新しいリストを表示\n",
    "print(all_shows)\n",
    "\n",
    "# 新しいからのリストを用意\n",
    "all_shows_new = []\n",
    "# for inで大文字化を+で先にリストを結合してから行う\n",
    "for show_new in tv + coms:\n",
    "    #show_new = show_new.upper()\n",
    "    #all_shows_new.append(show_new)\n",
    "    all_shows_new.append(show_new.upper())\n",
    "\n",
    "# 新しいリストを表示\n",
    "print(all_shows_new)"
   ]
  },
  {
   "cell_type": "code",
   "execution_count": null,
   "id": "3fec9804",
   "metadata": {},
   "outputs": [
    {
     "name": "stdout",
     "output_type": "stream",
     "text": [
      "1\n",
      "2\n",
      "3\n",
      "4\n",
      "5\n",
      "6\n",
      "7\n",
      "8\n",
      "9\n",
      "10\n"
     ]
    }
   ],
   "source": [
    "\"\"\"組込み関数rangeの使い方\"\"\"\n",
    "# range関数は２つの引数→整数列の開始値と終了値を指定\n",
    "# ただし終了値は含まれない・・スライスと同じ？\n",
    "for i in range(1, 11):\n",
    "    # iが実際どう動くか？\n",
    "    print(i)\n",
    "# バス停の比喩はわかりやすい実際は通るのは１つ手前のバス停\n",
    "# 開始値から客が乗り、終了値は車庫？\n"
   ]
  },
  {
   "cell_type": "code",
   "execution_count": null,
   "id": "e083e989",
   "metadata": {},
   "outputs": [],
   "source": []
  }
 ],
 "metadata": {
  "kernelspec": {
   "display_name": "Python (独学プログラマー用)",
   "language": "python",
   "name": "dokugaku-env"
  },
  "language_info": {
   "codemirror_mode": {
    "name": "ipython",
    "version": 3
   },
   "file_extension": ".py",
   "mimetype": "text/x-python",
   "name": "python",
   "nbconvert_exporter": "python",
   "pygments_lexer": "ipython3",
   "version": "3.12.4"
  }
 },
 "nbformat": 4,
 "nbformat_minor": 5
}
