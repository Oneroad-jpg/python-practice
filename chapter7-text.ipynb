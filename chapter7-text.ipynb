{
 "cells": [
  {
   "cell_type": "code",
   "execution_count": null,
   "id": "cb71bef1",
   "metadata": {},
   "outputs": [
    {
     "name": "stdout",
     "output_type": "stream",
     "text": [
      "T\n",
      "e\n",
      "d\n"
     ]
    }
   ],
   "source": [
    "\"\"\"forループの使い方\"\"\"\n",
    "# 変数に文字列を格納\n",
    "name = \"Ted\"\n",
    "# for 変数　in イテラブル\n",
    "for character in name:\n",
    "    # 取り出した要素を表示\n",
    "    print(character)"
   ]
  },
  {
   "cell_type": "code",
   "execution_count": 2,
   "id": "0074753d",
   "metadata": {},
   "outputs": [
    {
     "name": "stdout",
     "output_type": "stream",
     "text": [
      "Got\n",
      "Narcos\n",
      "Vice\n"
     ]
    }
   ],
   "source": [
    "\"\"\"forループでリストの要素を取り出す\"\"\"\n",
    "# データをリストに格納\n",
    "shows = [\"Got\", \"Narcos\", \"Vice\"]\n",
    "# for 要素を入れる変数　in リスト\n",
    "for show in shows:\n",
    "    # 変数を表示\n",
    "    print(show)"
   ]
  },
  {
   "cell_type": "code",
   "execution_count": 3,
   "id": "f3c9d40e",
   "metadata": {},
   "outputs": [
    {
     "name": "stdout",
     "output_type": "stream",
     "text": [
      "A.Development\n",
      "Friends\n",
      "Always Sunny\n"
     ]
    }
   ],
   "source": [
    "\"\"\"forループでタプルの要素を取り出す\"\"\"\n",
    "# タプルを変数に格納\n",
    "coms = (\"A.Development\", \"Friends\", \"Always Sunny\")\n",
    "# for 要素を入れる変数　in タプル\n",
    "for show in coms:# :よく忘れる\n",
    "    # 取り出した要素を表示\n",
    "    print(show)"
   ]
  },
  {
   "cell_type": "code",
   "execution_count": 4,
   "id": "111eae24",
   "metadata": {},
   "outputs": [
    {
     "name": "stdout",
     "output_type": "stream",
     "text": [
      "G.Bluth II\n",
      "Baraney\n",
      "Dennis\n"
     ]
    }
   ],
   "source": [
    "\"\"\"forループで辞書の要素を取り出す\"\"\"\n",
    "# 辞書を変数に格納\n",
    "people = {\"G.Bluth II\": \"A.Development\",\n",
    "          \"Baraney\": \"HIMYM\",\n",
    "          \"Dennis\": \"Always Sunny\",\n",
    "          }# 辞書の中の要素・・key:value,\n",
    "# for keyを入れる変数 in 辞書\n",
    "for character in people:# 大事なこと・・keyを取り出す\n",
    "    # 取り出した要素を表示\n",
    "    print(character)\n"
   ]
  },
  {
   "cell_type": "code",
   "execution_count": 5,
   "id": "bb14754b",
   "metadata": {},
   "outputs": [
    {
     "name": "stdout",
     "output_type": "stream",
     "text": [
      "['GOT', 'NARCOS', 'VICE']\n"
     ]
    }
   ],
   "source": [
    "# リストを変数に格納\n",
    "tv = [\"Got\", \"Narcos\", \"Vice\"]\n",
    "# iは何？\n",
    "i = 0\n",
    "# for 要素を入れる変数 in リスト\n",
    "for show in tv:\n",
    "    new = tv[i]# iはリストのindex\n",
    "    new = new.upper()# 要素を大文字にして格納しなおす\n",
    "    tv[i] = new# リストのi番目に新たに格納\n",
    "    i += 1# リストのindexに１くわえる\n",
    "\n",
    "\n",
    "print(tv)# 全て大文字になったリストを表示\n"
   ]
  },
  {
   "cell_type": "code",
   "execution_count": 6,
   "id": "54ceaefd",
   "metadata": {},
   "outputs": [
    {
     "name": "stdout",
     "output_type": "stream",
     "text": [
      "['GOT', 'NARCOS', 'VICE']\n"
     ]
    }
   ],
   "source": [
    "\"\"\"enumerate関数を使う\"\"\"\n",
    "# リストを変数に格納\n",
    "tv = [\"Got\", \"Narcos\", \"Vice\"]\n",
    "# for i(リストのindex), 要素を格納する変数 in indexを一つずつ増やす関数\n",
    "for i, new in enumerate(tv):\n",
    "    new = tv[i]# リストのi番目を格納\n",
    "    new = new.upper()# 要素を大文字化して格納しなおす\n",
    "    tv[i] = new# リストのi番目に要素を格納しiを１増やす\n",
    "\n",
    "# 新しくなったリストを表示\n",
    "print(tv)"
   ]
  },
  {
   "cell_type": "code",
   "execution_count": 9,
   "id": "08e84767",
   "metadata": {},
   "outputs": [
    {
     "name": "stdout",
     "output_type": "stream",
     "text": [
      "['GOT', 'NARCOS', 'VICE', 'ARRESTED DEVELOPMENT', 'FRIENDS', 'ALWAYS SUNNY']\n",
      "['GOT', 'NARCOS', 'VICE', 'ARRESTED DEVELOPMENT', 'FRIENDS', 'ALWAYS SUNNY']\n"
     ]
    }
   ],
   "source": [
    "\"\"\"forループの別の使い方\"\"\"\n",
    "# 各要素の文字列を全て大文字にして追加\n",
    "# ２つのリストを変数に格納\n",
    "tv = [\"GOT\", \"Narcos\", \"Vice\"]\n",
    "coms = [\"Arrested Development\", \"friends\", \"Always Sunny\"]\n",
    "# 新しいからのリストを作成\n",
    "all_shows = []\n",
    "# for 要素を格納する変数 in リスト\n",
    "for show in tv:\n",
    "    show = show.upper()# 要素を大文字化\n",
    "    all_shows.append(show)# 要素を新しいリストに追加\n",
    "\n",
    "# for inでcomsにも同じことをする\n",
    "for show in coms:\n",
    "    show = show.upper()\n",
    "    all_shows.append(show)\n",
    "\n",
    "# tvとcomsの要素を大文字化して統合した新しいリストを表示\n",
    "print(all_shows)\n",
    "\n",
    "# 新しいからのリストを用意\n",
    "all_shows_new = []\n",
    "# for inで大文字化を+で先にリストを結合してから行う\n",
    "for show_new in tv + coms:\n",
    "    #show_new = show_new.upper()\n",
    "    #all_shows_new.append(show_new)\n",
    "    all_shows_new.append(show_new.upper())\n",
    "\n",
    "# 新しいリストを表示\n",
    "print(all_shows_new)"
   ]
  },
  {
   "cell_type": "code",
   "execution_count": null,
   "id": "3fec9804",
   "metadata": {},
   "outputs": [
    {
     "name": "stdout",
     "output_type": "stream",
     "text": [
      "1\n",
      "2\n",
      "3\n",
      "4\n",
      "5\n",
      "6\n",
      "7\n",
      "8\n",
      "9\n",
      "10\n"
     ]
    }
   ],
   "source": [
    "\"\"\"組込み関数rangeの使い方\"\"\"\n",
    "# range関数は２つの引数→整数列の開始値と終了値を指定\n",
    "# ただし終了値は含まれない・・スライスと同じ？\n",
    "for i in range(1, 11):\n",
    "    # iが実際どう動くか？\n",
    "    print(i)\n",
    "# バス停の比喩はわかりやすい実際は通るのは１つ手前のバス停\n",
    "# 開始値から客が乗り、終了値は車庫？\n"
   ]
  },
  {
   "cell_type": "code",
   "execution_count": null,
   "id": "e083e989",
   "metadata": {},
   "outputs": [
    {
     "name": "stdout",
     "output_type": "stream",
     "text": [
      "10\n",
      "9\n",
      "8\n",
      "7\n",
      "6\n",
      "5\n",
      "4\n",
      "3\n",
      "2\n",
      "1\n",
      "Happy New Year!\n"
     ]
    }
   ],
   "source": [
    "# whileループ\n",
    "# カウンター変数を設定\n",
    "x = 10\n",
    "# while節で繰り返しの条件を設定\n",
    "while x > 0:\n",
    "    # xを表示\n",
    "    print('{}'.format(x))\n",
    "    # カウンター変数を変化させる\n",
    "    x -= 1\n",
    "# while節の条件がFalseになって終了\n",
    "# x = 0 でwhileを飛び出す\n",
    "print(\"Happy New Year!\")"
   ]
  },
  {
   "cell_type": "code",
   "execution_count": null,
   "id": "8f0926bc",
   "metadata": {},
   "outputs": [],
   "source": [
    "\"\"\"無限ループ\"\"\"\n",
    "# 終了の条件がない\n",
    "while True:\n",
    "    print(\"Hello, World\")"
   ]
  },
  {
   "cell_type": "code",
   "execution_count": 3,
   "id": "9889f55f",
   "metadata": {},
   "outputs": [
    {
     "name": "stdout",
     "output_type": "stream",
     "text": [
      "0\n"
     ]
    }
   ],
   "source": [
    "\"\"\"break文\"\"\"\n",
    "# breakを使わないループ\n",
    "#for i in range(0, 10):\n",
    " #   print(i)\n",
    "# breakを使うと\n",
    "for i in range(0, 10):\n",
    "    print(i)\n",
    "    break"
   ]
  },
  {
   "cell_type": "code",
   "execution_count": null,
   "id": "6289dede",
   "metadata": {},
   "outputs": [],
   "source": [
    "\"\"\"whileとbreakの組合せ\"\"\"\n",
    "# ユーザがqを入力するまでループを繰り返す\n",
    "# ユーザに入力を要求するリスト\n",
    "qs = [\"What is your name?\",\n",
    "      \"What is your fav. color?\",\n",
    "      \"What is your quest?\"]\n",
    "\n",
    "# カウント変数を設定\n",
    "n = 0\n",
    "# while文の無限ループ\n",
    "while True:\n",
    "    # 無限ループを抜ける条件をユーザに表示\n",
    "    print(\"Type q to quit\")\n",
    "    # ユーザの入力を格納する変数を設定\n",
    "    a = input(qs[n])\n",
    "    # breakのための条件\n",
    "    if a == \"q\":\n",
    "        break\n",
    "    # qsの要素を順番に表示させるために\n",
    "    # nを０から２まで繰り返すための計算\n",
    "    n = (n + 1) % 3 # ()の見落とし"
   ]
  },
  {
   "cell_type": "code",
   "execution_count": null,
   "id": "1ca3b35c",
   "metadata": {},
   "outputs": [],
   "source": [
    "\"\"\"continue文の使い方\"\"\"\n",
    "# continueは実行中の反復処理を途中終了し\n",
    "# 次の反復処理に移る\n",
    "# １から５までは入力したいが３は除く\n",
    "\n",
    "# for in range()ループ\n",
    "for i in range(0, 6):\n",
    "    # continueで除外の条件を設定\n",
    "    # breakならばそこで止まる\n",
    "    if i == 3:\n",
    "        continue\n",
    "    print(i)\n",
    "\n",
    "# while文で上記と同じことをするcode\n",
    "# ループの条件式・・Trueならばループ\n",
    "i = 0\n",
    "while i <= 5:\n",
    "    # continue文の条件\n",
    "    if i == 3:\n",
    "        # 止まる前にiを変化\n",
    "        i += 1\n",
    "        continue\n",
    "    # iを表示\n",
    "    print(i)\n",
    "    i += 1\n",
    "    # while節に戻る\n",
    "    \n"
   ]
  },
  {
   "cell_type": "code",
   "execution_count": 1,
   "id": "efe4281c",
   "metadata": {},
   "outputs": [
    {
     "name": "stdout",
     "output_type": "stream",
     "text": [
      "1\n",
      "a\n",
      "b\n",
      "c\n",
      "2\n",
      "a\n",
      "b\n",
      "c\n"
     ]
    }
   ],
   "source": [
    "\"\"\"入れ子のループ（ネストしたループ）\"\"\"\n",
    "# 外側のループ\n",
    "for i in range(1, 3):\n",
    "    # １・２とループするが・・\n",
    "    print(i)\n",
    "    # 次のループに移る前に\n",
    "    for letter in [\"a\", \"b\", \"c\"]:\n",
    "        # forループを実行\n",
    "        print(letter)\n",
    "\n",
    "# 短針と長針のイメージ\n"
   ]
  },
  {
   "cell_type": "code",
   "execution_count": null,
   "id": "ce404e7b",
   "metadata": {},
   "outputs": [],
   "source": [
    "\"\"\"ネストのループの続き\"\"\"\n",
    "# ２つのリストを作成\n",
    "list1 = [1, 2, 3, 4]\n",
    "list2 = [5, 6, 7, 8]\n",
    "# からのリストを用意\n",
    "added = []\n",
    "# for inでlist1をループさせる\n",
    "for i in list1:\n",
    "    # list1の最初の要素を取り出しlist2をループ\n",
    "    for j in list2:\n",
    "        # 新しいリストaddedに計算結果を追加\n",
    "        added.append(i + j)\n",
    "    \n",
    "# すべての計算結果を表示\n",
    "print(added)\n"
   ]
  },
  {
   "cell_type": "code",
   "execution_count": null,
   "id": "e0e2ed30",
   "metadata": {},
   "outputs": [],
   "source": [
    "\"\"\"whileループの中にforループ\"\"\"\n",
    "# 逆もできる\n",
    "# ユーザにyまたはnを入力させる\n",
    "# nでない場合ループ\n",
    "while input('y or n?') != 'n':\n",
    "    # forループ\n",
    "    for i in range(1, 6):\n",
    "        # iを表示\n",
    "        print(i)\n",
    "        # while節の戻る・・というのを忘れる"
   ]
  },
  {
   "cell_type": "code",
   "execution_count": 8,
   "id": "83c161e4",
   "metadata": {},
   "outputs": [
    {
     "name": "stdout",
     "output_type": "stream",
     "text": [
      "ウォーキング・デッド\n",
      "アントラージュ\n",
      "ザ・ソプラノズ\n",
      "ヴァンパイア・ダイアリーズ\n"
     ]
    }
   ],
   "source": [
    "\"\"\"１.次のリストの要素をそれぞれ出力しよう。\n",
    "[“ウォーキング・デッド”, “アントラージュ”, “ザ・ソプラノズ”, “ヴァンパイア・ダイアリーズ”]\"\"\"\n",
    "# リストに変数を格納\n",
    "group_list = [\"ウォーキング・デッド\", \"アントラージュ\", \"ザ・ソプラノズ\", \"ヴァンパイア・ダイアリーズ\"]\n",
    "# for inループでリストの要素を取り出す\n",
    "for group in group_list:\n",
    "    # 要素を順番に出力\n",
    "    print(group)"
   ]
  },
  {
   "cell_type": "code",
   "execution_count": 9,
   "id": "4922d996",
   "metadata": {},
   "outputs": [
    {
     "name": "stdout",
     "output_type": "stream",
     "text": [
      "25\n",
      "26\n",
      "27\n",
      "28\n",
      "29\n",
      "30\n",
      "31\n",
      "32\n",
      "33\n",
      "34\n",
      "35\n",
      "36\n",
      "37\n",
      "38\n",
      "39\n",
      "40\n",
      "41\n",
      "42\n",
      "43\n",
      "44\n",
      "45\n",
      "46\n",
      "47\n",
      "48\n",
      "49\n",
      "50\n"
     ]
    }
   ],
   "source": [
    "\"\"\"2. 25から50までの数値をそれぞれ出力しよう\"\"\"\n",
    "#　for in range()のループで数値を出力\n",
    "for num in range(25, 51):\n",
    "    print(num)"
   ]
  },
  {
   "cell_type": "code",
   "execution_count": null,
   "id": "aaff0034",
   "metadata": {},
   "outputs": [
    {
     "name": "stdout",
     "output_type": "stream",
     "text": [
      "0 ウォーキング・デッド\n",
      "1 アントラージュ\n",
      "2 ザ・ソプラノズ\n",
      "3 ヴァンパイア・ダイアリーズ\n"
     ]
    }
   ],
   "source": [
    "\"\"\"3.チャレンジ１のリストの要素を\n",
    "それぞれインデックス値と一緒に出力しよう\n",
    "\"\"\"\n",
    "# リストに変数を格納\n",
    "group_list = [\"ウォーキング・デッド\", \"アントラージュ\", \"ザ・ソプラノズ\", \"ヴァンパイア・ダイアリーズ\"]\n",
    "\n",
    "# for in range()でindexを取り出す\n",
    "#for index in range(0, 5):\n",
    "    # for in でgroup_listの要素を取り出す\n",
    "    #for group in group_list:\n",
    "        # f-stringでindexとgroupを表示\n",
    "        #print(f\"[{index}, {group}]\")\n",
    "        # 最初のfor inループに戻る\n",
    "        # これは入れ子ではなかった→失敗\n",
    "\n",
    "\n",
    "# for in rangeでindexを取り出す\n",
    "for i in range(0, 4):\n",
    "    # index値とlistの要素を表示\n",
    "    print(i, group_list[i])"
   ]
  },
  {
   "cell_type": "code",
   "execution_count": null,
   "id": "9245fda0",
   "metadata": {},
   "outputs": [
    {
     "name": "stdout",
     "output_type": "stream",
     "text": [
      "正解！\n",
      "数字を入力するか、qで終了します。\n"
     ]
    }
   ],
   "source": [
    "\"\"\"4.無限ループする数字あてプログラムを書こう。\n",
    "ユーザに文字を入力してもらい、qが入力されたら終了、\n",
    "数字が入力されたら正解かどうか判定しよう。\n",
    "正解の数値はプログラム内にいくつかリストで持たせておいて、\n",
    "ユーザーが入力した数字がそのどれかと一致したら「正解」、\n",
    "一致しなかったら「不正解」と表示しよう。\n",
    "もし、数字かq以外の文字が入力されたら、\n",
    "「数字を入力するか、qで終了します。」と表示しよう。\"\"\"\n",
    "\n",
    "# 無限ループ\n",
    "while True:\n",
    "    # ユーザに文字を入力してもらう\n",
    "    user_num = input(\"好きな文字を入力してください：\")\n",
    "\n",
    "    # 正解のリストを作成\n",
    "    answer_num = [\"5\", \"13\", \"29\", \"37\",\"41\",\"59\",\"67\",\"71\",\"83\",\"97\"]\n",
    "    \n",
    "    # 回答を判定\n",
    "    # 入力値が正解のリストに含まれるか？\n",
    "    # 正解の場合\n",
    "    if user_num in answer_num:\n",
    "        print(\"正解！\")\n",
    "        break# 正解の場合もループを終了\n",
    "    # 入力値がqの場合\n",
    "    elif user_num == \"q\":\n",
    "        break\n",
    "    # 入力値がq以外の場合かつ数字でない\n",
    "    elif user_num != int:\n",
    "        print(\"数字を入力するか、qで終了します。\")\n",
    "    else:\n",
    "        print(\"不正解\")\n"
   ]
  },
  {
   "cell_type": "code",
   "execution_count": null,
   "id": "0e611cfd",
   "metadata": {},
   "outputs": [],
   "source": [
    "# 問４　try-except構文を使用\n",
    "# エラーが起きる可能性のある処理を安全に実行\n",
    "\n",
    "# 正解のリスト・・数値型で用意\n",
    "answer_numbers = [5, 13, 29, 37, 41, 59, 67, 71, 89, 97]\n",
    "\n",
    "# 無限ループ\n",
    "while True:\n",
    "    user_input = input(\"好きな数字を入力してください（終了はq）\")\n",
    "\n",
    "    # 最初に終了コマンドをチェックするのが定石\n",
    "    if user_input == \"q\":\n",
    "        print(\"終了します。\")\n",
    "        break\n",
    "\n",
    "    # try-exceptを使用\n",
    "    try:\n",
    "        # ここで入力された文字列を数字に変換\n",
    "        num = int(user_input)# エラーが出なければ入力は有効な数字\n",
    "        # 正解かを判定\n",
    "        if num in answer_numbers:\n",
    "            print(\"正解！\")\n",
    "            break# 正解でも終了する仕様\n",
    "        else:\n",
    "            print(\"不正解\")\n",
    "        \n",
    "    except ValueError:\n",
    "        # 文字などが含まれていて変換に失敗するとエラー\n",
    "        # exceptブロックでキャッチ\n",
    "        # エラーメッセージを表示\n",
    "        print(\"数字を入力するか、qで終了してください。\")\n",
    "\n"
   ]
  },
  {
   "cell_type": "code",
   "execution_count": 21,
   "id": "252d8469",
   "metadata": {},
   "outputs": [
    {
     "name": "stdout",
     "output_type": "stream",
     "text": [
      "[72, 8, 264, 664, 171, 19, 627, 1577, 1332, 148, 4884, 12284, 36, 4, 132, 332]\n"
     ]
    }
   ],
   "source": [
    "\"\"\"5. ２つのリストに含まれるすべての数字の組み合わせで掛け算をしよう。\n",
    "１つ目のリストは[8, 19, 148, 4]、\n",
    "２つ目のリストは[9, 1, 33, 83]で、\n",
    "それぞれ掛け算した結果は新しいリストに格納しよう。\"\"\"\n",
    "\n",
    "# リストを変数に格納\n",
    "nums_first = [8, 19, 148, 4]\n",
    "nums_second = [9, 1, 33, 83]\n",
    "# からのリストを用意\n",
    "result_list = []\n",
    "# for in ２重の入れ子構造のループ\n",
    "for num_first in nums_first:\n",
    "    # 総当たりのループ\n",
    "    for num_second in nums_second:\n",
    "        # 掛け算をする\n",
    "        result = num_first * num_second\n",
    "        # 新しいリストに結果を追加\n",
    "        result_list.append(result)\n",
    "\n",
    "# すべての計算結果を格納したリストを表示\n",
    "print(result_list)"
   ]
  }
 ],
 "metadata": {
  "kernelspec": {
   "display_name": "Python (独学プログラマー用)",
   "language": "python",
   "name": "dokugaku-env"
  },
  "language_info": {
   "codemirror_mode": {
    "name": "ipython",
    "version": 3
   },
   "file_extension": ".py",
   "mimetype": "text/x-python",
   "name": "python",
   "nbconvert_exporter": "python",
   "pygments_lexer": "ipython3",
   "version": "3.12.4"
  }
 },
 "nbformat": 4,
 "nbformat_minor": 5
}
