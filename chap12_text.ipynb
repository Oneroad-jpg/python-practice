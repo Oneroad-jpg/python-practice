{
 "cells": [
  {
   "cell_type": "code",
   "execution_count": 1,
   "id": "f5fb62f5",
   "metadata": {},
   "outputs": [
    {
     "name": "stdout",
     "output_type": "stream",
     "text": [
      "14\n"
     ]
    }
   ],
   "source": [
    "\"\"\"手続型プログラミング\"\"\"\n",
    "# ステート・・状態\n",
    "# 途中途中でプログラムのステートを変えながら進む\n",
    "\n",
    "x = 2\n",
    "y = 4\n",
    "z = 8\n",
    "xyz = 2 + 4 + 8\n",
    "print(xyz)"
   ]
  },
  {
   "cell_type": "code",
   "execution_count": null,
   "id": "e40eea22",
   "metadata": {},
   "outputs": [],
   "source": [
    "\"\"\"手続型プログラミング\"\"\"\n",
    "# リストを作成\n",
    "pop = [] #洋楽ポップソングを保存するリスト\n",
    "jpop = [] # Jpopソングを保存するリスト\n",
    "\n",
    "# 曲を分類するための手続きを定義\n",
    "def collect_songs():\n",
    "    # 入力を促すメッセージを作成\n",
    "    song = \"曲名を入力してください：\"\n",
    "    ask = \"p か j のどちらかを入力してください。q で終わります：\"\n",
    "\n",
    "    # 無限ループを設定\n",
    "    while True:\n",
    "        # ジャンルを尋ねる\n",
    "        genre = input(ask)\n",
    "        # ループを終了・・最初に持ってくる\n",
    "        if genre == \"q\":\n",
    "            break\n",
    "\n",
    "        # 洋楽ポップソングの時\n",
    "        if genre == \"p\":\n",
    "            # 曲名を入力してもらい洋楽リストに追加\n",
    "            p = input(song)\n",
    "            pop.append(p)\n",
    "        \n",
    "        # Jpopソングの時\n",
    "        elif genre == \"j\":\n",
    "            # 曲名を入力してもらいJpopのリストに追加\n",
    "            j = input(song)\n",
    "            jpop.append(j)\n",
    "        \n",
    "        # それ以外の時\n",
    "        else:\n",
    "            print(\"不正な値です。\")\n",
    "    \n",
    "    # ２つのリストを表示\n",
    "    print(\"pop songs:\", pop)\n",
    "    print(\"jpop songs\", jpop)\n",
    "\n",
    "# 定義した手続き\n",
    "collect_songs()"
   ]
  },
  {
   "cell_type": "code",
   "execution_count": 2,
   "id": "822f4085",
   "metadata": {},
   "outputs": [],
   "source": [
    "\"\"\"副作用を起こす関数\"\"\"\n",
    "# 関数外のデータに依存→関数外のデータを変更するため副作用を起こす\n",
    "a = 0\n",
    "\n",
    "def increment():\n",
    "    global a\n",
    "    a += 1"
   ]
  },
  {
   "cell_type": "code",
   "execution_count": null,
   "id": "2c61eedc",
   "metadata": {},
   "outputs": [],
   "source": [
    "\"\"\"副作用のない関数\"\"\"\n",
    "# 関数外の変数を参照していない→グローバルステートが存在しない\n",
    "\n",
    "def increment(a):\n",
    "    return a + 1"
   ]
  }
 ],
 "metadata": {
  "kernelspec": {
   "display_name": "Python (独学プログラマー用)",
   "language": "python",
   "name": "dokugaku-env"
  },
  "language_info": {
   "codemirror_mode": {
    "name": "ipython",
    "version": 3
   },
   "file_extension": ".py",
   "mimetype": "text/x-python",
   "name": "python",
   "nbconvert_exporter": "python",
   "pygments_lexer": "ipython3",
   "version": "3.12.4"
  }
 },
 "nbformat": 4,
 "nbformat_minor": 5
}
