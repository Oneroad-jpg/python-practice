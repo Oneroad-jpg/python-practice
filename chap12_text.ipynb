{
 "cells": [
  {
   "cell_type": "code",
   "execution_count": 1,
   "id": "f5fb62f5",
   "metadata": {},
   "outputs": [
    {
     "name": "stdout",
     "output_type": "stream",
     "text": [
      "14\n"
     ]
    }
   ],
   "source": [
    "\"\"\"手続型プログラミング\"\"\"\n",
    "# ステート・・状態\n",
    "# 途中途中でプログラムのステートを変えながら進む\n",
    "\n",
    "x = 2\n",
    "y = 4\n",
    "z = 8\n",
    "xyz = 2 + 4 + 8\n",
    "print(xyz)"
   ]
  },
  {
   "cell_type": "code",
   "execution_count": null,
   "id": "e40eea22",
   "metadata": {},
   "outputs": [],
   "source": [
    "\"\"\"手続型プログラミング\"\"\"\n",
    "# リストを作成\n",
    "pop = [] #洋楽ポップソングを保存するリスト\n",
    "jpop = [] # Jpopソングを保存するリスト\n",
    "\n",
    "# 曲を分類するための手続きを定義\n",
    "def collect_songs():\n",
    "    # 入力を促すメッセージを作成\n",
    "    song = \"曲名を入力してください：\"\n",
    "    ask = \"p か j のどちらかを入力してください。q で終わります：\"\n",
    "\n",
    "    # 無限ループを設定\n",
    "    while True:\n",
    "        # ジャンルを尋ねる\n",
    "        genre = input(ask)\n",
    "        # ループを終了・・最初に持ってくる\n",
    "        if genre == \"q\":\n",
    "            break\n",
    "\n",
    "        # 洋楽ポップソングの時\n",
    "        if genre == \"p\":\n",
    "            # 曲名を入力してもらい洋楽リストに追加\n",
    "            p = input(song)\n",
    "            pop.append(p)\n",
    "        \n",
    "        # Jpopソングの時\n",
    "        elif genre == \"j\":\n",
    "            # 曲名を入力してもらいJpopのリストに追加\n",
    "            j = input(song)\n",
    "            jpop.append(j)\n",
    "        \n",
    "        # それ以外の時\n",
    "        else:\n",
    "            print(\"不正な値です。\")\n",
    "    \n",
    "    # ２つのリストを表示\n",
    "    print(\"pop songs:\", pop)\n",
    "    print(\"jpop songs\", jpop)\n",
    "\n",
    "# 定義した手続き\n",
    "collect_songs()"
   ]
  },
  {
   "cell_type": "code",
   "execution_count": 2,
   "id": "822f4085",
   "metadata": {},
   "outputs": [],
   "source": [
    "\"\"\"副作用を起こす関数\"\"\"\n",
    "# 関数外のデータに依存→関数外のデータを変更するため副作用を起こす\n",
    "a = 0\n",
    "\n",
    "def increment():\n",
    "    global a\n",
    "    a += 1"
   ]
  },
  {
   "cell_type": "code",
   "execution_count": null,
   "id": "2c61eedc",
   "metadata": {},
   "outputs": [],
   "source": [
    "\"\"\"副作用のない関数\"\"\"\n",
    "# 関数外の変数を参照していない→グローバルステートが存在しない\n",
    "\n",
    "def increment(a):\n",
    "    return a + 1"
   ]
  },
  {
   "cell_type": "code",
   "execution_count": 3,
   "id": "24060053",
   "metadata": {},
   "outputs": [],
   "source": [
    "# Orageというクラスを定義・・クラス名は大文字で始まる\n",
    "class Orange:\n",
    "    #　self変数はインスタンス変数の定義に使用\n",
    "    def __init__(self):# init:initialize = 初期化・・特別なメソッド\n",
    "        # \"Created\"と表示\n",
    "        print(\"Created\")\n",
    "    "
   ]
  },
  {
   "cell_type": "code",
   "execution_count": null,
   "id": "598cfac5",
   "metadata": {},
   "outputs": [
    {
     "name": "stdout",
     "output_type": "stream",
     "text": [
      "Created\n",
      "<__main__.Orange object at 0x105d00950>\n"
     ]
    }
   ],
   "source": [
    "# Orangeというクラスを作成\n",
    "class Orange:\n",
    "    # self変数を定義しw,cは仮引数を入れる→値を仮引数に修正\n",
    "    def __init__(self, w, c):\n",
    "        # 属性weightと属性colorを作成→変数を属性に修正\n",
    "        self.weight = w\n",
    "        self.color = c\n",
    "        print(\"Created\")\n",
    "\n",
    "# オブジェクトを作成\n",
    "or1 = Orange(10, \"dark orange\")\n",
    "print(or1)\n"
   ]
  },
  {
   "cell_type": "code",
   "execution_count": 5,
   "id": "4e827908",
   "metadata": {},
   "outputs": [
    {
     "name": "stdout",
     "output_type": "stream",
     "text": [
      "Created\n",
      "10\n",
      "dark Orange\n"
     ]
    }
   ],
   "source": [
    "# Orangeクラスを作成\n",
    "class Orange:\n",
    "    def __init__(self, w, c):\n",
    "        self.weight = w\n",
    "        self.color = c\n",
    "        print(\"Created\")\n",
    "\n",
    "or1 = Orange(10, \"dark Orange\")\n",
    "print(or1.weight)\n",
    "print(or1.color)\n",
    "        "
   ]
  },
  {
   "cell_type": "code",
   "execution_count": null,
   "id": "f83aabca",
   "metadata": {},
   "outputs": [
    {
     "name": "stdout",
     "output_type": "stream",
     "text": [
      "Created\n",
      "100\n",
      "dark Orange\n"
     ]
    }
   ],
   "source": [
    "\"\"\"インスタンス値を変更\"\"\"\n",
    "# Orangeクラスを作成\n",
    "class Orange:\n",
    "    def __init__(self, w, c):\n",
    "        self.weight = w\n",
    "        self.color = c\n",
    "        print(\"Created\")\n",
    "\n",
    "# or1インスタンスを作成・・wとcの値を入れる\n",
    "or1 = Orange(10, \"dark Orange\")\n",
    "# インスタンスの値をそれぞれ変更\n",
    "or1.weight = 100\n",
    "or1.colro = \"light Orange_\"\n",
    "\n",
    "# 値が変更さえているか確認\n",
    "print(or1.weight)\n",
    "print(or1.color)"
   ]
  },
  {
   "cell_type": "code",
   "execution_count": null,
   "id": "4a4dcd89",
   "metadata": {},
   "outputs": [
    {
     "name": "stdout",
     "output_type": "stream",
     "text": [
      "Created!\n",
      "Created!\n",
      "Created!\n"
     ]
    }
   ],
   "source": [
    "# Orangeクラスを作成\n",
    "class Orange:\n",
    "    def __init__(self, w, c):\n",
    "        self.weight = w\n",
    "        self.color = c\n",
    "        print(\"Created!\")\n",
    "\n",
    "or1 = Orange(4, \"light orange\")\n",
    "or2 = Orange(8,\"dark orange\")# daik orangeとミス dark orange\n",
    "or3 = Orange(14, \"yellow\")"
   ]
  },
  {
   "cell_type": "code",
   "execution_count": null,
   "id": "2c35c417",
   "metadata": {},
   "outputs": [
    {
     "name": "stdout",
     "output_type": "stream",
     "text": [
      "Created\n",
      "0\n",
      "370\n"
     ]
    }
   ],
   "source": [
    "# classに新しい要素を追加\n",
    "class Orange:\n",
    "    def __init__(self, w, c):\n",
    "        self.weight = w\n",
    "        self.color = c\n",
    "        # 新しい要素を追加\n",
    "        self.mold = 0\n",
    "        print(\"Created\")\n",
    "\n",
    "    # 腐る性質を定義\n",
    "    def rot(self, days, temp):# rotメソッド\n",
    "        \"\"\"tempは温度（摂氏）\"\"\"\n",
    "        self.mold = days * temp\n",
    "\n",
    "orange = Orange(200, \"orange\")\n",
    "print(orange.mold)\n",
    "orange.rot(10,37)\n",
    "print(orange.mold)\n"
   ]
  },
  {
   "cell_type": "code",
   "execution_count": null,
   "id": "32a66c87",
   "metadata": {},
   "outputs": [
    {
     "name": "stdout",
     "output_type": "stream",
     "text": [
      "200\n",
      "800\n"
     ]
    }
   ],
   "source": [
    "# 長方形を表すクラスに複数のメソッドを定義\n",
    "class Rectangle:\n",
    "    def __init__(self, w, l):\n",
    "        self.width = w\n",
    "        self.len = l\n",
    "    # 面積を求めるメソッド\n",
    "    def area(self):\n",
    "        return self.width * self.len\n",
    "    \n",
    "    # サイズを変更するメソッド\n",
    "    def change_size(self, w, l):\n",
    "        self.width = w\n",
    "        self.len = l\n",
    "# 面積を求める\n",
    "rectangle = Rectangle(10, 20)\n",
    "print(rectangle.area())\n",
    "rectangle.change_size(20, 40)\n",
    "print(rectangle.area())# rectangel→rectangle\n"
   ]
  },
  {
   "cell_type": "code",
   "execution_count": null,
   "id": "94852353",
   "metadata": {},
   "outputs": [],
   "source": []
  }
 ],
 "metadata": {
  "kernelspec": {
   "display_name": "Python (独学プログラマー用)",
   "language": "python",
   "name": "dokugaku-env"
  },
  "language_info": {
   "codemirror_mode": {
    "name": "ipython",
    "version": 3
   },
   "file_extension": ".py",
   "mimetype": "text/x-python",
   "name": "python",
   "nbconvert_exporter": "python",
   "pygments_lexer": "ipython3",
   "version": "3.12.4"
  }
 },
 "nbformat": 4,
 "nbformat_minor": 5
}
