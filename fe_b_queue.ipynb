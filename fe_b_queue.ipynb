{
 "cells": [
  {
   "cell_type": "code",
   "execution_count": 1,
   "id": "ed46d32f",
   "metadata": {},
   "outputs": [
    {
     "name": "stdout",
     "output_type": "stream",
     "text": [
      "--- Enqueue (追加) ---\n",
      "10, 20, 30の順にEnqueしました。\n",
      "現在のキューの状態: [10, 20, 30]\n",
      "\n",
      "--- Dequeue (取り出し) ---\n",
      "1回目に取り出されたデータ：10\n",
      "Dequeue後のキューの状態：[20, 30]\n",
      "\n",
      "2回目に取り出されたデータ：20\n",
      "Dequeue後のキューの状態：[30]\n",
      "\n",
      "最終的なキューの状態: [30]\n"
     ]
    }
   ],
   "source": [
    "# 1. キューとして使用する空のリストを準備\n",
    "queue = []\n",
    "\n",
    "# 2. キューにデータを Enqueue (追加) していく\n",
    "print(\"--- Enqueue (追加) ---\")\n",
    "queue.append(10)\n",
    "queue.append(20)\n",
    "queue.append(30)\n",
    "print(\"10, 20, 30の順にEnqueしました。\")\n",
    "\n",
    "print(f\"現在のキューの状態: {queue}\")\n",
    "\n",
    "# 3. キューからデータを Dequeue (取り出し) していく\n",
    "print(\"\\n--- Dequeue (取り出し) ---\")\n",
    "item1 = queue.pop(0)\n",
    "print(f\"1回目に取り出されたデータ：{item1}\")\n",
    "print(f\"Dequeue後のキューの状態：{queue}\")\n",
    "\n",
    "item2 = queue.pop(0)\n",
    "print(f\"\\n2回目に取り出されたデータ：{item2}\")\n",
    "print(f\"Dequeue後のキューの状態：{queue}\")\n",
    "\n",
    "print(f\"\\n最終的なキューの状態: {queue}\")"
   ]
  }
 ],
 "metadata": {
  "kernelspec": {
   "display_name": "Python (独学プログラマー用)",
   "language": "python",
   "name": "dokugaku-env"
  },
  "language_info": {
   "codemirror_mode": {
    "name": "ipython",
    "version": 3
   },
   "file_extension": ".py",
   "mimetype": "text/x-python",
   "name": "python",
   "nbconvert_exporter": "python",
   "pygments_lexer": "ipython3",
   "version": "3.12.4"
  }
 },
 "nbformat": 4,
 "nbformat_minor": 5
}
