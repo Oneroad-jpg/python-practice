{
 "cells": [
  {
   "cell_type": "code",
   "execution_count": null,
   "id": "f04be40d",
   "metadata": {},
   "outputs": [
    {
     "ename": "SyntaxError",
     "evalue": "cannot assign to function call here. Maybe you meant '==' instead of '='? (2662776401.py, line 3)",
     "output_type": "error",
     "traceback": [
      "  \u001b[36mCell\u001b[39m\u001b[36m \u001b[39m\u001b[32mIn[14]\u001b[39m\u001b[32m, line 3\u001b[39m\n\u001b[31m    \u001b[39m\u001b[31mf(x) = x * 2\u001b[39m\n    ^\n\u001b[31mSyntaxError\u001b[39m\u001b[31m:\u001b[39m cannot assign to function call here. Maybe you meant '==' instead of '='?\n"
     ]
    }
   ],
   "source": [
    "# 実行しないでください\n",
    "\n",
    "f(x) = x * 2"
   ]
  },
  {
   "cell_type": "code",
   "execution_count": null,
   "id": "29441932",
   "metadata": {},
   "outputs": [],
   "source": [
    "# 実行しないでください\n",
    "\n",
    "def [関数名]([引数]):\n",
    "    [関数定義]"
   ]
  },
  {
   "cell_type": "code",
   "execution_count": null,
   "id": "c8133239",
   "metadata": {},
   "outputs": [
    {
     "name": "stdout",
     "output_type": "stream",
     "text": [
      "4\n"
     ]
    }
   ],
   "source": [
    "# 数学関数 f(x) = x * 2\n",
    "\n",
    "def f(x):\n",
    "    return x * 2\n",
    "\n",
    "# 前のコードの続き\n",
    "\n",
    "f(2)\n",
    "\n",
    "# 前のコードの続き\n",
    "\n",
    "result = f(2)\n",
    "print(result)"
   ]
  },
  {
   "cell_type": "code",
   "execution_count": null,
   "id": "3d9a5cfc",
   "metadata": {},
   "outputs": [
    {
     "name": "stdout",
     "output_type": "stream",
     "text": [
      "z is 5\n"
     ]
    }
   ],
   "source": [
    "def f(x):\n",
    "    return x + 1\n",
    "\n",
    "z = f(4)\n",
    "\n",
    "if z == 5:\n",
    "    print(\"z is 5\")\n",
    "else:\n",
    "    print(\"z is not 5\")"
   ]
  },
  {
   "cell_type": "code",
   "execution_count": null,
   "id": "8d84bdec",
   "metadata": {},
   "outputs": [
    {
     "name": "stdout",
     "output_type": "stream",
     "text": [
      "2\n"
     ]
    }
   ],
   "source": [
    "def f():\n",
    "    return 1 + 1\n",
    "\n",
    "result = f()\n",
    "print(result)"
   ]
  },
  {
   "cell_type": "code",
   "execution_count": null,
   "id": "e300ac78",
   "metadata": {},
   "outputs": [
    {
     "name": "stdout",
     "output_type": "stream",
     "text": [
      "6\n"
     ]
    }
   ],
   "source": [
    "def f(x, y, z):\n",
    "    return x + y + z\n",
    "\n",
    "result = f(1, 2, 3)\n",
    "print(result)"
   ]
  },
  {
   "cell_type": "code",
   "execution_count": null,
   "id": "74a9bcda",
   "metadata": {},
   "outputs": [
    {
     "name": "stdout",
     "output_type": "stream",
     "text": [
      "None\n"
     ]
    }
   ],
   "source": [
    "def f():\n",
    "    z = 1 + 1\n",
    "\n",
    "result = f()\n",
    "print(result)"
   ]
  },
  {
   "cell_type": "code",
   "execution_count": null,
   "id": "c6944579",
   "metadata": {},
   "outputs": [
    {
     "data": {
      "text/plain": [
       "6"
      ]
     },
     "execution_count": 7,
     "metadata": {},
     "output_type": "execute_result"
    }
   ],
   "source": [
    "len(\"Python\")"
   ]
  },
  {
   "cell_type": "code",
   "execution_count": null,
   "id": "1f5e90e6",
   "metadata": {},
   "outputs": [
    {
     "data": {
      "text/plain": [
       "'100'"
      ]
     },
     "execution_count": 8,
     "metadata": {},
     "output_type": "execute_result"
    }
   ],
   "source": [
    "str(100)"
   ]
  },
  {
   "cell_type": "code",
   "execution_count": null,
   "id": "ef089698",
   "metadata": {},
   "outputs": [
    {
     "data": {
      "text/plain": [
       "1"
      ]
     },
     "execution_count": 9,
     "metadata": {},
     "output_type": "execute_result"
    }
   ],
   "source": [
    "int(\"1\")"
   ]
  },
  {
   "cell_type": "code",
   "execution_count": 13,
   "id": "f0cc77ae",
   "metadata": {},
   "outputs": [
    {
     "data": {
      "text/plain": [
       "99.0"
      ]
     },
     "execution_count": 15,
     "metadata": {},
     "output_type": "execute_result"
    }
   ],
   "source": [
    "int(\"110\")\n",
    "int(20.54)\n",
    "\n",
    "float(\"16.4\")\n",
    "float(99)"
   ]
  },
  {
   "cell_type": "code",
   "execution_count": 16,
   "id": "6cd48b36",
   "metadata": {},
   "outputs": [
    {
     "ename": "ValueError",
     "evalue": "invalid literal for int() with base 10: 'Prince'",
     "output_type": "error",
     "traceback": [
      "\u001b[31m---------------------------------------------------------------------------\u001b[39m",
      "\u001b[31mValueError\u001b[39m                                Traceback (most recent call last)",
      "\u001b[36mCell\u001b[39m\u001b[36m \u001b[39m\u001b[32mIn[16]\u001b[39m\u001b[32m, line 1\u001b[39m\n\u001b[32m----> \u001b[39m\u001b[32m1\u001b[39m \u001b[38;5;28;43mint\u001b[39;49m\u001b[43m(\u001b[49m\u001b[33;43m\"\u001b[39;49m\u001b[33;43mPrince\u001b[39;49m\u001b[33;43m\"\u001b[39;49m\u001b[43m)\u001b[49m\n",
      "\u001b[31mValueError\u001b[39m: invalid literal for int() with base 10: 'Prince'"
     ]
    }
   ],
   "source": [
    "int(\"Prince\")"
   ]
  },
  {
   "cell_type": "code",
   "execution_count": 17,
   "id": "64dec0bb",
   "metadata": {},
   "outputs": [
    {
     "data": {
      "text/plain": [
       "int"
      ]
     },
     "execution_count": 17,
     "metadata": {},
     "output_type": "execute_result"
    }
   ],
   "source": [
    "type(123)"
   ]
  },
  {
   "cell_type": "code",
   "execution_count": 18,
   "id": "5932d274",
   "metadata": {},
   "outputs": [
    {
     "data": {
      "text/plain": [
       "str"
      ]
     },
     "execution_count": 18,
     "metadata": {},
     "output_type": "execute_result"
    }
   ],
   "source": [
    "type(\"こんにちは\")"
   ]
  },
  {
   "cell_type": "code",
   "execution_count": 19,
   "id": "ed8047c0",
   "metadata": {},
   "outputs": [
    {
     "data": {
      "text/plain": [
       "int"
      ]
     },
     "execution_count": 19,
     "metadata": {},
     "output_type": "execute_result"
    }
   ],
   "source": [
    "type(len(\"Python\"))"
   ]
  },
  {
   "cell_type": "code",
   "execution_count": 2,
   "id": "b1f7c9ad",
   "metadata": {},
   "outputs": [
    {
     "name": "stdout",
     "output_type": "stream",
     "text": [
      "Wow, you are old!\n"
     ]
    }
   ],
   "source": [
    "age = input(\"Enter your age:\")\n",
    "int_age = int(age)\n",
    "if int_age < 21:\n",
    "    print(\"Your are young!\")\n",
    "else:\n",
    "    print(\"Wow, you are old!\")"
   ]
  },
  {
   "cell_type": "code",
   "execution_count": 6,
   "id": "98142627",
   "metadata": {},
   "outputs": [
    {
     "name": "stdout",
     "output_type": "stream",
     "text": [
      "奇数\n",
      "偶数\n"
     ]
    }
   ],
   "source": [
    "def even_odd(x):\n",
    "    if x % 2 == 0:\n",
    "        return(\"偶数\")\n",
    "    else:\n",
    "        return(\"奇数\")\n",
    "\n",
    "print(even_odd(5))\n",
    "print(even_odd(16))"
   ]
  },
  {
   "cell_type": "code",
   "execution_count": 7,
   "id": "c72fc84a",
   "metadata": {},
   "outputs": [
    {
     "name": "stdout",
     "output_type": "stream",
     "text": [
      "2\n",
      "3\n"
     ]
    }
   ],
   "source": [
    "print(2)\n",
    "print(3)"
   ]
  },
  {
   "cell_type": "code",
   "execution_count": 7,
   "id": "fa293b23",
   "metadata": {},
   "outputs": [
    {
     "name": "stdout",
     "output_type": "stream",
     "text": [
      "n is odd.\n",
      "n is even.\n",
      "n is odd.\n"
     ]
    }
   ],
   "source": [
    "n = input(\"type a number:\")\n",
    "n = int(n)\n",
    "if n % 2 == 0:\n",
    "    print(\"n is even.\")\n",
    "else:\n",
    "    print(\"n is odd.\")\n",
    "\n",
    "n = input(\"type a number:\")\n",
    "n = int(n)\n",
    "if n % 2 == 0:\n",
    "    print(\"n is even.\")\n",
    "else:\n",
    "    print(\"n is odd.\")\n",
    "\n",
    "n = input(\"type a number:\")\n",
    "n = int(n)\n",
    "if n % 2 == 0:\n",
    "    print(\"n is even.\")\n",
    "else:\n",
    "    print(\"n is odd.\")"
   ]
  },
  {
   "cell_type": "code",
   "execution_count": 2,
   "id": "d4cc95aa",
   "metadata": {},
   "outputs": [
    {
     "name": "stdout",
     "output_type": "stream",
     "text": [
      "n is even.\n",
      "n is odd.\n",
      "n is odd.\n"
     ]
    }
   ],
   "source": [
    "def even_odd():\n",
    "    n = input(\"type a number:\")\n",
    "    n = int(n)\n",
    "    if n % 2 == 0:\n",
    "        print(\"n is even.\")\n",
    "    else:\n",
    "        print(\"n is odd.\")\n",
    "\n",
    "even_odd()\n",
    "even_odd()\n",
    "even_odd()"
   ]
  },
  {
   "cell_type": "code",
   "execution_count": 1,
   "id": "a7bc8f2c",
   "metadata": {},
   "outputs": [
    {
     "name": "stdout",
     "output_type": "stream",
     "text": [
      "ロードさん、こんにちは！\n",
      "ゲストさん、こんにちは！\n"
     ]
    }
   ],
   "source": [
    "# オプション引数を持つ関数を定義する\n",
    "def greet(name = \"ゲスト\"):\n",
    "    print(name + \"さん、こんにちは！\")\n",
    "\n",
    "# 引数を指定して呼び出す\n",
    "greet(\"ロード\")\n",
    "\n",
    "# 引数を指定しないで呼び出す\n",
    "greet()"
   ]
  },
  {
   "cell_type": "code",
   "execution_count": 1,
   "id": "be4966ca",
   "metadata": {},
   "outputs": [
    {
     "name": "stdout",
     "output_type": "stream",
     "text": [
      "1\n",
      "2\n",
      "3\n"
     ]
    }
   ],
   "source": [
    "# グローバル変数\n",
    "x = 1\n",
    "y = 2\n",
    "z = 3\n",
    "\n",
    "def f():\n",
    "    print(x)\n",
    "    print(y)\n",
    "    print(z)\n",
    "\n",
    "f()"
   ]
  },
  {
   "cell_type": "code",
   "execution_count": 3,
   "id": "c8ddb8df",
   "metadata": {},
   "outputs": [
    {
     "ename": "TypeError",
     "evalue": "f() takes 0 positional arguments but 1 was given",
     "output_type": "error",
     "traceback": [
      "\u001b[31m---------------------------------------------------------------------------\u001b[39m",
      "\u001b[31mTypeError\u001b[39m                                 Traceback (most recent call last)",
      "\u001b[36mCell\u001b[39m\u001b[36m \u001b[39m\u001b[32mIn[3]\u001b[39m\u001b[32m, line 6\u001b[39m\n\u001b[32m      3\u001b[39m     y = \u001b[32m2\u001b[39m\n\u001b[32m      4\u001b[39m     z = \u001b[32m3\u001b[39m\n\u001b[32m----> \u001b[39m\u001b[32m6\u001b[39m \u001b[43mf\u001b[49m\u001b[43m(\u001b[49m\u001b[43mx\u001b[49m\u001b[43m)\u001b[49m\n\u001b[32m      7\u001b[39m f(y)\n\u001b[32m      8\u001b[39m f(z)\n",
      "\u001b[31mTypeError\u001b[39m: f() takes 0 positional arguments but 1 was given"
     ]
    }
   ],
   "source": [
    "def f():\n",
    "    x = 1\n",
    "    y = 2\n",
    "    z = 3\n",
    "\n",
    "f(x)\n",
    "f(y)\n",
    "f(z)"
   ]
  },
  {
   "cell_type": "code",
   "execution_count": 6,
   "id": "051e2f46",
   "metadata": {},
   "outputs": [
    {
     "name": "stdout",
     "output_type": "stream",
     "text": [
      "1\n",
      "2\n",
      "3\n"
     ]
    }
   ],
   "source": [
    "def f():\n",
    "    x = 1\n",
    "    y = 2\n",
    "    z = 3\n",
    "    print(x)\n",
    "    print(y)\n",
    "    print(z)\n",
    "\n",
    "f()"
   ]
  },
  {
   "cell_type": "code",
   "execution_count": 8,
   "id": "daa40747",
   "metadata": {},
   "outputs": [
    {
     "ename": "TypeError",
     "evalue": "f() takes 0 positional arguments but 1 was given",
     "output_type": "error",
     "traceback": [
      "\u001b[31m---------------------------------------------------------------------------\u001b[39m",
      "\u001b[31mTypeError\u001b[39m                                 Traceback (most recent call last)",
      "\u001b[36mCell\u001b[39m\u001b[36m \u001b[39m\u001b[32mIn[8]\u001b[39m\u001b[32m, line 8\u001b[39m\n\u001b[32m      5\u001b[39m     x += \u001b[32m1\u001b[39m\n\u001b[32m      6\u001b[39m     \u001b[38;5;28mprint\u001b[39m(x)\n\u001b[32m----> \u001b[39m\u001b[32m8\u001b[39m \u001b[43mf\u001b[49m\u001b[43m(\u001b[49m\u001b[43mx\u001b[49m\u001b[43m)\u001b[49m\n",
      "\u001b[31mTypeError\u001b[39m: f() takes 0 positional arguments but 1 was given"
     ]
    }
   ],
   "source": [
    "x = 100\n",
    "\n",
    "def f():\n",
    "    global x\n",
    "    x += 1\n",
    "    print(x)\n",
    "\n",
    "f()"
   ]
  },
  {
   "cell_type": "code",
   "execution_count": null,
   "id": "badb0040",
   "metadata": {},
   "outputs": [
    {
     "name": "stdout",
     "output_type": "stream",
     "text": [
      "4\n",
      "256\n"
     ]
    }
   ],
   "source": [
    "def f(x = 2):\n",
    "    return x ** x\n",
    "\n",
    "print(f())\n",
    "print(f(4))"
   ]
  },
  {
   "cell_type": "code",
   "execution_count": null,
   "id": "fb2d02d0",
   "metadata": {},
   "outputs": [
    {
     "name": "stdout",
     "output_type": "stream",
     "text": [
      "4\n",
      "256\n"
     ]
    }
   ],
   "source": [
    "def f(x = 2):\n",
    "    return x ** x\n",
    "\n",
    "print(f())\n",
    "print(f(4))"
   ]
  },
  {
   "cell_type": "code",
   "execution_count": null,
   "id": "8d244217",
   "metadata": {},
   "outputs": [
    {
     "name": "stdout",
     "output_type": "stream",
     "text": [
      "4\n",
      "256\n"
     ]
    }
   ],
   "source": [
    "def f(x = 2):\n",
    "    return x ** x\n",
    "\n",
    "print(f())\n",
    "print(f(4))"
   ]
  },
  {
   "cell_type": "code",
   "execution_count": 3,
   "id": "156ce322",
   "metadata": {},
   "outputs": [
    {
     "ename": "ZeroDivisionError",
     "evalue": "division by zero",
     "output_type": "error",
     "traceback": [
      "\u001b[31m---------------------------------------------------------------------------\u001b[39m",
      "\u001b[31mZeroDivisionError\u001b[39m                         Traceback (most recent call last)",
      "\u001b[36mCell\u001b[39m\u001b[36m \u001b[39m\u001b[32mIn[3]\u001b[39m\u001b[32m, line 6\u001b[39m\n\u001b[32m      4\u001b[39m a = \u001b[38;5;28mint\u001b[39m(a)\n\u001b[32m      5\u001b[39m b = \u001b[38;5;28mint\u001b[39m(b)\n\u001b[32m----> \u001b[39m\u001b[32m6\u001b[39m \u001b[38;5;28mprint\u001b[39m(\u001b[43ma\u001b[49m\u001b[43m \u001b[49m\u001b[43m/\u001b[49m\u001b[43m \u001b[49m\u001b[43mb\u001b[49m)\n",
      "\u001b[31mZeroDivisionError\u001b[39m: division by zero"
     ]
    }
   ],
   "source": [
    "# ２つの数を入力してもらい割る\n",
    "a = input(\"type a number:\")\n",
    "b = input(\"type another:\")\n",
    "a = int(a)\n",
    "b = int(b)\n",
    "print(a / b)"
   ]
  },
  {
   "cell_type": "code",
   "execution_count": null,
   "id": "2f99410b",
   "metadata": {},
   "outputs": [
    {
     "name": "stdout",
     "output_type": "stream",
     "text": [
      "b cannot be zero.\n"
     ]
    }
   ],
   "source": [
    "a = input(\"type a number:\")\n",
    "b = input(\"type another:\")\n",
    "a = int(a)\n",
    "b = int(b)\n",
    "try:\n",
    "    print(a/b)\n",
    "except ZeroDivisionError:\n",
    "    print(\"b cannot be zero.\")"
   ]
  },
  {
   "cell_type": "code",
   "execution_count": null,
   "id": "257c1634",
   "metadata": {},
   "outputs": [],
   "source": [
    "try:\n",
    "    a = input(\"type a number:\")\n",
    "    b = input(\"type another:\")\n",
    "    a = int(a)\n",
    "    b = int(b)\n",
    "    print(a / b)\n",
    "except(ZeroDivisionError,ValueError):\n",
    "    print(\"Invalid input.\")"
   ]
  },
  {
   "cell_type": "code",
   "execution_count": 7,
   "id": "667a3bbc",
   "metadata": {},
   "outputs": [
    {
     "name": "stdout",
     "output_type": "stream",
     "text": [
      "I will never get defined.\n"
     ]
    }
   ],
   "source": [
    "try:\n",
    "    10 / 0\n",
    "    \n",
    "except ZeroDivisionError:\n",
    "    c = \"I will never get defined.\"\n",
    "    print(c)"
   ]
  },
  {
   "cell_type": "code",
   "execution_count": null,
   "id": "c8734d7a",
   "metadata": {},
   "outputs": [],
   "source": [
    "def add(x, y):\n",
    "    \"\"\" \n",
    "    Return x + y.\n",
    "    :param x: int.\n",
    "    :param y: int.\n",
    "    :return: int sum of x and y\n",
    "    \"\"\"\n",
    "    return x + y"
   ]
  },
  {
   "cell_type": "code",
   "execution_count": 8,
   "id": "71ebef0e",
   "metadata": {},
   "outputs": [
    {
     "name": "stdout",
     "output_type": "stream",
     "text": [
      "部屋の中からは、部屋のハンマーが見えます。\n"
     ]
    },
    {
     "ename": "NameError",
     "evalue": "name 'room_tool' is not defined",
     "output_type": "error",
     "traceback": [
      "\u001b[31m---------------------------------------------------------------------------\u001b[39m",
      "\u001b[31mNameError\u001b[39m                                 Traceback (most recent call last)",
      "\u001b[36mCell\u001b[39m\u001b[36m \u001b[39m\u001b[32mIn[8]\u001b[39m\u001b[32m, line 12\u001b[39m\n\u001b[32m      9\u001b[39m my_room()\n\u001b[32m     11\u001b[39m \u001b[38;5;66;03m# ここで、部屋の外から中の道具を使おうとすると？\u001b[39;00m\n\u001b[32m---> \u001b[39m\u001b[32m12\u001b[39m \u001b[38;5;28mprint\u001b[39m(\u001b[43mroom_tool\u001b[49m)\n",
      "\u001b[31mNameError\u001b[39m: name 'room_tool' is not defined"
     ]
    }
   ],
   "source": [
    "# 「私の部屋」という名前の関数を定義します。\n",
    "def my_room():\n",
    "    # 部屋の中だけで使う道具を定義します。\n",
    "    room_tool = \"部屋のハンマー\"\n",
    "    print(\"部屋の中からは、\" + room_tool + \"が見えます。\")\n",
    "\n",
    "# ---ここからがメインの処理---\n",
    "# まず関数（私の部屋）を呼び出して、中の処理を実行します。\n",
    "my_room()\n",
    "\n",
    "# ここで、部屋の外から中の道具を使おうとすると？\n",
    "print(room_tool)"
   ]
  },
  {
   "cell_type": "code",
   "execution_count": null,
   "id": "66db5f45",
   "metadata": {},
   "outputs": [],
   "source": [
    "def add(a, b):\n",
    "    \"\"\"2つの数値を受け取り、その合計を返す関数。\n",
    "    \n",
    "    Args:\n",
    "        a(int):１つ目の数値\n",
    "        b(int):２つ目の数値\n",
    "    \n",
    "    Returns:\n",
    "        int: ２つの数値の合計。\n",
    "    \"\"\"\n",
    "    return a + b"
   ]
  },
  {
   "cell_type": "code",
   "execution_count": 9,
   "id": "f3f35f01",
   "metadata": {},
   "outputs": [
    {
     "name": "stdout",
     "output_type": "stream",
     "text": [
      "9\n"
     ]
    }
   ],
   "source": [
    "# ４章チャレンジ\n",
    "#1.  数字を入力値として受け取り、その数字を２乗した戻り値を返す関数\n",
    "x = input(\"数字を入力してください\")\n",
    "x = int(x)\n",
    "y = x ** 2\n",
    "print(y)\n"
   ]
  },
  {
   "cell_type": "code",
   "execution_count": 11,
   "id": "9a3ac2d6",
   "metadata": {},
   "outputs": [
    {
     "name": "stdout",
     "output_type": "stream",
     "text": [
      "Japan\n"
     ]
    }
   ],
   "source": [
    "#2. 文字列を引数とし、その文字列を出力\n",
    "string_j = \"Japan\"\n",
    "print(string_j)\n"
   ]
  },
  {
   "cell_type": "code",
   "execution_count": 15,
   "id": "9229d64e",
   "metadata": {},
   "outputs": [
    {
     "name": "stdout",
     "output_type": "stream",
     "text": [
      "14\n",
      "53\n"
     ]
    }
   ],
   "source": [
    "#3. ３つの必須引数と２つのオプション引数がある関数を書く\n",
    "def calculate_sum(a, b, c, d = 0, e = 0):\n",
    "    result = a + b + c + d + e\n",
    "    return result\n",
    "\n",
    "sum1 = calculate_sum(3, 4, 7)\n",
    "print(sum1)\n",
    "sum2 = calculate_sum(1, 3, 8, 9, 32)\n",
    "print(sum2)"
   ]
  },
  {
   "cell_type": "code",
   "execution_count": 16,
   "id": "ac5401d9",
   "metadata": {},
   "outputs": [
    {
     "ename": "RecursionError",
     "evalue": "maximum recursion depth exceeded",
     "output_type": "error",
     "traceback": [
      "\u001b[31m---------------------------------------------------------------------------\u001b[39m",
      "\u001b[31mRecursionError\u001b[39m                            Traceback (most recent call last)",
      "\u001b[36mCell\u001b[39m\u001b[36m \u001b[39m\u001b[32mIn[16]\u001b[39m\u001b[32m, line 13\u001b[39m\n\u001b[32m     10\u001b[39m     y = f(x) * \u001b[32m4\u001b[39m\n\u001b[32m     11\u001b[39m     \u001b[38;5;28;01mreturn\u001b[39;00m y\n\u001b[32m---> \u001b[39m\u001b[32m13\u001b[39m y1 = \u001b[43mf\u001b[49m\u001b[43m(\u001b[49m\u001b[32;43m3\u001b[39;49m\u001b[43m)\u001b[49m\n\u001b[32m     14\u001b[39m \u001b[38;5;28mprint\u001b[39m(y1)\n",
      "\u001b[36mCell\u001b[39m\u001b[36m \u001b[39m\u001b[32mIn[16]\u001b[39m\u001b[32m, line 10\u001b[39m, in \u001b[36mf\u001b[39m\u001b[34m(y)\u001b[39m\n\u001b[32m      9\u001b[39m \u001b[38;5;28;01mdef\u001b[39;00m\u001b[38;5;250m \u001b[39m\u001b[34mf\u001b[39m(y):\n\u001b[32m---> \u001b[39m\u001b[32m10\u001b[39m     y = \u001b[43mf\u001b[49m\u001b[43m(\u001b[49m\u001b[43mx\u001b[49m\u001b[43m)\u001b[49m * \u001b[32m4\u001b[39m\n\u001b[32m     11\u001b[39m     \u001b[38;5;28;01mreturn\u001b[39;00m y\n",
      "\u001b[36mCell\u001b[39m\u001b[36m \u001b[39m\u001b[32mIn[16]\u001b[39m\u001b[32m, line 10\u001b[39m, in \u001b[36mf\u001b[39m\u001b[34m(y)\u001b[39m\n\u001b[32m      9\u001b[39m \u001b[38;5;28;01mdef\u001b[39;00m\u001b[38;5;250m \u001b[39m\u001b[34mf\u001b[39m(y):\n\u001b[32m---> \u001b[39m\u001b[32m10\u001b[39m     y = \u001b[43mf\u001b[49m\u001b[43m(\u001b[49m\u001b[43mx\u001b[49m\u001b[43m)\u001b[49m * \u001b[32m4\u001b[39m\n\u001b[32m     11\u001b[39m     \u001b[38;5;28;01mreturn\u001b[39;00m y\n",
      "    \u001b[31m[... skipping similar frames: f at line 10 (2974 times)]\u001b[39m\n",
      "\u001b[36mCell\u001b[39m\u001b[36m \u001b[39m\u001b[32mIn[16]\u001b[39m\u001b[32m, line 10\u001b[39m, in \u001b[36mf\u001b[39m\u001b[34m(y)\u001b[39m\n\u001b[32m      9\u001b[39m \u001b[38;5;28;01mdef\u001b[39;00m\u001b[38;5;250m \u001b[39m\u001b[34mf\u001b[39m(y):\n\u001b[32m---> \u001b[39m\u001b[32m10\u001b[39m     y = \u001b[43mf\u001b[49m\u001b[43m(\u001b[49m\u001b[43mx\u001b[49m\u001b[43m)\u001b[49m * \u001b[32m4\u001b[39m\n\u001b[32m     11\u001b[39m     \u001b[38;5;28;01mreturn\u001b[39;00m y\n",
      "\u001b[31mRecursionError\u001b[39m: maximum recursion depth exceeded"
     ]
    }
   ],
   "source": [
    "#4. ２つの関数からなるプログラムを書く  \n",
    "#\t１つ目の関数は整数を引数として受け取り、２で割って求められる整数を出力として返す  \n",
    "#\t２つ目は整数を引数として受け取り４でかけた整数を返す  \n",
    "#\tプログラム内で、１つ目の関数を呼び、戻り値を変数として保存し、２つ目の関数の引数として渡そう\n",
    "def f(x):\n",
    "    x = int(x)\n",
    "    x = x // 2\n",
    "\n",
    "def f(y):\n",
    "    y = f(x) * 4\n",
    "    return y\n",
    "\n",
    "y1 = f(3)\n",
    "print(y1)\n"
   ]
  },
  {
   "cell_type": "code",
   "execution_count": null,
   "id": "bffa1437",
   "metadata": {},
   "outputs": [
    {
     "name": "stdout",
     "output_type": "stream",
     "text": [
      "1\n",
      "4\n",
      "10\n"
     ]
    },
    {
     "ename": "NameError",
     "evalue": "name 'x' is not defined",
     "output_type": "error",
     "traceback": [
      "\u001b[31m---------------------------------------------------------------------------\u001b[39m",
      "\u001b[31mNameError\u001b[39m                                 Traceback (most recent call last)",
      "\u001b[36mCell\u001b[39m\u001b[36m \u001b[39m\u001b[32mIn[6]\u001b[39m\u001b[32m, line 25\u001b[39m\n\u001b[32m     21\u001b[39m \u001b[38;5;28mprint\u001b[39m(z2)\n\u001b[32m     22\u001b[39m \u001b[38;5;66;03m#今度は最初の関数？難しい\u001b[39;00m\n\u001b[32m     23\u001b[39m \u001b[38;5;66;03m#インデントを変更する　結果が変わらない\u001b[39;00m\n\u001b[32m     24\u001b[39m \u001b[38;5;66;03m# 読解力がなかったらしい\u001b[39;00m\n\u001b[32m---> \u001b[39m\u001b[32m25\u001b[39m a = f(\u001b[43mx\u001b[49m)\n\u001b[32m     26\u001b[39m b = f1(a)\n\u001b[32m     27\u001b[39m \u001b[38;5;28mprint\u001b[39m(b)\n",
      "\u001b[31mNameError\u001b[39m: name 'x' is not defined"
     ]
    }
   ],
   "source": [
    "#4. ２つの関数からなるプログラムを書く  \n",
    "#\t１つ目の関数は整数を引数として受け取り、２で割って求められる整数を出力として返す  \n",
    "#\t２つ目は整数を引数として受け取り４でかけた整数を返す  \n",
    "#\tプログラム内で、１つ目の関数を呼び、戻り値を変数として保存し、２つ目の関数の引数として渡そう\n",
    "def f(x):\n",
    "    y = x // 2\n",
    "    return y\n",
    "\n",
    "def f1(y):\n",
    "    z = y * 4\n",
    "    return z\n",
    "\n",
    "z = f(3)\n",
    "print(z)\n",
    "# 1つ目の関数を呼び出すことができない\n",
    "# １つ目と２つ目の関数の名前を変える\n",
    "z1 = f(8)\n",
    "print(z1)\n",
    "\n",
    "z2 = f(21)\n",
    "print(z2)\n",
    "#今度は最初の関数？難しい\n",
    "#インデントを変更する　結果が変わらない\n",
    "# 読解力がなかったらしい"
   ]
  },
  {
   "cell_type": "code",
   "execution_count": null,
   "id": "2e2f171d",
   "metadata": {},
   "outputs": [
    {
     "name": "stdout",
     "output_type": "stream",
     "text": [
      "20\n"
     ]
    }
   ],
   "source": [
    "#4. ２つの関数からなるプログラムを書く  \n",
    "#\t１つ目の関数は整数を引数として受け取り、２で割って求められる整数を出力として返す  \n",
    "#\t２つ目は整数を引数として受け取り４でかけた整数を返す  \n",
    "#\tプログラム内で、１つ目の関数を呼び、戻り値を変数として保存し、２つ目の関数の引数として渡そう\n",
    "def f(x):\n",
    "    y = x // 2\n",
    "    return y\n",
    "\n",
    "def f1(y):\n",
    "    z = y * 4\n",
    "    return z\n",
    "\n",
    "a = f(10)\n",
    "b = f1(a)\n",
    "print(b)\n",
    "#　コードを書くのは楽しいけど疲れる\n",
    "#  変数に関する理解不足・・ローカル変数で同名の別人"
   ]
  },
  {
   "cell_type": "code",
   "execution_count": null,
   "id": "c345c5b5",
   "metadata": {},
   "outputs": [
    {
     "ename": "TypeError",
     "evalue": "'str' object is not callable",
     "output_type": "error",
     "traceback": [
      "\u001b[31m---------------------------------------------------------------------------\u001b[39m",
      "\u001b[31mTypeError\u001b[39m                                 Traceback (most recent call last)",
      "\u001b[36mCell\u001b[39m\u001b[36m \u001b[39m\u001b[32mIn[13]\u001b[39m\u001b[32m, line 7\u001b[39m\n\u001b[32m      4\u001b[39m     x_float = \u001b[38;5;28mfloat\u001b[39m(x)\n\u001b[32m      5\u001b[39m     \u001b[38;5;28;01mreturn\u001b[39;00m x_float\n\u001b[32m----> \u001b[39m\u001b[32m7\u001b[39m x_float = \u001b[43mx_str\u001b[49m\u001b[43m(\u001b[49m\u001b[32;43m14\u001b[39;49m\u001b[43m)\u001b[49m\n\u001b[32m      8\u001b[39m \u001b[38;5;28mprint\u001b[39m(x_float)\n\u001b[32m      9\u001b[39m \u001b[38;5;66;03m# ひとまずfloat型に変換は成功→例外処理\u001b[39;00m\n\u001b[32m     10\u001b[39m \u001b[38;5;66;03m# try: except\u001b[39;00m\n",
      "\u001b[31mTypeError\u001b[39m: 'str' object is not callable"
     ]
    }
   ],
   "source": [
    "#5. 文字列をfloat型に変換して戻り値とする関数を書く  \n",
    "#\t起こり得る例外をキャッチする例外処理を書こう\n",
    "def x_float(x):\n",
    "    x_float = float(x)\n",
    "    return x_float\n",
    "\n",
    "x_float = x_str(14)\n",
    "print(x_float)\n",
    "# ひとまずfloat型に変換は成功→例外処理\n",
    "# try: except\n",
    "x_str = input(\"数字を入れてください\")\n",
    "def x_float(x_str):\n",
    "    result = float(x_str)\n",
    "    return result\n",
    "\n",
    "try:\n",
    "    print(result)\n",
    "except TypeError:\n",
    "    print(\"文字は入れないでください！\")\n",
    "# 関係のないつもりの７行目でエラー"
   ]
  },
  {
   "cell_type": "code",
   "execution_count": 15,
   "id": "2a8b7aa4",
   "metadata": {},
   "outputs": [
    {
     "ename": "NameError",
     "evalue": "name 'result' is not defined",
     "output_type": "error",
     "traceback": [
      "\u001b[31m---------------------------------------------------------------------------\u001b[39m",
      "\u001b[31mNameError\u001b[39m                                 Traceback (most recent call last)",
      "\u001b[36mCell\u001b[39m\u001b[36m \u001b[39m\u001b[32mIn[15]\u001b[39m\u001b[32m, line 7\u001b[39m\n\u001b[32m      4\u001b[39m     \u001b[38;5;28;01mreturn\u001b[39;00m result\n\u001b[32m      6\u001b[39m \u001b[38;5;28;01mtry\u001b[39;00m:\n\u001b[32m----> \u001b[39m\u001b[32m7\u001b[39m     \u001b[38;5;28mprint\u001b[39m(\u001b[43mresult\u001b[49m)\n\u001b[32m      8\u001b[39m \u001b[38;5;28;01mexcept\u001b[39;00m \u001b[38;5;167;01mTypeError\u001b[39;00m:\n\u001b[32m      9\u001b[39m     \u001b[38;5;28mprint\u001b[39m(\u001b[33m\"\u001b[39m\u001b[33m文字は入れないでください！\u001b[39m\u001b[33m\"\u001b[39m)\n",
      "\u001b[31mNameError\u001b[39m: name 'result' is not defined"
     ]
    }
   ],
   "source": [
    "x_str = input(\"数字を入れてください\")\n",
    "def x_float(x_str):\n",
    "    result = float(x_str)\n",
    "    return result\n",
    "\n",
    "try:\n",
    "    print(result)\n",
    "except TypeError:\n",
    "    print(\"文字は入れないでください！\")"
   ]
  },
  {
   "cell_type": "code",
   "execution_count": null,
   "id": "285aa084",
   "metadata": {},
   "outputs": [
    {
     "ename": "ValueError",
     "evalue": "could not convert string to float: 'abcd'",
     "output_type": "error",
     "traceback": [
      "\u001b[31m---------------------------------------------------------------------------\u001b[39m",
      "\u001b[31mValueError\u001b[39m                                Traceback (most recent call last)",
      "\u001b[36mCell\u001b[39m\u001b[36m \u001b[39m\u001b[32mIn[19]\u001b[39m\u001b[32m, line 7\u001b[39m\n\u001b[32m      4\u001b[39m     \u001b[38;5;28;01mreturn\u001b[39;00m result\n\u001b[32m      6\u001b[39m \u001b[38;5;28;01mtry\u001b[39;00m:\n\u001b[32m----> \u001b[39m\u001b[32m7\u001b[39m     \u001b[38;5;28mprint\u001b[39m(\u001b[43mx_float\u001b[49m\u001b[43m(\u001b[49m\u001b[43mx_str\u001b[49m\u001b[43m)\u001b[49m)\n\u001b[32m      8\u001b[39m \u001b[38;5;28;01mexcept\u001b[39;00m \u001b[38;5;167;01mTypeError\u001b[39;00m:\n\u001b[32m      9\u001b[39m     \u001b[38;5;28mprint\u001b[39m(\u001b[33m\"\u001b[39m\u001b[33m文字は入れないでください！\u001b[39m\u001b[33m\"\u001b[39m)\n",
      "\u001b[36mCell\u001b[39m\u001b[36m \u001b[39m\u001b[32mIn[19]\u001b[39m\u001b[32m, line 3\u001b[39m, in \u001b[36mx_float\u001b[39m\u001b[34m(x_str)\u001b[39m\n\u001b[32m      2\u001b[39m \u001b[38;5;28;01mdef\u001b[39;00m\u001b[38;5;250m \u001b[39m\u001b[34mx_float\u001b[39m(x_str):\n\u001b[32m----> \u001b[39m\u001b[32m3\u001b[39m     result = \u001b[38;5;28;43mfloat\u001b[39;49m\u001b[43m(\u001b[49m\u001b[43mx_str\u001b[49m\u001b[43m)\u001b[49m\n\u001b[32m      4\u001b[39m     \u001b[38;5;28;01mreturn\u001b[39;00m result\n",
      "\u001b[31mValueError\u001b[39m: could not convert string to float: 'abcd'"
     ]
    }
   ],
   "source": [
    "#5. 文字列をfloat型に変換して戻り値とする関数を書く  \n",
    "#\t起こり得る例外をキャッチする例外処理を書こう\n",
    "x_str = input(\"数字を入れてください\")\n",
    "def x_float(x_str):\n",
    "    result = float(x_str)\n",
    "    return result\n",
    "\n",
    "try:\n",
    "    print(x_float(x_str))\n",
    "except TypeError:\n",
    "    print(\"文字は入れないでください！\")\n",
    "# TypeErrorではなくValueErrorらしい"
   ]
  },
  {
   "cell_type": "code",
   "execution_count": 20,
   "id": "4ce358d8",
   "metadata": {},
   "outputs": [
    {
     "name": "stdout",
     "output_type": "stream",
     "text": [
      "文字は入れないでください！\n"
     ]
    }
   ],
   "source": [
    "#5. 文字列をfloat型に変換して戻り値とする関数を書く  \n",
    "#\t起こり得る例外をキャッチする例外処理を書こう\n",
    "x_str = input(\"数字を入れてください\")\n",
    "def x_float(x_str):\n",
    "    result = float(x_str)\n",
    "    return result\n",
    "\n",
    "try:\n",
    "    print(x_float(x_str))\n",
    "except ValueError:\n",
    "    print(\"文字は入れないでください！\")"
   ]
  },
  {
   "cell_type": "code",
   "execution_count": null,
   "id": "42f6489e",
   "metadata": {},
   "outputs": [],
   "source": [
    "# うまくいったがさらに進化！\n",
    "# お手本コード\n",
    "def safe_string_to_float(s)\n",
    "    \"\"\"文字列をfloatに安全に変換する。\n",
    "    失敗した場合はNoneを返す。\"\"\"\n",
    "    try:\n",
    "        # まず変換を試みる\n",
    "        retrun float(s)\n",
    "    except ValueError:\n",
    "        # もしValueErrorが起きたら、エラーと分かるように\n",
    "        # Noneを返す\n",
    "        return None\n",
    "    \n",
    "# ここからは実行部分\n",
    "user_input = input(\"数字を入れてください\")\n",
    "\n",
    "# 安全な関数を呼び出す\n",
    "result = safe_string_to_float(user_input)\n",
    "\n",
    "# 戻り値がNoneかどうか、で成功か失敗かを判断する\n",
    "if result is not None:\n",
    "    print(\"変換結果：\",result)\n",
    "else:\n",
    "    print(\"数字以外の文字は変換できませんでした。\")"
   ]
  },
  {
   "cell_type": "code",
   "execution_count": null,
   "id": "d5231bb7",
   "metadata": {},
   "outputs": [],
   "source": [
    "\n",
    "#6. １から５まで書いた関数にdocstringを追加"
   ]
  },
  {
   "cell_type": "code",
   "execution_count": 21,
   "id": "180397b7",
   "metadata": {},
   "outputs": [
    {
     "name": "stdout",
     "output_type": "stream",
     "text": [
      "'chapter5.txt'が作成されました\n"
     ]
    }
   ],
   "source": [
    "from pathlib import Path\n",
    "chapter5 = Path('chapter5.txt')\n",
    "chapter5.touch()\n",
    "print(f\"'{chapter5}'が作成されました\")"
   ]
  },
  {
   "cell_type": "code",
   "execution_count": null,
   "id": "d74e969f",
   "metadata": {},
   "outputs": [
    {
     "name": "stdout",
     "output_type": "stream",
     "text": [
      "あなたの成績は 不可\n"
     ]
    }
   ],
   "source": [
    "# 得点を入力してもらう\n",
    "your_score = input(\"あなたの点数は？\")\n",
    "\n",
    "# 判定する関数\n",
    "def get_grade(your_score):\n",
    "    your_score = int(your_score)\n",
    "    if your_score >= 80:\n",
    "        return(\"優\")\n",
    "    elif your_score >= 60:\n",
    "        return(\"良\")\n",
    "    elif your_score >= 40:\n",
    "        return(\"可\")\n",
    "    else:\n",
    "        return(\"不可\")\n",
    "# それだけではダメ\n",
    "your_grade = get_grade(your_score) \n",
    "print(\"あなたの成績は\", your_grade)\n",
    "# Noneが出る　　なぜ？\n",
    "# print(get_grade)は失敗\n",
    "# print(your_score)は当然点数が出るだけ\n",
    "# 関数を呼び出す手続きが必要？\n",
    "# give up\n",
    "# returnとprint returnは報告書でprintは放送\n",
    "# 報告書をもらえないと放送できないらしい"
   ]
  },
  {
   "cell_type": "code",
   "execution_count": null,
   "id": "ef2c213f",
   "metadata": {},
   "outputs": [
    {
     "name": "stdout",
     "output_type": "stream",
     "text": [
      "あなたの入場料は1200円です。\n"
     ]
    }
   ],
   "source": [
    "# 年齢を入力すると、入場料を教えてくれる発売機\n",
    "# input()で年齢を尋ねる\n",
    "age = input(\"あなたはおいくつですか？\")\n",
    "\n",
    "# calculat_fee(age)という名前の関数\n",
    "# ageを引数として受け取る\n",
    "def calculate_fee(age):\n",
    "    your_age = int(age)\n",
    "# 年齢に応じて、以下の料金を報告\n",
    "# ５歳以下は０\n",
    "    if your_age <= 5:\n",
    "        return(\"入場無料\")\n",
    "# ６歳から12歳は500\n",
    "    elif your_age <= 12:\n",
    "        return(\"あなたの入場料は500円です。\")\n",
    "    # 13歳以上は1200\n",
    "    else:\n",
    "        return(\"あなたの入場料は1200円です。\")\n",
    "\n",
    "# 関数の呼び出し\n",
    "your_fee = calculate_fee(age)\n",
    "# 料金の表示\n",
    "print(your_fee)"
   ]
  },
  {
   "cell_type": "code",
   "execution_count": 5,
   "id": "24b792c1",
   "metadata": {},
   "outputs": [
    {
     "name": "stdout",
     "output_type": "stream",
     "text": [
      "あなたの入場料は1200円です。\n"
     ]
    }
   ],
   "source": [
    "# お手本のコード\n",
    "# 年齢を入力\n",
    "age_str = input(\"あなたはおいくつですか？\")\n",
    "\n",
    "def calculate_fee(age):\n",
    "    \"\"\"年齢(int)を受け取り、\n",
    "    料金(int)を返すことに専念する関数\"\"\"\n",
    "    if age <= 5:\n",
    "        return 0 # 数値の０を返す\n",
    "    elif age <= 12:\n",
    "        return 500 # 数値の５００を返す\n",
    "    else:\n",
    "        return 1200 # 数値の１２００を返す\n",
    "\n",
    "# メインの処理\n",
    "# １. 文字列を数値に変換\n",
    "age_num = int(age_str) \n",
    "# ２. 関数に計算を依頼し、料金の数値を受け取る\n",
    "fee = calculate_fee(age_num)\n",
    "\n",
    "# 3. メインが最終的なメッセージを組み立てて発表する\n",
    "if fee == 0:\n",
    "    print(\"あなたの入場料は無料です。\")\n",
    "else:\n",
    "    # f-stringを使うと、文字列と変数を綺麗に連結できる\n",
    "    print(f\"あなたの入場料は{fee}円です。\")"
   ]
  },
  {
   "cell_type": "code",
   "execution_count": null,
   "id": "bd848cd6",
   "metadata": {},
   "outputs": [],
   "source": []
  }
 ],
 "metadata": {
  "kernelspec": {
   "display_name": "Python (独学プログラマー用)",
   "language": "python",
   "name": "dokugaku-env"
  },
  "language_info": {
   "codemirror_mode": {
    "name": "ipython",
    "version": 3
   },
   "file_extension": ".py",
   "mimetype": "text/x-python",
   "name": "python",
   "nbconvert_exporter": "python",
   "pygments_lexer": "ipython3",
   "version": "3.12.4"
  }
 },
 "nbformat": 4,
 "nbformat_minor": 5
}
