{
 "cells": [
  {
   "cell_type": "code",
   "execution_count": null,
   "id": "d539da32",
   "metadata": {},
   "outputs": [],
   "source": [
    "# 1. ゲームを開始（準備完了）\n",
    "game = Game()\n",
    "\n",
    "# 2. 各プレイヤーの手札の枚数を表示\n",
    "print(f\"{game.player1.name}の手札の枚数: {game.player1.check_hand_size()}\")\n",
    "print(f\"{game.player2.name}の手札の枚数: {game.player2.check_hand_size()}\")\n",
    "\n",
    "# 3. デッキの残り枚数を表示\n",
    "print(f\"デッキの残り枚数: {len(game.deck.cards)}\")"
   ]
  },
  {
   "cell_type": "code",
   "execution_count": null,
   "id": "136b6dd0",
   "metadata": {},
   "outputs": [],
   "source": []
  }
 ],
 "metadata": {
  "language_info": {
   "name": "python"
  }
 },
 "nbformat": 4,
 "nbformat_minor": 5
}
