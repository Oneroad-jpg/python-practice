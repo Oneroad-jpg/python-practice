{
 "cells": [
  {
   "cell_type": "code",
   "execution_count": null,
   "id": "8e093941",
   "metadata": {},
   "outputs": [],
   "source": [
    "# 音楽家という職業の履歴書を作成\n",
    "# 音楽家という職業の履歴書フォーマットを作成\n",
    "class MusicPlayer:\n",
    "    # 音楽家の履歴書のフォーマットを規定\n",
    "    # →自分用に履歴書をカスタマイズする最初の作業\n",
    "    def __init__(self):\n",
    "        # 自分のレパートリーのリストを設定\n",
    "        # 自分のレパートリーのリストに書き込む作業\n",
    "        self.songs = []"
   ]
  },
  {
   "cell_type": "code",
   "execution_count": null,
   "id": "7e3bbea9",
   "metadata": {},
   "outputs": [],
   "source": []
  }
 ],
 "metadata": {
  "kernelspec": {
   "display_name": "Python (独学プログラマー用)",
   "language": "python",
   "name": "dokugaku-env"
  },
  "language_info": {
   "codemirror_mode": {
    "name": "ipython",
    "version": 3
   },
   "file_extension": ".py",
   "mimetype": "text/x-python",
   "name": "python",
   "nbconvert_exporter": "python",
   "pygments_lexer": "ipython3",
   "version": "3.12.4"
  }
 },
 "nbformat": 4,
 "nbformat_minor": 5
}
