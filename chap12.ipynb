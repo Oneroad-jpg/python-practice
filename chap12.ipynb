{
 "cells": [
  {
   "cell_type": "code",
   "execution_count": null,
   "id": "8e093941",
   "metadata": {},
   "outputs": [],
   "source": [
    "# 音楽家という職業の履歴書を作成\n",
    "# 音楽家という職業の履歴書フォーマットを作成\n",
    "class MusicPlayer:\n",
    "    # 音楽家の履歴書のフォーマットを規定\n",
    "    # →自分用に履歴書をカスタマイズする最初の作業\n",
    "    def __init__(self):\n",
    "        # 自分のレパートリーのリストを設定\n",
    "        # 自分のレパートリーのリストに書き込む作業\n",
    "        self.songs = []"
   ]
  },
  {
   "cell_type": "code",
   "execution_count": 10,
   "id": "2703bcf3",
   "metadata": {},
   "outputs": [],
   "source": [
    "\"\"\"チャレンジ１２章\"\"\"\n",
    "# モジュール用のセル\n",
    "\n",
    "# チャレンジ２に使用\n",
    "import math"
   ]
  },
  {
   "cell_type": "code",
   "execution_count": null,
   "id": "7e3bbea9",
   "metadata": {},
   "outputs": [],
   "source": [
    "\"\"\"\n",
    "1. りんごと言われて思い浮かぶ\n",
    "４つの属性を考える。\n",
    "その４つの属性をインスタンス変数に持つ\n",
    "クラスを定義する\"\"\"\n",
    "# Appleクラスを作成\n",
    "class Apple:\n",
    "    # initで初期化\n",
    "    def __init__(self, c, w, v, d):\n",
    "        # 色・重さ・品種・出荷日をインスタンス変数に設定\n",
    "        self.color = c\n",
    "        self.weight = w\n",
    "        self.variety = v\n",
    "        self.shipping_date = d"
   ]
  },
  {
   "cell_type": "code",
   "execution_count": 3,
   "id": "931f29d2",
   "metadata": {},
   "outputs": [
    {
     "name": "stdout",
     "output_type": "stream",
     "text": [
      "78.53981633974483\n"
     ]
    }
   ],
   "source": [
    "\"\"\"2. 円を表す\n",
    "Circleクラスを定義しよう。\n",
    "そのクラスに、面積を計算して返す\n",
    "メソッドareaを持たせよう。\n",
    "面積の計算には、\n",
    "Pythonの組み込みモジュールmathの\n",
    "pi定数が使えます。\n",
    "次に、Circleオブジェクトを作って、\n",
    "areaメソッドを呼び出し、\n",
    "結果を出力しよう。\"\"\"\n",
    "\n",
    "class Circle:\n",
    "    def __init__(self, r):\n",
    "        self.radius = r\n",
    "\n",
    "    def area(self):\n",
    "        return math.pi * self.radius ** 2\n",
    "    \n",
    "cir1 = Circle(5)\n",
    "print(cir1.area())"
   ]
  }
 ],
 "metadata": {
  "kernelspec": {
   "display_name": "Python (独学プログラマー用)",
   "language": "python",
   "name": "dokugaku-env"
  },
  "language_info": {
   "codemirror_mode": {
    "name": "ipython",
    "version": 3
   },
   "file_extension": ".py",
   "mimetype": "text/x-python",
   "name": "python",
   "nbconvert_exporter": "python",
   "pygments_lexer": "ipython3",
   "version": "3.12.4"
  }
 },
 "nbformat": 4,
 "nbformat_minor": 5
}
