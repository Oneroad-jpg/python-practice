{
 "cells": [
  {
   "cell_type": "code",
   "execution_count": 3,
   "id": "b2fe5e37",
   "metadata": {},
   "outputs": [],
   "source": [
    "class Taxi:\n",
    "    def __init__(self):\n",
    "        # taxi内部の情報。乗客が直接触るべきではないデータです。\n",
    "        # Pythonでは、変数名の前nアンダースコア（＿）をつけることで\n",
    "        # 「これは内部用の変数なので、外部から直接変更しないでくださいね」\n",
    "        # という開発者同士の紳士協定のような合図になります。\n",
    "        self._current_fare = 420 # 初乗り運賃\n",
    "        self._is_engine_on = False\n",
    "\n",
    "# ---ここから下は、乗客が利用できる公開された操作（メソッド）です---\n",
    "# ---これが抽象化された、シンプルな使い方に当たります---\n",
    "\n",
    "    def start_engine(self):\n",
    "        \"\"\"\n",
    "        エンジンをかける（乗客はキーを回す仕組みを知らなくて良い）\n",
    "        \"\"\"\n",
    "        print(\"ブルルン！エンジンをかけました。\")\n",
    "        self._is_engine_on = True\n",
    "\n",
    "\n",
    "    def drive(self, distance_km):\n",
    "        \"\"\"\n",
    "        指定された距離を走る（乗客はアクセル操作を知らなくて良い）\n",
    "        \"\"\"\n",
    "        if self._is_engine_on:\n",
    "            fare_increase = distance_km * 90\n",
    "            self._current_fare += fare_increase\n",
    "            print(f\"{distance_km}km 走行しました。\")\n",
    "        else:\n",
    "            print(\"エンジンがかかっていません。まずはエンジンをかけてください。\")\n",
    "\n",
    "    def show_fare(self):\n",
    "        \"\"\"\n",
    "        現在の料金を確認する（乗客は料金計算の仕組みを知らなくて良い）\n",
    "        \"\"\"\n",
    "        print(f\"現在の料金は{self._current_fare}円です。\")\n"
   ]
  },
  {
   "cell_type": "code",
   "execution_count": 5,
   "id": "287679a3",
   "metadata": {},
   "outputs": [
    {
     "name": "stdout",
     "output_type": "stream",
     "text": [
      "タクシーに乗りました。\n",
      "ブルルン！エンジンをかけました。\n",
      "10km 走行しました。\n",
      "現在の料金は1320円です。\n",
      "5km 走行しました。\n",
      "現在の料金は1770円です。\n"
     ]
    }
   ],
   "source": [
    "# --- ここからが、設計図（クラス）から実物（インスタンス）を作り、操作するコードです ---\n",
    "\n",
    "# 1. Taxiクラスの設計図から、my_taxiという名前nタクシーを一台作ります。\n",
    "# これを「インスタンス化と言います。\n",
    "my_taxi = Taxi()\n",
    "# ※クラス名を　Taxi のように始めるのが一般的なので\n",
    "#  クラス定義の方を class Taxi:　に修正すると、より綺麗になりますね。→修正済み\n",
    "\n",
    "# 2. 乗客として、my_taxiに指示を出してみましょう\n",
    "print(\"タクシーに乗りました。\")\n",
    "\n",
    "# 3. まずはエンジンをかけます。\n",
    "my_taxi.start_engine()\n",
    "\n",
    "# 4. 10Km走ってもらいます\n",
    "my_taxi.drive(10)\n",
    "\n",
    "# 5. 現在の料金を確認します。\n",
    "my_taxi.show_fare()\n",
    "\n",
    "# 6. さらに5Km走ってもらいます。\n",
    "my_taxi.drive(5)\n",
    "\n",
    "# 7. 最終的な料金を確認します。\n",
    "my_taxi.show_fare()"
   ]
  },
  {
   "cell_type": "code",
   "execution_count": null,
   "id": "555063f1",
   "metadata": {},
   "outputs": [],
   "source": []
  }
 ],
 "metadata": {
  "kernelspec": {
   "display_name": "Python (独学プログラマー用)",
   "language": "python",
   "name": "dokugaku-env"
  },
  "language_info": {
   "codemirror_mode": {
    "name": "ipython",
    "version": 3
   },
   "file_extension": ".py",
   "mimetype": "text/x-python",
   "name": "python",
   "nbconvert_exporter": "python",
   "pygments_lexer": "ipython3",
   "version": "3.12.4"
  }
 },
 "nbformat": 4,
 "nbformat_minor": 5
}
