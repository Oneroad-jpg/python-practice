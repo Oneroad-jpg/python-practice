{
 "cells": [
  {
   "cell_type": "code",
   "execution_count": 2,
   "id": "53c3a9c3",
   "metadata": {},
   "outputs": [
    {
     "name": "stdout",
     "output_type": "stream",
     "text": [
      "--- Push (追加) ---\n",
      "10, 20, 30の順に追加しました。\n",
      "現在のスタックの状態: [10, 20, 30]\n",
      "\n",
      "--- Pop (取り出し) ---\n",
      "1回目に取り出されたデータ：30\n",
      "Pop後のスタックの状態：[10, 20]\n",
      "\n",
      "2回目に取り出されたデータ：20\n",
      "Pop後のスタックの状態：[10]\n",
      "\n",
      "最終的なスタックの状態: [10]\n"
     ]
    }
   ],
   "source": [
    "# 1. スタックとして使用する空のリストを準備\n",
    "stack = []\n",
    "\n",
    "# 2. スタックにデータを Push (追加) していく\n",
    "print(\"--- Push (追加) ---\")\n",
    "stack.append(10)\n",
    "stack.append(20)\n",
    "stack.append(30)\n",
    "print(\"10, 20, 30の順に追加しました。\")\n",
    "\n",
    "print(f\"現在のスタックの状態: {stack}\")\n",
    "\n",
    "# 3. スタックからデータを Pop (取り出し) していく\n",
    "print(\"\\n--- Pop (取り出し) ---\")\n",
    "item1 = stack.pop()\n",
    "print(f\"1回目に取り出されたデータ：{item1}\")\n",
    "print(f\"Pop後のスタックの状態：{stack}\")\n",
    "\n",
    "item2 = stack.pop()\n",
    "print(f\"\\n2回目に取り出されたデータ：{item2}\")\n",
    "print(f\"Pop後のスタックの状態：{stack}\")\n",
    "print(f\"\\n最終的なスタックの状態: {stack}\")"
   ]
  },
  {
   "cell_type": "code",
   "execution_count": null,
   "id": "1e5fbe3c",
   "metadata": {},
   "outputs": [],
   "source": []
  }
 ],
 "metadata": {
  "kernelspec": {
   "display_name": "Python (独学プログラマー用)",
   "language": "python",
   "name": "dokugaku-env"
  },
  "language_info": {
   "codemirror_mode": {
    "name": "ipython",
    "version": 3
   },
   "file_extension": ".py",
   "mimetype": "text/x-python",
   "name": "python",
   "nbconvert_exporter": "python",
   "pygments_lexer": "ipython3",
   "version": "3.12.4"
  }
 },
 "nbformat": 4,
 "nbformat_minor": 5
}
