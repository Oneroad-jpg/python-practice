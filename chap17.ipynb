{
 "cells": [
  {
   "cell_type": "code",
   "execution_count": 4,
   "id": "0acb8642",
   "metadata": {},
   "outputs": [
    {
     "name": "stdout",
     "output_type": "stream",
     "text": [
      "《捜査令状》: ca*n\n",
      "\n",
      "「cn」への捜査結果: マッチしました！ (発見場所: cn)\n",
      "「can」への捜査結果: マッチしました！ (発見場所: can)\n",
      "「caaan」への捜査結果: マッチしました！ (発見場所: caaan)\n",
      "「cdn」への捜査結果: 該当なし (None)\n"
     ]
    }
   ],
   "source": [
    "# 1. 正規表現チームをインポート\n",
    "import re\n",
    "\n",
    "# 2. 《捜査令状》\n",
    "pattern = r\"ca*n\"\n",
    "\n",
    "# 3. 捜査対象のリスト\n",
    "texts = [\n",
    "    \"cn\",     # a が 0回\n",
    "    \"can\",    # a が 1回\n",
    "    \"caaan\",  # a が 3回\n",
    "    \"cdn\"     # a ではなく d がある\n",
    "]\n",
    "\n",
    "# 4. 捜査の実行と結果報告\n",
    "print(f\"《捜査令状》: {pattern}\\n\")\n",
    "\n",
    "for t in texts:\n",
    "    match = re.search(pattern, t)\n",
    "    \n",
    "    # マッチしたかどうかで報告を変える\n",
    "    if match:\n",
    "        print(f\"「{t}」への捜査結果: マッチしました！ (発見場所: {match.group()})\")\n",
    "    else:\n",
    "        print(f\"「{t}」への捜査結果: 該当なし (None)\")"
   ]
  },
  {
   "cell_type": "code",
   "execution_count": null,
   "id": "43d38ce8",
   "metadata": {},
   "outputs": [
    {
     "name": "stdout",
     "output_type": "stream",
     "text": [
      "《捜査令状》: ca+n\n",
      "\n",
      "「cn」への捜査結果: 該当なし (None)\n",
      "「can」への捜査結果: マッチしました！ (発見場所: can)\n",
      "「caaan」への捜査結果: マッチしました！ (発見場所: caaan)\n",
      "「cdn」への捜査結果: 該当なし (None)\n"
     ]
    }
   ],
   "source": [
    "# 1. 正規表現チームをインポート\n",
    "import re\n",
    "\n",
    "# 2. 《捜査令状》\n",
    "pattern = r\"ca+n\"\n",
    "\n",
    "# 3. 捜査対象のリスト (先ほどと全く同じ)\n",
    "texts = [\n",
    "    \"cn\",     # a が 0回\n",
    "    \"can\",    # a が 1回\n",
    "    \"caaan\",  # a が 3回\n",
    "    \"cdn\"     # a ではなく d がある\n",
    "]\n",
    "\n",
    "# 4. 捜査の実行と結果報告\n",
    "print(f\"《捜査令状》: {pattern}\\n\")\n",
    "\n",
    "for t in texts:\n",
    "    pattern = re.search(pattern, t)\n",
    "    \n",
    "    # マッチしたかどうかで報告を変える\n",
    "    if match:\n",
    "        print(f\"「{t}」への捜査結果: マッチしました！ (発見場所: {match.group()})\")\n",
    "    else:\n",
    "        print(f\"「{t}」への捜査結果: 該当なし (None)\")"
   ]
  },
  {
   "cell_type": "code",
   "execution_count": 7,
   "id": "d28ff0df",
   "metadata": {},
   "outputs": [
    {
     "name": "stdout",
     "output_type": "stream",
     "text": [
      "《捜査令状》: c[ao]t\n",
      "\n",
      "「cat」への捜査結果: マッチしました！ (発見場所: cat)\n",
      "「cot」への捜査結果: マッチしました！ (発見場所: cot)\n",
      "「cut」への捜査結果: 該当なし (None)\n",
      "「cit」への捜査結果: 該当なし (None)\n"
     ]
    }
   ],
   "source": [
    "# 1. 正規表現チームをインポート\n",
    "import re\n",
    "\n",
    "# 2. 《捜査令状》\n",
    "pattern = r\"c[ao]t\"\n",
    "\n",
    "# 3. 捜査対象のリスト\n",
    "texts = [\n",
    "    \"cat\",  # 候補 (a)\n",
    "    \"cot\",  # 候補 (o)\n",
    "    \"cut\",  # 候補外 (u)\n",
    "    \"cit\"   # 候補外 (i)\n",
    "]\n",
    "\n",
    "# 4. 捜査の実行と結果報告\n",
    "print(f\"《捜査令状》: {pattern}\\n\")\n",
    "\n",
    "for t in texts:\n",
    "    match = re.search(pattern, t)\n",
    "    \n",
    "    # マッチしたかどうかで報告を変える\n",
    "    if match:\n",
    "        print(f\"「{t}」への捜査結果: マッチしました！ (発見場所: {match.group()})\")\n",
    "    else:\n",
    "        print(f\"「{t}」への捜査結果: 該当なし (None)\")"
   ]
  },
  {
   "cell_type": "code",
   "execution_count": 9,
   "id": "03578f96",
   "metadata": {},
   "outputs": [
    {
     "name": "stdout",
     "output_type": "stream",
     "text": [
      "《捜査令状》: c[aou]+t\n",
      "\n",
      "「cat」への捜査結果: マッチしました！ (発見場所: cat)\n",
      "「ceet」への捜査結果: 該当なし (None)\n",
      "「cout」への捜査結果: マッチしました！ (発見場所: cout)\n",
      "「ct」への捜査結果: 該当なし (None)\n",
      "「c_t」への捜査結果: 該当なし (None)\n",
      "「cut」への捜査結果: マッチしました！ (発見場所: cut)\n"
     ]
    }
   ],
   "source": [
    "# 1. 正規表現チームをインポート\n",
    "import re\n",
    "\n",
    "# 2. 《捜査令状》\n",
    "pattern = r\"c[aou]+t\" \n",
    "\n",
    "# 3. 捜査対象のリスト\n",
    "texts = [\n",
    "    \"cat\",   # 母音 (a) が 1回\n",
    "    \"ceet\",  # 母音 (e) が 2回\n",
    "    \"cout\",  # 母音 (o, u) が 2回\n",
    "    \"ct\",    # 母音が 0回\n",
    "    \"c_t\",   # 母音ではない文字\n",
    "    \"cut\"    # 母音 (u) が 1回\n",
    "]\n",
    "\n",
    "# 4. 捜査の実行と結果報告\n",
    "print(f\"《捜査令状》: {pattern}\\n\")\n",
    "\n",
    "for t in texts:\n",
    "    match = re.search(pattern, t)\n",
    "    \n",
    "    # マッチしたかどうかで報告を変える\n",
    "    if match:\n",
    "        print(f\"「{t}」への捜査結果: マッチしました！ (発見場所: {match.group()})\")\n",
    "    else:\n",
    "        print(f\"「{t}」への捜査結果: 該当なし (None)\")"
   ]
  },
  {
   "cell_type": "code",
   "execution_count": 10,
   "id": "a42f2bd1",
   "metadata": {},
   "outputs": [
    {
     "name": "stdout",
     "output_type": "stream",
     "text": [
      "《捜査令状》: c[aeiou]+t\n",
      "\n",
      "「cat」への捜査結果: マッチしました！ (発見場所: cat)\n",
      "「ceet」への捜査結果: マッチしました！ (発見場所: ceet)\n",
      "「cout」への捜査結果: マッチしました！ (発見場所: cout)\n",
      "「ct」への捜査結果: 該当なし (None)\n",
      "「c_t」への捜査結果: 該当なし (None)\n",
      "「cut」への捜査結果: マッチしました！ (発見場所: cut)\n"
     ]
    }
   ],
   "source": [
    "# 1. 正規表現チームをインポート\n",
    "import re\n",
    "\n",
    "# 2. 《捜査令状》\n",
    "pattern = r\"c[aeiou]+t\"\n",
    "\n",
    "# 3. 捜査対象のリスト\n",
    "texts = [\n",
    "    \"cat\",   # 母音 (a) が 1回\n",
    "    \"ceet\",  # 母音 (e) が 2回\n",
    "    \"cout\",  # 母音 (o, u) が 2回\n",
    "    \"ct\",    # 母音が 0回\n",
    "    \"c_t\",   # 母音ではない文字\n",
    "    \"cut\"    # 母音 (u) が 1回\n",
    "]\n",
    "\n",
    "# 4. 捜査の実行と結果報告\n",
    "print(f\"《捜査令状》: {pattern}\\n\")\n",
    "\n",
    "for t in texts:\n",
    "    match = re.search(pattern, t)\n",
    "    \n",
    "    # マッチしたかどうかで報告を変える\n",
    "    if match:\n",
    "        print(f\"「{t}」への捜査結果: マッチしました！ (発見場所: {match.group()})\")\n",
    "    else:\n",
    "        print(f\"「{t}」への捜査結果: 該当なし (None)\")"
   ]
  }
 ],
 "metadata": {
  "kernelspec": {
   "display_name": "Python (独学プログラマー用)",
   "language": "python",
   "name": "dokugaku-env"
  },
  "language_info": {
   "codemirror_mode": {
    "name": "ipython",
    "version": 3
   },
   "file_extension": ".py",
   "mimetype": "text/x-python",
   "name": "python",
   "nbconvert_exporter": "python",
   "pygments_lexer": "ipython3",
   "version": "3.12.4"
  }
 },
 "nbformat": 4,
 "nbformat_minor": 5
}
